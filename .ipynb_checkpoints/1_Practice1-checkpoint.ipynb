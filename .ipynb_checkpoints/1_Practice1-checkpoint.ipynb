{
  "cells": [
    {
      "metadata": {},
      "cell_type": "markdown",
      "source": "# Module 1 Lab\n## Sequence Index Practice\n\n-----\n\n### Student will be able to\n- Work with string characters\n- Slice strings into substrings\n- Iterate through string characters\n- Use string methods"
    },
    {
      "metadata": {},
      "cell_type": "markdown",
      "source": "## Task 1: Access String Characters \n### `working_string[index]`\n"
    },
    {
      "metadata": {
        "trusted": true
      },
      "cell_type": "code",
      "source": "# [ ] access and print the second character from planet_name: \"u\"\nplanet_name = \"Jupiter\"\nprint(planet_name[1])\n",
      "execution_count": 4,
      "outputs": [
        {
          "output_type": "stream",
          "text": "u\n",
          "name": "stdout"
        }
      ]
    },
    {
      "metadata": {
        "trusted": true
      },
      "cell_type": "code",
      "source": "# [ ] access and print the first character from planet_name: \"J\"\nplanet_name = \"Jupiter\"\nprint(planet_name[0])\n",
      "execution_count": 5,
      "outputs": [
        {
          "output_type": "stream",
          "text": "J\n",
          "name": "stdout"
        }
      ]
    },
    {
      "metadata": {
        "trusted": true
      },
      "cell_type": "code",
      "source": "# [ ] access and print the first and last characters from planet_name\nplanet_name = \"Jupiter\"\nprint(planet_name[0] + planet_name[-1])\n",
      "execution_count": 7,
      "outputs": [
        {
          "output_type": "stream",
          "text": "Jr\n",
          "name": "stdout"
        }
      ]
    },
    {
      "metadata": {
        "trusted": true
      },
      "cell_type": "code",
      "source": "# [ ] using a negative index access and print the first character from planet_name: \"J\"\nplanet_name = \"Jupiter\"\nprint(planet_name[-1*len(planet_name)])\n",
      "execution_count": 8,
      "outputs": [
        {
          "output_type": "stream",
          "text": "J\n",
          "name": "stdout"
        }
      ]
    },
    {
      "metadata": {},
      "cell_type": "markdown",
      "source": "## Task 2: Slice\n### `working_string[start:stop]`\n### `working_string[start:stop:step]`"
    },
    {
      "metadata": {
        "trusted": true
      },
      "cell_type": "code",
      "source": "# [ ] print planet_name sliced into the first 3 characters and remaining characters\nplanet_name = \"Neptune\"\nprint(planet_name[0:3],planet_name[3:])\n",
      "execution_count": 1,
      "outputs": [
        {
          "output_type": "stream",
          "text": "Nep tune\n",
          "name": "stdout"
        }
      ]
    },
    {
      "metadata": {
        "trusted": true
      },
      "cell_type": "code",
      "source": "# [ ] print 1st char and then every 3rd char of wise_words\n# use string slice with a step\nwise_words = 'Play it who opens'\nprint(wise_words[::3])\n",
      "execution_count": 4,
      "outputs": [
        {
          "output_type": "stream",
          "text": "Python\n",
          "name": "stdout"
        }
      ]
    },
    {
      "metadata": {
        "trusted": true
      },
      "cell_type": "code",
      "source": "# [ ] print planet_name in reverse\nprint(planet_name[::-1])\n",
      "execution_count": 5,
      "outputs": [
        {
          "output_type": "stream",
          "text": "enutpeN\n",
          "name": "stdout"
        }
      ]
    },
    {
      "metadata": {
        "trusted": true
      },
      "cell_type": "code",
      "source": "work_tip = \"Good code is commented code\"\n# [ ] find the number of 0's in the first half (slice) of work_tip\nprint(work_tip[:int(len(work_tip)/2)].count(\"0\"))\n\n",
      "execution_count": 7,
      "outputs": [
        {
          "output_type": "stream",
          "text": "0\n",
          "name": "stdout"
        }
      ]
    },
    {
      "metadata": {
        "trusted": true
      },
      "cell_type": "code",
      "source": "# [ ] print a substring of code_tip set start index = 13 and end index = 25\ncode_tip = \"code a conditional decision like you would say it\"\nprint(code_tip[13:25])\n",
      "execution_count": 8,
      "outputs": [
        {
          "output_type": "stream",
          "text": "ional decisi\n",
          "name": "stdout"
        }
      ]
    },
    {
      "metadata": {
        "collapsed": true
      },
      "cell_type": "markdown",
      "source": "## Task 3: Iterate a String\n### `for letter in sentence:`"
    },
    {
      "metadata": {
        "trusted": true
      },
      "cell_type": "code",
      "source": "# [ ] Get user input for 1 fav_food\n# [ ] iterate through letters in fav_food \n#    - print each letter on a new line\nfFood = input()\nfor l in fFood:\n    print(l)\n",
      "execution_count": 9,
      "outputs": [
        {
          "output_type": "stream",
          "name": "stdout",
          "text": "Spaghett\nS\np\na\ng\nh\ne\nt\nt\n"
        }
      ]
    },
    {
      "metadata": {
        "trusted": true
      },
      "cell_type": "code",
      "source": "# [ ] iterate work_tip string concatenate each letter to variable: new_string \n# [ ] concatenate the letter or a \"-\" instead of a space \" \"\n# tip: concatenate string example: word = word + \"a\"\nwork_tip = \"Good code is commented code\"\nnStr = \"\"\nfor l in work_tip:\n    if l == \" \":\n        nStr += \"-\"\n    else:\n        nStr += l\nprint(nStr)\n",
      "execution_count": 10,
      "outputs": [
        {
          "output_type": "stream",
          "text": "Good-code-is-commented-code\n",
          "name": "stdout"
        }
      ]
    },
    {
      "metadata": {
        "trusted": true
      },
      "cell_type": "code",
      "source": "# [ ] Print the first 4 letters of name on new line\nname = \"Hiroto\"\nfor l in name[0:4]:\n    print(l)\n",
      "execution_count": 11,
      "outputs": [
        {
          "output_type": "stream",
          "text": "H\ni\nr\no\n",
          "name": "stdout"
        }
      ]
    },
    {
      "metadata": {
        "trusted": true
      },
      "cell_type": "code",
      "source": "# [ ] Print every other letter from 2nd to last letter of name \nname = \"Hiroto\"\nfor l in name[-1:0:-2]:\n    print(l)\n",
      "execution_count": null,
      "outputs": [
        {
          "output_type": "stream",
          "text": "o\nt\no\nr\n",
          "name": "stdout"
        }
      ]
    },
    {
      "metadata": {},
      "cell_type": "markdown",
      "source": ""
    },
    {
      "metadata": {},
      "cell_type": "markdown",
      "source": "## Task 4 (program): Mystery Name\n- Get user input for first_name\n- Create an empty string variable: new_name\n- Iterate through letters in first_name Backwards \n  - Add each letter to new_name as you iterate\n  - Replace the letter if \"e\", \"t\" or \"a\" with \"?\" *(hint: if, elif, elif, else)*\n- Print new_name  \n\n**example: \"Alton\" = \"no?l?\"**"
    },
    {
      "metadata": {
        "trusted": true
      },
      "cell_type": "code",
      "source": "# [ ] Create Mystery Name\nfName = input()\nnName = \"\"\nfor l in fName[::-1]:\n    if l in \"eta\":\n        nName += \"?\"\n    else:\n        nName += l\nprint(nName)",
      "execution_count": 1,
      "outputs": [
        {
          "output_type": "stream",
          "name": "stdout",
          "text": "Nathan\nn?h??N\n"
        }
      ]
    },
    {
      "metadata": {},
      "cell_type": "markdown",
      "source": "## Task 5: `len(), .find(), .count()`   \n\n```  \n- len(working_string)\n- .find(\"i\")\n- .find(\"i\",start)\n- .find(\"i\", start, end)\n- .count(\"i\")\n- .count(\"i\", start)\n- .count(\"i\", start, end)\n```   "
    },
    {
      "metadata": {
        "trusted": true
      },
      "cell_type": "code",
      "source": "# [ ] find and display the length of the string: topic\ntopic = \".find() returns the length of a string\"\nprint(len(topic))\n",
      "execution_count": 2,
      "outputs": [
        {
          "output_type": "stream",
          "text": "38\n",
          "name": "stdout"
        }
      ]
    },
    {
      "metadata": {
        "trusted": true
      },
      "cell_type": "code",
      "source": "# [ ] use len() to find and display the mid_pt (middle) index (+/- 1) of the string: topic\n# note: index values are whole numbers\ntopic = \"len() can take a sequence, like a string, as an argument\"\nprint(int(len(topic)/2))\n",
      "execution_count": 3,
      "outputs": [
        {
          "output_type": "stream",
          "text": "28\n",
          "name": "stdout"
        }
      ]
    },
    {
      "metadata": {
        "trusted": true
      },
      "cell_type": "code",
      "source": "# [ ] print index where first instance of the word  \"code\" starts using .find()\nwork_tip = \"Good code is commented code\"\nprint(work_tip.find(\"code\"))\n",
      "execution_count": 4,
      "outputs": [
        {
          "output_type": "stream",
          "text": "5\n",
          "name": "stdout"
        }
      ]
    },
    {
      "metadata": {
        "trusted": true
      },
      "cell_type": "code",
      "source": "# [ ] search for \"code\" in code_tip using .find() \n# [ ] search substring with substring index start= 13,end = last char \n# [ ] save result in varible: code_index\n# [ ] display index of where \"code\" is found, or print \"not found\" if code_index == -1\nwork_tip = \"Good code is commented code\"\nwork_tip.find(\"code\")\ncIndx = work_tip.find(\"code\",13)\nif cIndx == -1:\n    print(\"not found\")\nelse:\n    print(cIndx)",
      "execution_count": 5,
      "outputs": [
        {
          "output_type": "stream",
          "text": "23\n",
          "name": "stdout"
        }
      ]
    },
    {
      "metadata": {
        "collapsed": true
      },
      "cell_type": "markdown",
      "source": "## Task 6"
    },
    {
      "metadata": {
        "trusted": true
      },
      "cell_type": "code",
      "source": "# [ ] find and report (print) number of w's, o's + use of word \"code\"\nwork_tip = \"Good code is commented code\"\nprint(work_tip.count(\"w\"))\nprint(work_tip.count(\"o\"))\nprint(work_tip.count(\"code\"))",
      "execution_count": 6,
      "outputs": [
        {
          "output_type": "stream",
          "text": "0\n5\n2\n",
          "name": "stdout"
        }
      ]
    },
    {
      "metadata": {
        "trusted": true
      },
      "cell_type": "code",
      "source": "# [ ]  count times letter \"i\" appears in code_tip string\n# [ ] find and display the index of all the letter i's in code_tip\n# Remember: if .find(\"i\") has No Match, -1 is returned\ncode_tip = \"code a conditional decision like you would say it\"\nprint (\"code_tip:\" , code_tip)\nprint(code_tip.count(\"i\"))\nwhile code_tip.find(\"i\") != -1:\n    print(code_tip.find(\"i\"))\n    code_tip = code_tip.replace(\"i\",\"1\",1)\n    ",
      "execution_count": 7,
      "outputs": [
        {
          "output_type": "stream",
          "text": "code_tip: code a conditional decision like you would say it\n6\n11\n13\n22\n24\n29\n47\n",
          "name": "stdout"
        }
      ]
    },
    {
      "metadata": {},
      "cell_type": "markdown",
      "source": "## Task 7 (program): Words after \"G\"/\"g\"\nCreate a program that inputs a quote (a sentence without punctuation) and prints all of the words that start with h-z.\n- Split the words by building a placeholder variable: word, and adding a letter each loop until a non-alpha char is encountered\n- **if** non-alpha detected (space, punctuation, digit,...) defines the end of a word\n- **else, check if** word is greater than \"g\" alphabetically, print word and set word = empty string\n- or **else** set word = empty string and build the next word  \n\nHint: use `.lower()`."
    },
    {
      "metadata": {
        "trusted": true,
        "scrolled": true
      },
      "cell_type": "code",
      "source": "# [] create words after \"G\"\n# sample quote \"Wheresoever you go, go with all your heart\" ~ Confucius (551 BC - 479 BC)\nwords = ['']\nquote = input(\"Quote: \")\ni = 0\nfor l in quote:\n    if l == ' ':\n        i += 1\n        words += ['']\n    elif l.isalpha():\n        words[i] += l\nfor w in words:\n    if w.lower() > \"g\":\n        print(w)",
      "execution_count": 11,
      "outputs": [
        {
          "output_type": "stream",
          "name": "stdout",
          "text": "Quote: Wheresoever you go, go with all your heart.\nWheresoever\nyou\ngo\ngo\nwith\nyour\nheart\n"
        }
      ]
    },
    {
      "metadata": {
        "trusted": true
      },
      "cell_type": "code",
      "source": "quote = input(\"Quote: \")\nword = \"\"\nfor l in quote:\n    if not(l.isalpha()):\n        if word.lower() > \"g\":\n            print(word)\n        word = \"\"\n    else:\n        word += l  \nprint(word)",
      "execution_count": 14,
      "outputs": [
        {
          "output_type": "stream",
          "name": "stdout",
          "text": "Quote: Wheresoever you go, go with all your heart\nWheresoever\nyou\ngo\ngo\nwith\nyour\nheart\n"
        }
      ]
    },
    {
      "metadata": {
        "collapsed": true
      },
      "cell_type": "markdown",
      "source": "[Terms of use](http://go.microsoft.com/fwlink/?LinkID=206977) &nbsp; [Privacy & cookies](https://go.microsoft.com/fwlink/?LinkId=521839) &nbsp; © 2017 Microsoft"
    }
  ],
  "metadata": {
    "anaconda-cloud": {},
    "kernelspec": {
      "name": "python3",
      "display_name": "Python 3",
      "language": "python"
    },
    "language_info": {
      "mimetype": "text/x-python",
      "nbconvert_exporter": "python",
      "name": "python",
      "pygments_lexer": "ipython3",
      "version": "3.5.4",
      "file_extension": ".py",
      "codemirror_mode": {
        "version": 3,
        "name": "ipython"
      }
    }
  },
  "nbformat": 4,
  "nbformat_minor": 1
}