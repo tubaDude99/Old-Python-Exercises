{
  "cells": [
    {
      "metadata": {
        "trusted": true,
        "scrolled": true
      },
      "cell_type": "code",
      "source": "import random\n\nt = [[\" \",\" \",\" \"],[\" \",\" \",\" \"],[\" \",\" \",\" \"]]\nts = ['A1','A2','A3','B1','B2','B3','C1','C2','C3']\n\ndef grid():\n    print(\"\\n3 %s | %s | %s\" %(t[0][2],t[1][2],t[2][2]))\n    print(\" ---|---|---\")\n    print(\"2 %s | %s | %s\" %(t[0][1],t[1][1],t[2][1]))\n    print(\" ---|---|---\")\n    print(\"1 %s | %s | %s\" %(t[0][0],t[1][0],t[2][0]))\n    print(\"  A   B   C\")\n\ndef win():\n    w = ''\n    for x in range(3):\n        if t[x][0] == t[x][1] == t[x][2] and t[x][0] != ' ':\n            w = t[x][0]\n    for x in range(3):\n        if t[0][x] == t[1][x] == t[2][x] and t[0][x] != ' ':\n            w = t[0][x]\n    if t[0][0] == t[1][1] == t[2][2] and t[1][1] != ' ':\n        w = t[1][1]\n    if t[0][2] == t[1][1] == t[2][0] and t[1][1] != ' ':\n        w = t[1][1]\n    if w == 'X':\n        grid()\n        print('\\nPlayer One Wins!')\n    elif w == 'O':\n        grid()\n        print('\\nPlayer Two Wins!')\n    return(w)\n\ndef stale():\n    q = 1\n    for i in t:\n        for x in i:\n            if x == \" \":\n                q = 0\n    if q:\n        grid()\n        print(\"\\nStalemate!\\nNo Winner\")\n        return(True)\n    else:\n        return(False)\n\nwhile 1:\n    grid()\n    print(\"\\n\\n[Player One]\")\n    while 1:\n        a = input(\"Move: (x,y) \")\n        i = [' ',' ']\n        for d in a:\n            if d.isdigit():\n                y = int(d) - 1\n                i[1] = d\n            if d.isalpha():\n                if d.lower() == 'a':\n                    x = 0\n                elif d.lower() == 'b':\n                    x = 1\n                elif d.lower() == 'c':\n                    x = 2\n                i[0] = d.upper()\n        i = i[0] + i[1]\n        if type(x) == int and type(y) == int:\n            if 0 <= x <= 2 and 0 <= y <= 2 and t[x][y] == \" \":\n                break\n        else:\n            print(x, type(x))\n            print(y, type(y))\n    ts.remove(i)\n    t[x][y] = \"X\"\n    if win() or stale():\n        break\n    grid()\n    print(\"\\n\\n[Player Two]\")\n    a = ts[random.randint(0,len(ts)-1)]\n    if a[0].lower() == 'a':\n        x = 0\n    elif a[0].lower() == 'b':\n        x = 1\n    elif a[0].lower() == 'c':\n        x = 2\n    y = int(a[1]) - 1\n    ts.remove(a)\n    t[x][y] = \"O\"\n    if win() or stale():\n        break",
      "execution_count": 7,
      "outputs": [
        {
          "output_type": "stream",
          "text": "\n3   |   |  \n ---|---|---\n2   |   |  \n ---|---|---\n1   |   |  \n  A   B   C\n\n\n[Player One]\nMove: (x,y) C3\n\n3   |   | X\n ---|---|---\n2   |   |  \n ---|---|---\n1   |   |  \n  A   B   C\n\n\n[Player Two]\n\n3 O |   | X\n ---|---|---\n2   |   |  \n ---|---|---\n1   |   |  \n  A   B   C\n\n\n[Player One]\nMove: (x,y) A2\n\n3 O |   | X\n ---|---|---\n2 X |   |  \n ---|---|---\n1   |   |  \n  A   B   C\n\n\n[Player Two]\n\n3 O |   | X\n ---|---|---\n2 X | O |  \n ---|---|---\n1   |   |  \n  A   B   C\n\n\n[Player One]\nMove: (x,y) C1\n\n3 O |   | X\n ---|---|---\n2 X | O |  \n ---|---|---\n1   |   | X\n  A   B   C\n\n\n[Player Two]\n\n3 O |   | X\n ---|---|---\n2 X | O |  \n ---|---|---\n1   | O | X\n  A   B   C\n\n\n[Player One]\nMove: (x,y) B3\n\n3 O | X | X\n ---|---|---\n2 X | O |  \n ---|---|---\n1   | O | X\n  A   B   C\n\n\n[Player Two]\n\n3 O | X | X\n ---|---|---\n2 X | O |  \n ---|---|---\n1 O | O | X\n  A   B   C\n\n\n[Player One]\nMove: (x,y) C2\n\n3 O | X | X\n ---|---|---\n2 X | O | X\n ---|---|---\n1 O | O | X\n  A   B   C\n\nPlayer One Wins!\n",
          "name": "stdout"
        }
      ]
    },
    {
      "metadata": {
        "trusted": true
      },
      "cell_type": "code",
      "source": "ts",
      "execution_count": 4,
      "outputs": [
        {
          "output_type": "execute_result",
          "execution_count": 4,
          "data": {
            "text/plain": "[]"
          },
          "metadata": {}
        }
      ]
    }
  ],
  "metadata": {
    "kernelspec": {
      "name": "python36",
      "display_name": "Python 3.6",
      "language": "python"
    },
    "language_info": {
      "mimetype": "text/x-python",
      "nbconvert_exporter": "python",
      "name": "python",
      "pygments_lexer": "ipython3",
      "version": "3.6.6",
      "file_extension": ".py",
      "codemirror_mode": {
        "version": 3,
        "name": "ipython"
      }
    }
  },
  "nbformat": 4,
  "nbformat_minor": 2
}