{
  "cells": [
    {
      "metadata": {},
      "cell_type": "markdown",
      "source": "\n#  Module 3 Project \n\nCourse 40461: Introduction to Python, Unit 2\n\nThis is an activity based on the Module 3 Lab, which you may have already completed.\n\n|  Assignment Requirements |  \n|:-------------------------------|  \n| **NOTE:** This program requires **`print`** output and using code syntax used in Module 3: **`if`**, **`input`**, **`def`**, **`return`**, **`for`**/**`in`** keywords, **`.lower()`** and **`.upper()`** method, **`.append`**, **`.pop`**, **`.split`** methods, **`range`** and **`len`** functions  |  \n\n## Program: Poem mixer  \nThis program takes string input and then prints out a mixed order version of the string.    \n\n\n**Program Parts**  \n- **program flow** gathers the word list, modifies the case and order, and prints.      \n  - Get string input, input like a poem, verse or saying \n  - Split the string into a list of individual words  \n  - Determine the length of the list\n  - Loop the length of the list by index number and for each list index:  \n    - If a word is short (3 letters or less) make the word in the list lowercase \n    - If a word is long (7 letters or more) make the word in the list uppercase   \n  - **Call the word_mixer** function with the modified list  \n  - Print the return value from the word_mixer function  \n\n- **word_mixer** Function has one argument: an original list of string words, containing greater than five words, and the function returns a new list.\n  - Sort the original list  \n  - Create a new list  \n  - Loop while the list is longer than 5 words:  \n    - *In each loop pop a word from the sorted original list and append to the new list*  \n    - Pop the word 5th from the end of the list and append to the new list  \n    - Pop the first word in the list and append to the new list  \n    - Pop the last word in the list and append to the new list  \n  - **Return** the new list on exiting the loop\n\n\n\n![TODO: upload image to blob](https://qitcyg-ch3302.files.1drv.com/y4mtK8FJlu7bvNCw_NFrJNnMEX05-bGQKZ-ljIB7ofo8jg14zZKLdYrjXQfPcL1PnNKqaBc_v85pd-47J8BBRN3Eg5LXSmxbhZG99zHmQwVTSQBd6n3S1IXgcG0lqjA8PGW1NVMQyPtX-_m_sGry5j1iCJzjiZmUrFmGckPrEYxvjPIHHelgxQ4oVYG32S32otj0cdV8f9aDv3cnvb9AvDKqg?width=727&height=586&cropmode=none)\n\n\n **input example**  *(beginning of William Blake poem, \"The Fly\")*\n\n >enter a saying or poem: `Little fly, Thy summer’s play My thoughtless hand Has brushed away. Am not I A fly like thee? Or art not thou A man like me?`  \n\n\n**output example**   \n>`or BRUSHED thy not Little thou me? SUMMER’S thee? like THOUGHTLESS play i a not hand a my fly am man`\n\n\n**alternative output** in each loop in the function that creates the new list add a \"\\\\n\" to the list   \n```\n or BRUSHED thy \n not Little thou \n me? SUMMER’S thee? \n like THOUGHTLESS play \n i a not \n hand a my \n fly am man\n```\n\n"
    },
    {
      "metadata": {
        "trusted": true
      },
      "cell_type": "code",
      "source": "# [] create poem mixer\ndef wMix(orig):\n    orig.sort()\n    new = []\n    while len(orig) > 5:\n        new.append(orig.pop(-5))\n        new.append(orig.pop(0))\n        new.append(orig.pop())\n        new.append(\"\\n\")\n    return(new)\nwords = input(\"Poem, verse or saying: \").split()\nfor x in range(len(words)):\n    if len(words[x]) <= 3:\n        words[x] = words[x].lower()\n    if len(words[x]) >= 7:\n        words[x] = words[x].upper()\nprint()\nfor x in wMix(words):\n    if x == \"\\n\":\n        print(x, end = '')\n    else:\n        print(x, end = \" \")",
      "execution_count": 13,
      "outputs": [
        {
          "output_type": "stream",
          "name": "stdout",
          "text": "Poem, verse or saying: Little fly, Thy summer’s play My thoughtless hand Has brushed away. Am not I A fly like thee? Or art not thou A man like me?\n\nor BRUSHED thy \nnot Little thou \nme? SUMMER’S thee? \nlike THOUGHTLESS play \ni a not \nhand a my \nfly am man \n"
        }
      ]
    },
    {
      "metadata": {},
      "cell_type": "markdown",
      "source": "[Terms of use](http://go.microsoft.com/fwlink/?LinkID=206977) &nbsp; [Privacy & cookies](https://go.microsoft.com/fwlink/?LinkId=521839) &nbsp; © 2017 Microsoft"
    }
  ],
  "metadata": {
    "anaconda-cloud": {},
    "kernelspec": {
      "name": "python3",
      "display_name": "Python 3",
      "language": "python"
    },
    "language_info": {
      "mimetype": "text/x-python",
      "nbconvert_exporter": "python",
      "name": "python",
      "pygments_lexer": "ipython3",
      "version": "3.5.4",
      "file_extension": ".py",
      "codemirror_mode": {
        "version": 3,
        "name": "ipython"
      }
    }
  },
  "nbformat": 4,
  "nbformat_minor": 1
}