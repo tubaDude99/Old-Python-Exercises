{
  "cells": [
    {
      "metadata": {},
      "cell_type": "markdown",
      "source": "# Section 2.3\n## Functions, Arguments, and Parameters\n- Creating a simple function with parameters\n- Exploring functions with `return` values \n- Creating functions with multiple parameters\n- **Sequence in python**  \n\n-----\n\n### Student will be able to\n- Create functions with a parameter  \n- Create functions with a `return` value \n- Create functions with multiple parameters\n- **Use knowledge of sequence in coding tasks**  \n- **Use coding best practices** "
    },
    {
      "metadata": {},
      "cell_type": "markdown",
      "source": "## Concept: Sequence\nIn programming, **sequence** refers to the order that code is processed.  Objects in Python, such as variables and functions, are not available until they have been processed. \n\nProcessing sequence flows from the top of a page of code to the bottom. This often means that **Function definitions are placed at the beginning of a page of code.**\n\n[![view video](https://iajupyterprodblobs.blob.core.windows.net/imagecontainer/common/play_video.png)]( http://edxinteractivepage.blob.core.windows.net/edxpages/f7cff1a7-5601-48a1-95a6-fd1fdfabd20e.html?details=[{\"src\":\"http://jupyternootbookwams.streaming.mediaservices.windows.net/29ebdee3-33e8-487f-9c73-621219e5e6d2/Unit1_Section3.3-Object_Sequence.ism/manifest\",\"type\":\"application/vnd.ms-sstr+xml\"}],[{\"src\":\"http://jupyternootbookwams.streaming.mediaservices.windows.net/29ebdee3-33e8-487f-9c73-621219e5e6d2/Unit1_Section3.3-Object_Sequence.vtt\",\"srclang\":\"en\",\"kind\":\"subtitles\",\"label\":\"english\"}])\n\nIn the sample below, the function **`hat_color`** cannot be accessed since it is initialized after it is called at the bottom of the code.  \n```python\nhave_hat = hat_available('green')  \n  \nprint('hat available is', have_hat)\n\ndef hat_available(color):\n    hat_colors = 'black, red, blue, green, white, grey, brown, pink'\n    return(color.lower() in hat_colors)\n```  \nThis results in an error - the code flows from top to bottom is in the incorrect **sequence**. \n```python\nNameError: name 'hat_available' is not defined\n```\nIn the statement &nbsp; **`have_hat = hat_available('green')`** &nbsp; the function &nbsp; **`hat_available()`** &nbsp; needs to be called after the function has been defined.\n> **Note:** an argument or variable is said to be **hard coded** when assigned a literal or constant value.  \n    It is a good habit to avoid creating hard coded values in functions, such as  \n    `hat_colors = 'black, red, blue, green, white, grey, brown, pink'`."
    },
    {
      "metadata": {},
      "cell_type": "markdown",
      "source": "### Examples"
    },
    {
      "metadata": {
        "trusted": true
      },
      "cell_type": "code",
      "source": "# review and run code - note: fix error in the following \"tasks\" section\nhave_hat = hat_available('green')  \n  \nprint('hat available is', have_hat)\n\ndef hat_available(color):\n    hat_colors = 'black, red, blue, green, white, grey, brown, pink'\n    # return Boolean\n    return(color.lower() in hat_colors)",
      "execution_count": 1,
      "outputs": [
        {
          "output_type": "error",
          "ename": "NameError",
          "evalue": "name 'hat_available' is not defined",
          "traceback": [
            "\u001b[0;31m---------------------------------------------------------------------------\u001b[0m",
            "\u001b[0;31mNameError\u001b[0m                                 Traceback (most recent call last)",
            "\u001b[0;32m<ipython-input-1-5edef9d565f5>\u001b[0m in \u001b[0;36m<module>\u001b[0;34m()\u001b[0m\n\u001b[1;32m      1\u001b[0m \u001b[0;31m# review and run code - note: fix error in the following \"tasks\" section\u001b[0m\u001b[0;34m\u001b[0m\u001b[0;34m\u001b[0m\u001b[0m\n\u001b[0;32m----> 2\u001b[0;31m \u001b[0mhave_hat\u001b[0m \u001b[0;34m=\u001b[0m \u001b[0mhat_available\u001b[0m\u001b[0;34m(\u001b[0m\u001b[0;34m'green'\u001b[0m\u001b[0;34m)\u001b[0m\u001b[0;34m\u001b[0m\u001b[0m\n\u001b[0m\u001b[1;32m      3\u001b[0m \u001b[0;34m\u001b[0m\u001b[0m\n\u001b[1;32m      4\u001b[0m \u001b[0mprint\u001b[0m\u001b[0;34m(\u001b[0m\u001b[0;34m'hat available is'\u001b[0m\u001b[0;34m,\u001b[0m \u001b[0mhave_hat\u001b[0m\u001b[0;34m)\u001b[0m\u001b[0;34m\u001b[0m\u001b[0m\n\u001b[1;32m      5\u001b[0m \u001b[0;34m\u001b[0m\u001b[0m\n",
            "\u001b[0;31mNameError\u001b[0m: name 'hat_available' is not defined"
          ]
        }
      ]
    },
    {
      "metadata": {},
      "cell_type": "markdown",
      "source": "## Task 1: Change the Sequence to fix the `NameError`\n- [ ] Fix the code **sequence** so the &nbsp;**`hat_available()`** &nbsp;function is availabe when called and the code runs without error"
    },
    {
      "metadata": {
        "trusted": true
      },
      "cell_type": "code",
      "source": "# [ ] fix the sequence of the code to remove the NameError\n\ndef hat_available(color):\n    hat_colors = 'black, red, blue, green, white, grey, brown, pink'\n    return(color.lower() in hat_colors)\n\nhave_hat = hat_available('green')  \n  \nprint('hat available is', have_hat)\n\n",
      "execution_count": 2,
      "outputs": [
        {
          "output_type": "stream",
          "text": "hat available is True\n",
          "name": "stdout"
        }
      ]
    },
    {
      "metadata": {},
      "cell_type": "markdown",
      "source": "## Concept: Avoid Hard-Coding\n### \"Hard-coding\" is placing data values directly into code\nAn example of hard-coding from above is **`have_hat = hat_available('green')`**  where the argument `'green'` is hard-coded.\n\nA programming best practice is to **avoid hard-coding values when possible**.\n- Use variables and verse hard-coded \n- Often preferable to use input such as a configuration file (advanced topic) or user input.\nThese practices allow changing the data without disturbing the main code and makes code more reusable.\n"
    },
    {
      "metadata": {},
      "cell_type": "markdown",
      "source": "## Task 2 (program): bird_available\nThe program should ask for user to \"input a bird name to check for availability\" and print a statement informing of availability.\n[![view video](https://iajupyterprodblobs.blob.core.windows.net/imagecontainer/common/play_video.png)]( http://edxinteractivepage.blob.core.windows.net/edxpages/f7cff1a7-5601-48a1-95a6-fd1fdfabd20e.html?details=[{\"src\":\"http://jupyternootbookwams.streaming.mediaservices.windows.net/767e4db3-7909-4829-99db-fd6750ea5d54/Unit1_Section3.3-Bird_Available.ism/manifest\",\"type\":\"application/vnd.ms-sstr+xml\"}],[{\"src\":\"http://jupyternootbookwams.streaming.mediaservices.windows.net/767e4db3-7909-4829-99db-fd6750ea5d54/Unit1_Section3.3-Bird_Available.vtt\",\"srclang\":\"en\",\"kind\":\"subtitles\",\"label\":\"english\"}])\n### Create this program with a Boolean function `bird_available()`\n- Has parameter that takes the name of a type of bird\n- For this exercise the variable `bird_types = 'crow robin parrot eagle sandpiper hawk piegon'`\n- Return `True` or `False` (we are making a Boolean Function)\n- Call the function using the name of a bird type from user input\n- Print a sentence that indicates the availablity of the type of bird checked\n"
    },
    {
      "metadata": {
        "trusted": true
      },
      "cell_type": "code",
      "source": "# [ ] create function bird_available\nbird_types = 'crow robin parrot eagle sandpiper hawk piegon'\ndef bird_available(bird):\n    return(bird in bird_types)\n# [ ] user input\n\n# [ ] call bird_available\navailable = bird_available(input(\"What bird do you want? \"))\n# [ ] print availbility status\nif available:\n    print(\"We have that bird.\")\nelse:\n    print(\"We do not have that bird.\")",
      "execution_count": 4,
      "outputs": [
        {
          "output_type": "stream",
          "name": "stdout",
          "text": "What bird do you want? Hawk\nWe do not have that bird.\n"
        }
      ]
    },
    {
      "metadata": {
        "collapsed": true
      },
      "cell_type": "markdown",
      "source": "## Task 3: Fix the error\n"
    },
    {
      "metadata": {
        "trusted": true
      },
      "cell_type": "code",
      "source": "# define function how_many\ndef how_many():\n    requested = input(\"enter how many you want: \")\n    return requested\n\n# get the number_needed\nnumber_needed = how_many()\nprint(number_needed, \"will be ordered\")\n\n",
      "execution_count": 6,
      "outputs": [
        {
          "output_type": "stream",
          "name": "stdout",
          "text": "enter how many you want: 21\n21 will be ordered\n"
        }
      ]
    },
    {
      "metadata": {
        "collapsed": true
      },
      "cell_type": "markdown",
      "source": "[Terms of use](http://go.microsoft.com/fwlink/?LinkID=206977) &nbsp; [Privacy & cookies](https://go.microsoft.com/fwlink/?LinkId=521839) &nbsp; © 2017 Microsoft"
    }
  ],
  "metadata": {
    "anaconda-cloud": {},
    "kernelspec": {
      "name": "python3",
      "display_name": "Python 3",
      "language": "python"
    },
    "language_info": {
      "mimetype": "text/x-python",
      "nbconvert_exporter": "python",
      "name": "python",
      "pygments_lexer": "ipython3",
      "version": "3.5.4",
      "file_extension": ".py",
      "codemirror_mode": {
        "version": 3,
        "name": "ipython"
      }
    }
  },
  "nbformat": 4,
  "nbformat_minor": 1
}