{
  "cells": [
    {
      "metadata": {
        "trusted": true
      },
      "cell_type": "code",
      "source": "name = \"Nathan\"\nage = 15\nfavClass = \"Math\"\nsleep = 7\nband = \"Journey\"\nprint(name)\nprint(age)\nprint(favClass)\nprint(sleep)\nprint(band)",
      "execution_count": 1,
      "outputs": [
        {
          "output_type": "stream",
          "text": "Nathan\n15\nMath\n7\nJourney\n",
          "name": "stdout"
        }
      ]
    }
  ],
  "metadata": {
    "kernelspec": {
      "name": "python36",
      "display_name": "Python 3.6",
      "language": "python"
    },
    "language_info": {
      "mimetype": "text/x-python",
      "nbconvert_exporter": "python",
      "name": "python",
      "pygments_lexer": "ipython3",
      "version": "3.6.6",
      "file_extension": ".py",
      "codemirror_mode": {
        "version": 3,
        "name": "ipython"
      }
    }
  },
  "nbformat": 4,
  "nbformat_minor": 2
}