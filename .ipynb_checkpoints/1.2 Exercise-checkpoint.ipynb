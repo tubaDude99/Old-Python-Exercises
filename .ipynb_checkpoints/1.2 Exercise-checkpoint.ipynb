{
  "cells": [
    {
      "metadata": {
        "trusted": true
      },
      "cell_type": "code",
      "source": "from datetime import datetime, time, date\nd = datetime.today()\nprint(d)\nprint(d.year)\nprint(d.month)\nprint(d.strftime(\"%V\"))\nprint(d.strftime(\"%A\"))\nprint(d.strftime(\"%j\"))\nprint(d.strftime(\"%d\"))\nprint(d.strftime(\"%A (%w)\"))",
      "execution_count": 10,
      "outputs": [
        {
          "output_type": "stream",
          "text": "2019-12-17 16:25:40.516055\n2019\n12\n51\nTuesday\n351\n17\nTuesday (2)\n",
          "name": "stdout"
        }
      ]
    },
    {
      "metadata": {
        "trusted": true
      },
      "cell_type": "code",
      "source": "y = int(input())\nif (y % 4 == 0) and not((y % 100 == 0) and not(y % 400 == 0)):\n    print(\"Leap year\")\nelse:\n    print(\"Not leap year\")",
      "execution_count": 17,
      "outputs": [
        {
          "output_type": "stream",
          "name": "stdout",
          "text": "1900\nNot leap year\n"
        }
      ]
    },
    {
      "metadata": {
        "trusted": true
      },
      "cell_type": "code",
      "source": "from datetime import time, datetime\nprint(datetime.today().time())",
      "execution_count": 27,
      "outputs": [
        {
          "output_type": "stream",
          "text": "16:30:59.956914\n",
          "name": "stdout"
        }
      ]
    },
    {
      "metadata": {
        "trusted": true
      },
      "cell_type": "code",
      "source": "t = datetime.today().date()\nprint(t)\nt = t.replace(day = (t.day - 5))\nprint(t)",
      "execution_count": 35,
      "outputs": [
        {
          "output_type": "stream",
          "text": "2019-12-17\n2019-12-12\n",
          "name": "stdout"
        }
      ]
    },
    {
      "metadata": {
        "trusted": true
      },
      "cell_type": "code",
      "source": "y = datetime.today().date().replace(day = (datetime.today().day - 1))\ntd = datetime.today().date()\ntm = datetime.today().date().replace(day = (datetime.today().day + 1))\nprint(\"Yesterday:\\t\", y, \"\\nToday:\\t\\t\", td, \"\\nTomorrow:\\t\", tm)",
      "execution_count": 44,
      "outputs": [
        {
          "output_type": "stream",
          "text": "Yesterday:\t 2019-12-16 \nToday:\t\t 2019-12-17 \nTomorrow:\t 2019-12-18\n",
          "name": "stdout"
        }
      ]
    }
  ],
  "metadata": {
    "kernelspec": {
      "name": "python36",
      "display_name": "Python 3.6",
      "language": "python"
    },
    "language_info": {
      "mimetype": "text/x-python",
      "nbconvert_exporter": "python",
      "name": "python",
      "pygments_lexer": "ipython3",
      "version": "3.6.6",
      "file_extension": ".py",
      "codemirror_mode": {
        "version": 3,
        "name": "ipython"
      }
    }
  },
  "nbformat": 4,
  "nbformat_minor": 2
}