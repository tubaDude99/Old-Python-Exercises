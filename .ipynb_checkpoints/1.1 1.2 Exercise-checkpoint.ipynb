{
  "cells": [
    {
      "metadata": {
        "trusted": true
      },
      "cell_type": "code",
      "source": "while True:\n    fName = input(\"What is your first name? \")\n    if fName == \"exit\":\n        break\n    lName = input(\"What is your last name? \")\n    if lName == \"exit\":\n        break\n    print(fName[0] + \". \" + lName[0] + \".\")",
      "execution_count": 3,
      "outputs": [
        {
          "output_type": "stream",
          "name": "stdout",
          "text": "What is your first name? Nathan\nWhat is your last name? Battle\nN. B.\nWhat is your first name? Timothy\nWhat is your last name? Williams\nT. W.\nWhat is your first name? Priya\nWhat is your last name? Chilukuri\nP. C.\nWhat is your first name? exit\n"
        }
      ]
    },
    {
      "metadata": {
        "trusted": true
      },
      "cell_type": "code",
      "source": "costu = input(\"What is your Halloween costume? \")\ng = \"\"\nwhile g != costu[0]:\n    g = input(\"What's the first letter of the costume? \")\n    if g != costu[0]:\n        print(\"Try again.\")\nprint(\"Correct!\")",
      "execution_count": 5,
      "outputs": [
        {
          "output_type": "stream",
          "name": "stdout",
          "text": "What is your Halloween costume? Nothing\nWhat's the first letter of the costume? h\nTry again.\nWhat's the first letter of the costume? g\nTry again.\nWhat's the first letter of the costume? a\nTry again.\nWhat's the first letter of the costume? b\nTry again.\nWhat's the first letter of the costume? n\nTry again.\nWhat's the first letter of the costume? N\nCorrect!\n"
        }
      ]
    }
  ],
  "metadata": {
    "kernelspec": {
      "name": "python36",
      "display_name": "Python 3.6",
      "language": "python"
    },
    "language_info": {
      "mimetype": "text/x-python",
      "nbconvert_exporter": "python",
      "name": "python",
      "pygments_lexer": "ipython3",
      "version": "3.6.6",
      "file_extension": ".py",
      "codemirror_mode": {
        "version": 3,
        "name": "ipython"
      }
    }
  },
  "nbformat": 4,
  "nbformat_minor": 2
}