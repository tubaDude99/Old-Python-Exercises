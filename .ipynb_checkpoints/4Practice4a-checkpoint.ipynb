{
  "cells": [
    {
      "metadata": {},
      "cell_type": "markdown",
      "source": "# Lab 4a\n## Nested Conditionals\n\n-----\n\n### Student will be able to\n- Create nested conditional logic in code  \n- Print format print using escape sequence (**\\**)"
    },
    {
      "metadata": {},
      "cell_type": "markdown",
      "source": "## Tasks"
    },
    {
      "metadata": {
        "trusted": true
      },
      "cell_type": "code",
      "source": "# [ ] print a string that outputs the following exactly: The new line character is \"\\n\"\nprint(\"The new line character is \\\"\\\\n\\\"\")\n",
      "execution_count": 1,
      "outputs": [
        {
          "output_type": "stream",
          "text": "The new line character is \"\\n\"\n",
          "name": "stdout"
        }
      ]
    },
    {
      "metadata": {
        "trusted": true
      },
      "cell_type": "code",
      "source": "# [ ] print output that is exactly (with quotes): \"That's how we escape!\"\nprint(\"\\\"That's how we escape!\\\"\")\n",
      "execution_count": 2,
      "outputs": [
        {
          "output_type": "stream",
          "text": "\"That's how we escape!\"\n",
          "name": "stdout"
        }
      ]
    },
    {
      "metadata": {
        "trusted": true
      },
      "cell_type": "code",
      "source": "# [ ] with only 1 print statement and using No Space Characters, output the text commented below  \n\n# 1       one\n# 22      two\n# 333     three\n\nprint(\"1\\tone\\n22\\ttwo\\n333\\tthree\")",
      "execution_count": 4,
      "outputs": [
        {
          "output_type": "stream",
          "text": "1\tone\n22\ttwo\n333\tthree\n",
          "name": "stdout"
        }
      ]
    },
    {
      "metadata": {},
      "cell_type": "markdown",
      "source": "## Program: quote_me() Function\nquote_me takes a string argument and returns a string that will display surrounded with **added double quotes** if printed  \n- Check if the passed string starts with a double quotation mark (`\"\\\"\"`).\n- If it does, then surround the string with single quotation marks \n- If the passed string starts with a single quotation mark, or it if doesn't start with a quotation mark, then surround it with double quotation marks.\n\nTest the function code passing string input as the argument to quote_me(). "
    },
    {
      "metadata": {
        "trusted": true
      },
      "cell_type": "code",
      "source": "# [ ] create and test quote_me()\n\ndef quote(s):\n    if s.startswith(\"\\\"\"):\n        return(\"'\" + s + \"'\")\n    else:\n        return('\"' + s + '\"')\nprint(quote(input()))",
      "execution_count": 7,
      "outputs": [
        {
          "output_type": "stream",
          "name": "stdout",
          "text": "\"Hello there!\"\n'\"Hello there!\"'\n"
        }
      ]
    },
    {
      "metadata": {},
      "cell_type": "markdown",
      "source": "## Program: shirt order \nFirst get input for color and size: \n- White has sizes L, M \n- Blue has sizes M, S  \n\nPrint available or unavailable, then print the order confirmation of color and size.  \n\n**Hint**: set a variable \"available = False\" before nested if statements \nand change to True if color and size are available."
    },
    {
      "metadata": {
        "trusted": true
      },
      "cell_type": "code",
      "source": "# [ ] create shirt order using nested if\nc = input(\"What color? (White or Blue) \").lower()\nif c == \"white\":\n    s = input(\"What size? (L, M) \")\n    print(\"You have placed an order for a %s shirt of size %s.\" %(c,s))\nif c == \"blue\":\n    s = input(\"What size? (M, S) \")\n    print(\"You have placed an order for a %s shirt of size %s.\" %(c,s))\n    ",
      "execution_count": 10,
      "outputs": [
        {
          "output_type": "stream",
          "name": "stdout",
          "text": "What color? (White or Blue) White\nWhat size? (L, M) L\nYou have placed an order for a white shirt of size L.\n"
        }
      ]
    },
    {
      "metadata": {},
      "cell_type": "markdown",
      "source": "## Program: str_analysis() Function\nCreate the str_analysis() function that takes a string argument.  In the body of the function:\n- Check `if` string is digits  \n  - If digits: convert to `int` and check `if` greater than 99  \n    - If greater than 99 print a message about a \"big number\"  \n    - If not greater than 99 print message about small number  \n  - If not digits: check if string isalpha\n    - If isalpha print message about being all alpha\n    - If not isalpha print a message about being neither all alpha nor all digit  \n    \nCall the function with a string from user input. "
    },
    {
      "metadata": {
        "trusted": true
      },
      "cell_type": "code",
      "source": "# [ ] create and test str_analysis()\ndef strAn(s):\n    if s.isdigit():\n        s = int(s)\n        if s > 99:\n            print(\"bIg number\")\n    elif s.isalpha():\n        print(\"those are All letters\")\n    else:\n        print(\"that's not numbers Or letters!!!!!!\")\nstrAn(input())",
      "execution_count": 14,
      "outputs": [
        {
          "output_type": "stream",
          "name": "stdout",
          "text": "Two2\nthat's not numbers Or letters!!!!!!\n"
        }
      ]
    },
    {
      "metadata": {
        "collapsed": true
      },
      "cell_type": "markdown",
      "source": "## Program: ticket_check() - finds out if a seat is available  \nCall ticket_check() function with 2 arguments: *section* and *seats* requested and return True or False  \n- **section** is a string and expects: general, floor\n- **seats** is an integer and expects: 1 - 10  \n\nCheck for valid section and seats:\n- If section is *general* (or use startswith \"g\")  \n  - If seats is 1-10 return True \n- If section is *floor* (or use starts with \"f\")\n  - If seats is 1-4 return True  \n\nOtherwise return False."
    },
    {
      "metadata": {
        "trusted": true
      },
      "cell_type": "code",
      "source": "# [ ] create and call ticket_check()\ndef tktChk(sect,sts):\n    if sect.lower() == \"general\":\n        if 1 <= sts <= 10:\n            return(True)\n        else:\n            return(False)\n    elif sect.lower() == \"floor\":\n        if 1 <= sts <= 4:\n            return(True)\n        else:\n            return(False)\n    else:\n        return(False)\nprint(tktChk(input(\"What section? \"), int(input(\"How many seats? \"))))",
      "execution_count": 18,
      "outputs": [
        {
          "output_type": "stream",
          "name": "stdout",
          "text": "What section? Floor\nHow many seats? 5\nFalse\n"
        }
      ]
    },
    {
      "metadata": {
        "collapsed": true
      },
      "cell_type": "markdown",
      "source": "[Terms of use](http://go.microsoft.com/fwlink/?LinkID=206977) &nbsp; [Privacy & cookies](https://go.microsoft.com/fwlink/?LinkId=521839) &nbsp; © 2017 Microsoft"
    }
  ],
  "metadata": {
    "anaconda-cloud": {},
    "kernelspec": {
      "name": "python3",
      "display_name": "Python 3",
      "language": "python"
    },
    "language_info": {
      "mimetype": "text/x-python",
      "nbconvert_exporter": "python",
      "name": "python",
      "file_extension": ".py",
      "version": "3.5.4",
      "pygments_lexer": "ipython3",
      "codemirror_mode": {
        "version": 3,
        "name": "ipython"
      }
    }
  },
  "nbformat": 4,
  "nbformat_minor": 1
}