{
  "cells": [
    {
      "metadata": {
        "collapsed": true
      },
      "cell_type": "markdown",
      "source": "# Lab 1a\n## Basics Practice: Notebooks, Comments, print(), type(), Addition, Errors and Art\n\n### Student will be able to\n- Use Python 3 in Jupyter notebooks\n- Write working code using `print()` and `#` comments  \n- Write working code using `type()` and variables\n- Combine Strings using string addition (+)\n- Add numbers in code (+)\n- Troubleshoot errors\n- Create character art  \n\n>**Note:** The **[ ]** indicates student has a task to complete.\n  \n>**Reminder:** To run code and save changes: student should upload or clone a copy of notebooks. \n\n#### Notebook use\n- [ ] Insert a **code cell** below   \n- [ ] Enter the following Python code, including the comment: \n```Python \n# [ ] print 'Hello!' and remember to save notebook!\nprint('Hello!')\n```\nThen run the code - the output should be:  \n`Hello!`"
    },
    {
      "metadata": {
        "trusted": true
      },
      "cell_type": "code",
      "source": "# [ ] print 'Hello!' and remember to save notebook!\nprint('Hello!')",
      "execution_count": 1,
      "outputs": [
        {
          "output_type": "stream",
          "text": "Hello!\n",
          "name": "stdout"
        }
      ]
    },
    {
      "metadata": {},
      "cell_type": "markdown",
      "source": "#### Run the cell below   \n- [ ] Use **Ctrl + Enter**  \n- [ ] Use **Shift + Enter**    "
    },
    {
      "metadata": {
        "trusted": true
      },
      "cell_type": "code",
      "source": "print('watch for the cat')",
      "execution_count": 2,
      "outputs": [
        {
          "output_type": "stream",
          "text": "watch for the cat\n",
          "name": "stdout"
        }
      ]
    },
    {
      "metadata": {},
      "cell_type": "markdown",
      "source": "#### Student's Notebook editing\n- [ ] Edit **this** notebook Markdown cell replacing the word \"Student's\" above with your name\n- [ ] Run the cell to display the formatted text\n- [ ] Run any 'markdown' cells that are in edit mode, so they are easier to read"
    },
    {
      "metadata": {},
      "cell_type": "markdown",
      "source": "#### [ ] Convert \\*this\\* cell from markdown to a code cell, then run it  \nprint('Run as a code cell')\n"
    },
    {
      "metadata": {},
      "cell_type": "markdown",
      "source": "##  # Comments\nCreate a code comment that identifies this notebook, containing your name and the date."
    },
    {
      "metadata": {
        "collapsed": true,
        "trusted": false
      },
      "cell_type": "code",
      "source": "# Python Lab 1A, Nathan, 8/30/19",
      "execution_count": null,
      "outputs": []
    },
    {
      "metadata": {},
      "cell_type": "markdown",
      "source": "#### Use print() to \n- [ ] print [**your_name**]\n- [ ] print **is using Python!**"
    },
    {
      "metadata": {
        "trusted": true
      },
      "cell_type": "code",
      "source": "# [ ] print your name\nprint(\"Nathan\")\n# [ ] print \"is using Python\"\nprint(\"is using Python\")",
      "execution_count": 3,
      "outputs": [
        {
          "output_type": "stream",
          "text": "Nathan\nis using Python\n",
          "name": "stdout"
        }
      ]
    },
    {
      "metadata": {},
      "cell_type": "markdown",
      "source": "Output above should be:  \n`Your Name  \nis using Python!`  "
    },
    {
      "metadata": {},
      "cell_type": "markdown",
      "source": "#### Use variables in print()\n- [ ] Create a variable **your_name** and assign it a string containing your name\n- [ ] Print **your_name**"
    },
    {
      "metadata": {
        "trusted": true
      },
      "cell_type": "code",
      "source": "# [ ] create a variable your_name and assign it a string containing your name\nyour_name = \"Nathan\"\n#[ ] print your_name\nprint(your_name)",
      "execution_count": 5,
      "outputs": [
        {
          "output_type": "stream",
          "text": "Nathan\n",
          "name": "stdout"
        }
      ]
    },
    {
      "metadata": {},
      "cell_type": "markdown",
      "source": "#### Create more string variables\n- **[ ]** Create variables as directed below\n- **[ ]** Print the variables"
    },
    {
      "metadata": {
        "trusted": true
      },
      "cell_type": "code",
      "source": "# [ ] create variables and assign values for: favorite_song, shoe_size, lucky_number\nfavorite_song = \"Positive Force\"\nshoe_size = 12\nlucky_number = 22\n# [ ] print the value of each variable favorite_song, shoe_size, and lucky_number\nprint(favorite_song)\nprint(shoe_size)\nprint(lucky_number)",
      "execution_count": 8,
      "outputs": [
        {
          "output_type": "stream",
          "text": "Positive Force\n12\n22\n",
          "name": "stdout"
        }
      ]
    },
    {
      "metadata": {},
      "cell_type": "markdown",
      "source": "#### Use string addition\n- **[ ]**  Print the above string variables (favorite_song, shoe_size, lucky_number) combined with a description by using **string addition**\n>For example, favorite_song displayed as:  \n`favorite song is happy birthday`"
    },
    {
      "metadata": {
        "trusted": true
      },
      "cell_type": "code",
      "source": "# [ ] print favorite_song with description\nfavorite_song = \"Positive Force\"\nprint(\"My favorite song is\", favorite_song)\n# [ ] print shoe_size with description\nshoe_size = 12\nprint(\"My shoe size is\", shoe_size)\n# [ ] print lucky_number with description\nlucky_number = 22\nprint(\"My lucky number is\", lucky_number)",
      "execution_count": 14,
      "outputs": [
        {
          "output_type": "stream",
          "text": "My favorite song is Positive Force\nMy shoe size is 12\nMy lucky number is 22\n",
          "name": "stdout"
        }
      ]
    },
    {
      "metadata": {},
      "cell_type": "markdown",
      "source": "##### More string addition\n- **[ ]** Make a single string (sentence) in a variable called favorite_lucky_shoe using **string addition** with favorite_song, shoe_size, lucky_number variables and other strings as needed \n- **[ ]** Print the value of the favorite_lucky_shoe variable string\n> Sample output:  \n`For singing happy birthday 8.5 times, you will be fined $25`"
    },
    {
      "metadata": {
        "trusted": true
      },
      "cell_type": "code",
      "source": "# assign favorite_lucky_shoe using\nfavorite_song = \"Positive Force\"\nshoe_size = 12\nlucky_number = 22\nfavorite_lucky_shoe = str(shoe_size) + \" CDs of the song \" + favorite_song + \"can be bought for $\" + str(lucky_number)\nprint(favorite_lucky_shoe)",
      "execution_count": 15,
      "outputs": [
        {
          "output_type": "stream",
          "text": "12 CDs of the song Positive Forcecan be bought for $22\n",
          "name": "stdout"
        }
      ]
    },
    {
      "metadata": {},
      "cell_type": "markdown",
      "source": "### print() art"
    },
    {
      "metadata": {},
      "cell_type": "markdown",
      "source": "#### Use `print()` and the asterisk **\\*** to create the following shapes:\n- [ ] Diagonal line  \n- [ ] Rectangle  \n- [ ] Smiley face"
    },
    {
      "metadata": {
        "trusted": true
      },
      "cell_type": "code",
      "source": "# [ ] print a diagonal using \"*\"\nprint(\"*\")\nprint(\"  *\")\nprint(\"    *\")\nprint(\"      *\")\nprint(\"        *\")\nprint(\"          *\")\n# [ ] rectangle using \"*\"\nprint()\nprint()\nprint(\"************\")\nprint(\"*          *\")\nprint(\"*          *\")\nprint(\"*          *\")\nprint(\"************\")\n# [ ] smiley using \"*\"\nprint()\nprint()\nprint(\"  *   *\")\nprint()\nprint(\"*   *   *\")\nprint(\" *     *\")\nprint(\"  *****\")",
      "execution_count": 21,
      "outputs": [
        {
          "output_type": "stream",
          "text": "*\n  *\n    *\n      *\n        *\n          *\n\n\n************\n*          *\n*          *\n*          *\n************\n\n\n  *   *\n\n*   *   *\n *     *\n  *****\n",
          "name": "stdout"
        }
      ]
    },
    {
      "metadata": {},
      "cell_type": "markdown",
      "source": "### Using `type()`\n#### Calculate the *type* using `type()`"
    },
    {
      "metadata": {
        "trusted": true
      },
      "cell_type": "code",
      "source": "# [ ] display the type of 'your name' (use single quotes)\ntype('your name')",
      "execution_count": 24,
      "outputs": [
        {
          "output_type": "execute_result",
          "execution_count": 24,
          "data": {
            "text/plain": "str"
          },
          "metadata": {}
        }
      ]
    },
    {
      "metadata": {
        "trusted": true
      },
      "cell_type": "code",
      "source": "# [ ] display the type of \"save your notebook!\" (use double quotes)\ntype(\"save your notebook\")",
      "execution_count": 26,
      "outputs": [
        {
          "output_type": "execute_result",
          "execution_count": 26,
          "data": {
            "text/plain": "str"
          },
          "metadata": {}
        }
      ]
    },
    {
      "metadata": {
        "trusted": true
      },
      "cell_type": "code",
      "source": "# [ ] display the type of \"25\" (use quotes)\ntype(\"25\")",
      "execution_count": 27,
      "outputs": [
        {
          "output_type": "execute_result",
          "execution_count": 27,
          "data": {
            "text/plain": "str"
          },
          "metadata": {}
        }
      ]
    },
    {
      "metadata": {
        "trusted": true
      },
      "cell_type": "code",
      "source": "# [ ] display the type of \"save your notebook \" + 'your name'\ntype(\"save your notebook\" + 'your name')",
      "execution_count": 28,
      "outputs": [
        {
          "output_type": "execute_result",
          "execution_count": 28,
          "data": {
            "text/plain": "str"
          },
          "metadata": {}
        }
      ]
    },
    {
      "metadata": {
        "trusted": true
      },
      "cell_type": "code",
      "source": "# [ ] display the type of 25 (no quotes)\ntype(25)",
      "execution_count": 29,
      "outputs": [
        {
          "output_type": "execute_result",
          "execution_count": 29,
          "data": {
            "text/plain": "int"
          },
          "metadata": {}
        }
      ]
    },
    {
      "metadata": {
        "trusted": true
      },
      "cell_type": "code",
      "source": "# [ ] display the type of 25 + 10 \ntype(25 + 10)",
      "execution_count": 30,
      "outputs": [
        {
          "output_type": "execute_result",
          "execution_count": 30,
          "data": {
            "text/plain": "int"
          },
          "metadata": {}
        }
      ]
    },
    {
      "metadata": {
        "trusted": true
      },
      "cell_type": "code",
      "source": "# [ ] display the type of 1.55\ntype(1.55)",
      "execution_count": 31,
      "outputs": [
        {
          "output_type": "execute_result",
          "execution_count": 31,
          "data": {
            "text/plain": "float"
          },
          "metadata": {}
        }
      ]
    },
    {
      "metadata": {
        "trusted": true
      },
      "cell_type": "code",
      "source": "# [ ] display the type of 1.55 + 25\ntype(1.55 + 25)",
      "execution_count": 32,
      "outputs": [
        {
          "output_type": "execute_result",
          "execution_count": 32,
          "data": {
            "text/plain": "float"
          },
          "metadata": {}
        }
      ]
    },
    {
      "metadata": {},
      "cell_type": "markdown",
      "source": "#### Find the type of variables\n- **[ ]** Run the cell below to make the variables available to be used in other code\n- **[ ]** Display the data type as directed in the cells that follow"
    },
    {
      "metadata": {
        "trusted": true
      },
      "cell_type": "code",
      "source": "# assignments ***RUN THIS CELL*** before starting the section\n\n\n",
      "execution_count": 2,
      "outputs": []
    },
    {
      "metadata": {
        "trusted": true
      },
      "cell_type": "code",
      "source": "# [ ] display the current type of the variable student_name\ntype(student_name)\n\n",
      "execution_count": 3,
      "outputs": [
        {
          "output_type": "error",
          "ename": "NameError",
          "evalue": "name 'student_name' is not defined",
          "traceback": [
            "\u001b[0;31m---------------------------------------------------------------------------\u001b[0m",
            "\u001b[0;31mNameError\u001b[0m                                 Traceback (most recent call last)",
            "\u001b[0;32m<ipython-input-3-c46645902e89>\u001b[0m in \u001b[0;36m<module>\u001b[0;34m()\u001b[0m\n\u001b[1;32m      1\u001b[0m \u001b[0;31m# [ ] display the current type of the variable student_name\u001b[0m\u001b[0;34m\u001b[0m\u001b[0;34m\u001b[0m\u001b[0m\n\u001b[0;32m----> 2\u001b[0;31m \u001b[0mtype\u001b[0m\u001b[0;34m(\u001b[0m\u001b[0mstudent_name\u001b[0m\u001b[0;34m)\u001b[0m\u001b[0;34m\u001b[0m\u001b[0m\n\u001b[0m\u001b[1;32m      3\u001b[0m \u001b[0;34m\u001b[0m\u001b[0m\n",
            "\u001b[0;31mNameError\u001b[0m: name 'student_name' is not defined"
          ]
        }
      ]
    },
    {
      "metadata": {
        "trusted": true
      },
      "cell_type": "code",
      "source": "# [ ] display the type of student_age\ntype(student_age)\n\n",
      "execution_count": 5,
      "outputs": [
        {
          "output_type": "error",
          "ename": "NameError",
          "evalue": "name 'student_age' is not defined",
          "traceback": [
            "\u001b[0;31m---------------------------------------------------------------------------\u001b[0m",
            "\u001b[0;31mNameError\u001b[0m                                 Traceback (most recent call last)",
            "\u001b[0;32m<ipython-input-5-9672207a70f2>\u001b[0m in \u001b[0;36m<module>\u001b[0;34m()\u001b[0m\n\u001b[1;32m      1\u001b[0m \u001b[0;31m# [ ] display the type of student_age\u001b[0m\u001b[0;34m\u001b[0m\u001b[0;34m\u001b[0m\u001b[0m\n\u001b[0;32m----> 2\u001b[0;31m \u001b[0mtype\u001b[0m\u001b[0;34m(\u001b[0m\u001b[0mstudent_age\u001b[0m\u001b[0;34m)\u001b[0m\u001b[0;34m\u001b[0m\u001b[0m\n\u001b[0m\u001b[1;32m      3\u001b[0m \u001b[0;34m\u001b[0m\u001b[0m\n",
            "\u001b[0;31mNameError\u001b[0m: name 'student_age' is not defined"
          ]
        }
      ]
    },
    {
      "metadata": {
        "trusted": true
      },
      "cell_type": "code",
      "source": "# [ ] display the type of student_grade\ntype(student_grade)\n\n",
      "execution_count": 6,
      "outputs": [
        {
          "output_type": "error",
          "ename": "NameError",
          "evalue": "name 'student_grade' is not defined",
          "traceback": [
            "\u001b[0;31m---------------------------------------------------------------------------\u001b[0m",
            "\u001b[0;31mNameError\u001b[0m                                 Traceback (most recent call last)",
            "\u001b[0;32m<ipython-input-6-cc80f596df1d>\u001b[0m in \u001b[0;36m<module>\u001b[0;34m()\u001b[0m\n\u001b[1;32m      1\u001b[0m \u001b[0;31m# [ ] display the type of student_grade\u001b[0m\u001b[0;34m\u001b[0m\u001b[0;34m\u001b[0m\u001b[0m\n\u001b[0;32m----> 2\u001b[0;31m \u001b[0mtype\u001b[0m\u001b[0;34m(\u001b[0m\u001b[0mstudent_grade\u001b[0m\u001b[0;34m)\u001b[0m\u001b[0;34m\u001b[0m\u001b[0m\n\u001b[0m\u001b[1;32m      3\u001b[0m \u001b[0;34m\u001b[0m\u001b[0m\n",
            "\u001b[0;31mNameError\u001b[0m: name 'student_grade' is not defined"
          ]
        }
      ]
    },
    {
      "metadata": {
        "trusted": true
      },
      "cell_type": "code",
      "source": "# [ ] display the type of student_age + student_grade\ntype(student_age + student_grade)\n\n",
      "execution_count": 7,
      "outputs": [
        {
          "output_type": "error",
          "ename": "NameError",
          "evalue": "name 'student_age' is not defined",
          "traceback": [
            "\u001b[0;31m---------------------------------------------------------------------------\u001b[0m",
            "\u001b[0;31mNameError\u001b[0m                                 Traceback (most recent call last)",
            "\u001b[0;32m<ipython-input-7-f1079f2b3377>\u001b[0m in \u001b[0;36m<module>\u001b[0;34m()\u001b[0m\n\u001b[1;32m      1\u001b[0m \u001b[0;31m# [ ] display the type of student_age + student_grade\u001b[0m\u001b[0;34m\u001b[0m\u001b[0;34m\u001b[0m\u001b[0m\n\u001b[0;32m----> 2\u001b[0;31m \u001b[0mtype\u001b[0m\u001b[0;34m(\u001b[0m\u001b[0mstudent_age\u001b[0m \u001b[0;34m+\u001b[0m \u001b[0mstudent_grade\u001b[0m\u001b[0;34m)\u001b[0m\u001b[0;34m\u001b[0m\u001b[0m\n\u001b[0m\u001b[1;32m      3\u001b[0m \u001b[0;34m\u001b[0m\u001b[0m\n",
            "\u001b[0;31mNameError\u001b[0m: name 'student_age' is not defined"
          ]
        }
      ]
    },
    {
      "metadata": {
        "trusted": true
      },
      "cell_type": "code",
      "source": "# [ ] display the current type of student_id\ntype(student_id)\n\n",
      "execution_count": 8,
      "outputs": [
        {
          "output_type": "error",
          "ename": "NameError",
          "evalue": "name 'student_id' is not defined",
          "traceback": [
            "\u001b[0;31m---------------------------------------------------------------------------\u001b[0m",
            "\u001b[0;31mNameError\u001b[0m                                 Traceback (most recent call last)",
            "\u001b[0;32m<ipython-input-8-92ca238f2a71>\u001b[0m in \u001b[0;36m<module>\u001b[0;34m()\u001b[0m\n\u001b[1;32m      1\u001b[0m \u001b[0;31m# [ ] display the current type of student_id\u001b[0m\u001b[0;34m\u001b[0m\u001b[0;34m\u001b[0m\u001b[0m\n\u001b[0;32m----> 2\u001b[0;31m \u001b[0mtype\u001b[0m\u001b[0;34m(\u001b[0m\u001b[0mstudent_id\u001b[0m\u001b[0;34m)\u001b[0m\u001b[0;34m\u001b[0m\u001b[0m\n\u001b[0m\u001b[1;32m      3\u001b[0m \u001b[0;34m\u001b[0m\u001b[0m\n",
            "\u001b[0;31mNameError\u001b[0m: name 'student_id' is not defined"
          ]
        }
      ]
    },
    {
      "metadata": {
        "trusted": true
      },
      "cell_type": "code",
      "source": "# assign new value to student_id \nstudent_id = 4\n\n# [ ] display the current of student_id\ntype(student_id)\n\n",
      "execution_count": 9,
      "outputs": [
        {
          "output_type": "execute_result",
          "execution_count": 9,
          "data": {
            "text/plain": "int"
          },
          "metadata": {}
        }
      ]
    },
    {
      "metadata": {
        "collapsed": true
      },
      "cell_type": "markdown",
      "source": "#### Number integer addition\n\n- **[ ]** Create variables (x, y, z) with integer values"
    },
    {
      "metadata": {
        "trusted": true
      },
      "cell_type": "code",
      "source": "# [ ] create integer variables (x, y, z) and assign them 1-3 digit integers (no decimals - no quotes)\nx = 154\ny = 25\nz = 429",
      "execution_count": 10,
      "outputs": []
    },
    {
      "metadata": {},
      "cell_type": "markdown",
      "source": "- **[ ]** Insert a **code cell** below\n- **[ ]** Create an integer variable named **xyz_sum** equal to the sum of x, y, and z\n- **[ ]** Print the value of **xyz_sum** "
    },
    {
      "metadata": {
        "trusted": true
      },
      "cell_type": "code",
      "source": "xyz_sum = x+y+z\nprint(xyz_sum)\n",
      "execution_count": 11,
      "outputs": [
        {
          "output_type": "stream",
          "text": "608\n",
          "name": "stdout"
        }
      ]
    },
    {
      "metadata": {},
      "cell_type": "markdown",
      "source": "### Errors\n- **[ ]** Troubleshoot and fix the errors below"
    },
    {
      "metadata": {
        "trusted": true
      },
      "cell_type": "code",
      "source": "# [ ] fix the error \n\nprint(\"Hello World!\")    \n\n\n",
      "execution_count": 14,
      "outputs": [
        {
          "output_type": "stream",
          "text": "Hello World!\n",
          "name": "stdout"
        }
      ]
    },
    {
      "metadata": {
        "trusted": false
      },
      "cell_type": "code",
      "source": "# [ ] fix the error \nprint(\"strings have quotes and variables have names\")\n\n",
      "execution_count": null,
      "outputs": []
    },
    {
      "metadata": {
        "trusted": true
      },
      "cell_type": "code",
      "source": "# [ ] fix the error \nprint(\"I have $\" + \"5\")\n\n",
      "execution_count": 16,
      "outputs": [
        {
          "output_type": "stream",
          "text": "I have $5\n",
          "name": "stdout"
        }
      ]
    },
    {
      "metadata": {
        "trusted": true
      },
      "cell_type": "code",
      "source": "# [ ] fix the error \nprint('always save the notebook')\n      \n",
      "execution_count": 18,
      "outputs": [
        {
          "output_type": "stream",
          "text": "always save the notebook\n",
          "name": "stdout"
        }
      ]
    },
    {
      "metadata": {
        "collapsed": true
      },
      "cell_type": "markdown",
      "source": "## ASCII art\n- **[ ]** Display first name or initials as ASCII Art\n- **[ ]** Challenge: insert an additional code cell to make an ASCII picture"
    },
    {
      "metadata": {
        "trusted": true
      },
      "cell_type": "code",
      "source": "# [ ] ASCII ART\nprint(\"|\\   |\")\nprint(\"| \\  |\")\nprint(\"|  \\ |\")\nprint(\"|   \\|\")",
      "execution_count": 24,
      "outputs": [
        {
          "output_type": "stream",
          "text": "|\\   |\n| \\  |\n|  \\ |\n|   \\|\n",
          "name": "stdout"
        }
      ]
    },
    {
      "metadata": {
        "trusted": true
      },
      "cell_type": "code",
      "source": "# [ ] ASCII ART\nprint(\" ____\")\nprint(\"|    )\")\nprint(\"|____/\")\nprint(\"|    )\")\nprint(\"|____/\")",
      "execution_count": 29,
      "outputs": [
        {
          "output_type": "stream",
          "text": " ____\n|    )\n|____/\n|    )\n|____/\n",
          "name": "stdout"
        }
      ]
    },
    {
      "metadata": {
        "trusted": true
      },
      "cell_type": "code",
      "source": "print(\"____                  ____                  ____\")\nprint(\"\\_  \\___             /    \\             ___/  _/\")\nprint(\" \\____  \\___________| *  * |___________/  ____/ \")\nprint(\"  \\_  \\____________ |  \\/  | ____________/  _/  \")\nprint(\"   \\___             |      |             ___/   \")\nprint(\"    \\_ \\___________ |      | ___________/ _/    \")\nprint(\"     \\______________/\\____/\\______________/     \")\nprint(\"                      /  \\                      \")\nprint(\"                     /|\\/|\\                     \")",
      "execution_count": 1,
      "outputs": [
        {
          "output_type": "stream",
          "text": "____                  ____                  ____\n\\_  \\___             /    \\             ___/  _/\n \\____  \\___________| *  * |___________/  ____/ \n  \\_  \\____________ |  \\/  | ____________/  _/  \n   \\___             |      |             ___/   \n    \\_ \\___________ |      | ___________/ _/    \n     \\______________/\\____/\\______________/     \n                      /  \\                      \n                     /|\\/|\\                     \n",
          "name": "stdout"
        }
      ]
    },
    {
      "metadata": {},
      "cell_type": "markdown",
      "source": "[Terms of use](http://go.microsoft.com/fwlink/?LinkID=206977) &nbsp; [Privacy & cookies](https://go.microsoft.com/fwlink/?LinkId=521839) &nbsp; © 2017 Microsoft"
    }
  ],
  "metadata": {
    "anaconda-cloud": {},
    "kernelspec": {
      "name": "python3",
      "display_name": "Python 3",
      "language": "python"
    },
    "language_info": {
      "mimetype": "text/x-python",
      "nbconvert_exporter": "python",
      "name": "python",
      "file_extension": ".py",
      "version": "3.5.4",
      "pygments_lexer": "ipython3",
      "codemirror_mode": {
        "version": 3,
        "name": "ipython"
      }
    }
  },
  "nbformat": 4,
  "nbformat_minor": 1
}