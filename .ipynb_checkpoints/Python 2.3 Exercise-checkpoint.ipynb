{
  "cells": [
    {
      "metadata": {
        "trusted": true
      },
      "cell_type": "code",
      "source": "def make_schedule(period1, period2):\n    schedule = (\"[1st] \" + period1.title() + \", [2nd] \" + period2.title())\n    return schedule\nstudent_schedule = make_schedule(\"mathematics\", \"history\")\nprint(\"SCHEDULE:\", student_schedule)",
      "execution_count": 5,
      "outputs": [
        {
          "output_type": "stream",
          "text": "SCHEDULE: [1st] Mathematics, [2nd] History\n",
          "name": "stdout"
        }
      ]
    }
  ],
  "metadata": {
    "kernelspec": {
      "name": "python36",
      "display_name": "Python 3.6",
      "language": "python"
    },
    "language_info": {
      "mimetype": "text/x-python",
      "nbconvert_exporter": "python",
      "name": "python",
      "pygments_lexer": "ipython3",
      "version": "3.6.6",
      "file_extension": ".py",
      "codemirror_mode": {
        "version": 3,
        "name": "ipython"
      }
    }
  },
  "nbformat": 4,
  "nbformat_minor": 2
}