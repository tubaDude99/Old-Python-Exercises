{
  "cells": [
    {
      "metadata": {},
      "cell_type": "markdown",
      "source": "# Lab 3b  \n## Conditionals, Type, and Mathematics Extended   \n\n-----\n\n### Student will be able to\n- Code more than two choices using **`elif`**\n- Gather numeric input using type casting\n- Perform subtraction, multiplication and division operations in code  "
    },
    {
      "metadata": {},
      "cell_type": "markdown",
      "source": "## Tasks"
    },
    {
      "metadata": {},
      "cell_type": "markdown",
      "source": "### Rainbow colors\nAsk for input of a favorite rainbow color first letter: ROYGBIV.\n\nUsing `if`, `elif`, and `else`:  \n- Print the color matching the letter  \n    - R = Red  \n    - O = Orange  \n    - Y = Yellow  \n    - G = Green\n    - B = Blue\n    - I = Indigo\n    - V = Violet\n    - Else print \"no match\"\n"
    },
    {
      "metadata": {
        "trusted": true
      },
      "cell_type": "code",
      "source": "# [ ] complete rainbow colors\ncolor = input(\"ROYGBIV \")\nif color == \"R\":\n    print(\"Red\")\nelif color == \"O\":\n    print(\"Orange\")\nelif color == \"Y\":\n    print(\"Yellow\")\nelif color == \"G\":\n    print(\"Green\")\nelif color == \"B\":\n    print(\"Blue\")\nelif color == \"I\":\n    print(\"Indigo\")\nelif color == \"V\":\n    print(\"Violet\")\nelse:\n    print(\"no match\")",
      "execution_count": 2,
      "outputs": [
        {
          "output_type": "stream",
          "name": "stdout",
          "text": "ROYGBIVG\nGreen\n"
        }
      ]
    },
    {
      "metadata": {
        "trusted": true
      },
      "cell_type": "code",
      "source": "# [ ] make the code above into a function rainbow_color() that has a string parameter, \n# get input and call the function and return the \ndef rainbow_color(color):\n    if color == \"R\":\n        print(\"Red\")\n    elif color == \"O\":\n        print(\"Orange\")\n    elif color == \"Y\":\n        print(\"Yellow\")\n    elif color == \"G\":\n        print(\"Green\")\n    elif color == \"B\":\n        print(\"Blue\")\n    elif color == \"I\":\n        print(\"Indigo\")\n    elif color == \"V\":\n        print(\"Violet\")\n    else:\n        print(\"no match\")\nrainbow_color(input(\"ROYGBIV \"))",
      "execution_count": 3,
      "outputs": [
        {
          "output_type": "stream",
          "name": "stdout",
          "text": "ROYGBIV Y\nYellow\n"
        }
      ]
    },
    {
      "metadata": {},
      "cell_type": "markdown",
      "source": "# &nbsp;  \n**Create function age_20() that adds or subtracts 20 from your age for a return value based on current age** (use `if`) \n- Call the function with user input and then use the return value in a sentence  \nExample `age_20(25)` returns **5**: \n> \"5 years old, 20 years difference from now\""
    },
    {
      "metadata": {
        "trusted": true
      },
      "cell_type": "code",
      "source": "# [ ] complete age_20()\ndef age20(age):\n    if age <= 20:\n        return(age + 20)\n    else:\n        return(age - 20)\nprint(str(age20(int(input()))) + \" years old, 20 years difference from now\")",
      "execution_count": 5,
      "outputs": [
        {
          "output_type": "stream",
          "name": "stdout",
          "text": "45\n25 years old, 20 years difference from now\n"
        }
      ]
    },
    {
      "metadata": {},
      "cell_type": "markdown",
      "source": "**Create a function rainbow_or_age that takes a string argument**\n- If argument is a digit return the value of calling age_20() with the str value cast as **`int`** \n- If argument is an alphabetical character return the value of calling rainbow_color() with the str\n- If neither return FALSE"
    },
    {
      "metadata": {
        "trusted": true
      },
      "cell_type": "code",
      "source": "# [ ]  create rainbow_or_age()\ndef rainbowOrAge(x):\n    if x.isdigit():\n        if int(x) <= 20:\n            return(str(int(x) + 20) + \" years old, 20 years difference from now\")\n        else:\n            return(str(int(x) - 20) + \" years old, 20 years difference from now\")\n    elif x.isalpha():\n        if x == \"R\":\n            return(\"Red\")\n        elif x == \"O\":\n            return(\"Orange\")\n        elif x == \"Y\":\n            return(\"Yellow\")\n        elif x == \"G\":\n            return(\"Green\")\n        elif x == \"B\":\n            return(\"Blue\")\n        elif x == \"I\":\n            return(\"Indigo\")\n        elif x == \"V\":\n            return(\"Violet\")\n        else:\n            return(\"no match\")\n    else:\n        return(False)\nprint(rainbowOrAge(input()))",
      "execution_count": 9,
      "outputs": [
        {
          "output_type": "stream",
          "name": "stdout",
          "text": "O\nOrange\n"
        }
      ]
    },
    {
      "metadata": {
        "trusted": true
      },
      "cell_type": "code",
      "source": "# [ ]  add 2 numbers from input using a cast to integer and display the answer \nprint(str(int(input()) + int(input())))",
      "execution_count": 12,
      "outputs": [
        {
          "output_type": "stream",
          "name": "stdout",
          "text": "4\n5\n9\n"
        }
      ]
    },
    {
      "metadata": {
        "trusted": true
      },
      "cell_type": "code",
      "source": "# [ ] Multiply 2 numbers from input using cast and save the answer as part of a string \"the answer is...\"\n# display the string using print\n\nprint(\"the answer is \" + str(int(input()) * int(input())))",
      "execution_count": 13,
      "outputs": [
        {
          "output_type": "stream",
          "name": "stdout",
          "text": "4\n5\nthe answer is 20\n"
        }
      ]
    },
    {
      "metadata": {
        "trusted": true
      },
      "cell_type": "code",
      "source": "# [ ] get input of 2 numbers and display the average: (num1 + num2) divided by 2\nprint(str((int(input()) + int(input()))/2))\n",
      "execution_count": 14,
      "outputs": [
        {
          "output_type": "stream",
          "name": "stdout",
          "text": "4\n2\n3.0\n"
        }
      ]
    },
    {
      "metadata": {
        "trusted": true
      },
      "cell_type": "code",
      "source": "# [ ] get input of 2 numbers and subtract the largest from the smallest (use an if statement to see which is larger)\n# show the answer\nx = [int(input()),int(input())]\nif x[1] > x[0]:\n    print(x[1] - x[0])\nelse:\n    print(x[0] - x[1])",
      "execution_count": 18,
      "outputs": [
        {
          "output_type": "stream",
          "name": "stdout",
          "text": "4\n5\n1\n"
        }
      ]
    },
    {
      "metadata": {
        "trusted": false
      },
      "cell_type": "code",
      "source": "# [ ] Divide a larger number by a smaller number and print the integer part of the result\n# don't divide by zero! if a zero is input make the result zero\n# [ ] cast the answer to an integer to cut off the decimals and print the result\nx = [int(input()),int(input())]\nif x[1] > x[0]:\n    print(x[1] / x[0])\nelse:\n    print(int(x[0] / x[1])\n",
      "execution_count": null,
      "outputs": []
    },
    {
      "metadata": {},
      "cell_type": "markdown",
      "source": "[Terms of use](http://go.microsoft.com/fwlink/?LinkID=206977) &nbsp; [Privacy & cookies](https://go.microsoft.com/fwlink/?LinkId=521839) &nbsp; © 2017 Microsoft"
    }
  ],
  "metadata": {
    "anaconda-cloud": {},
    "kernelspec": {
      "name": "python3",
      "display_name": "Python 3",
      "language": "python"
    },
    "language_info": {
      "mimetype": "text/x-python",
      "nbconvert_exporter": "python",
      "name": "python",
      "pygments_lexer": "ipython3",
      "version": "3.5.4",
      "file_extension": ".py",
      "codemirror_mode": {
        "version": 3,
        "name": "ipython"
      }
    }
  },
  "nbformat": 4,
  "nbformat_minor": 1
}