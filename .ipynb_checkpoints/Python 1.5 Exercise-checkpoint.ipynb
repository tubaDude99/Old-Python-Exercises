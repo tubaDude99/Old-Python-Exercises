{
  "cells": [
    {
      "metadata": {
        "trusted": true
      },
      "cell_type": "code",
      "source": "print(\"    _______    \")\nprint(\"   /       \\   \")\nprint(\"  /   \\ /   \\  \")\nprint(\" /   *   *   \\ \")\nprint(\" \\ \\   ^   / / \")\nprint(\"  \\ \\_____/ /  \")\nprint(\"   \\_______/   \")",
      "execution_count": 36,
      "outputs": [
        {
          "output_type": "stream",
          "text": "    _______     \n   /       \\    \n  /   \\ /   \\   \n /   *   *   \\  \n \\ \\   ^   / /   \n  \\ \\_____/ /   \n   \\_______/      \n",
          "name": "stdout"
        }
      ]
    },
    {
      "metadata": {
        "trusted": true,
        "scrolled": true
      },
      "cell_type": "code",
      "source": "print(\" _\")\nprint(\"|_|\")\nprint(\"|||\")\nprint(\"|||\")\nprint(\"|||\")\nprint(\"|||\")\nprint(\"|||\")\nprint(\"|||\")\nprint(\"|||\")\nprint(\"|||\")\nprint(\"|||\")\nprint(\"|||\")\nprint(\"|||\")\nprint(\"|||\")\nprint(\"|||\")\nprint(\"|||\")\nprint(\"|||\")\nprint(\"|||\")\nprint(\"\\ /\")\nprint(\" .\")",
      "execution_count": 41,
      "outputs": [
        {
          "output_type": "stream",
          "text": " _\n|_|\n|||\n|||\n|||\n|||\n|||\n|||\n|||\n|||\n|||\n|||\n|||\n|||\n|||\n|||\n|||\n|||\n\\ /\n .\n",
          "name": "stdout"
        }
      ]
    },
    {
      "metadata": {
        "trusted": true
      },
      "cell_type": "code",
      "source": "print(\"____                  ____                  ____\")\nprint(\"\\_  \\___             /    \\             ___/  _/\")\nprint(\" \\____  \\___________| *  * |___________/  ____/ \")\nprint(\"  \\_  \\____________ |  \\/  | ____________/  _/  \")\nprint(\"   \\___             |      |             ___/   \")\nprint(\"    \\_ \\___________ |      | ___________/ _/    \")\nprint(\"     \\______________/\\____/\\______________/     \")\nprint(\"                      /  \\                      \")\nprint(\"                     /|\\/|\\                     \")",
      "execution_count": 37,
      "outputs": [
        {
          "output_type": "stream",
          "text": "____                  ____                  ____\n\\_  \\___             /    \\             ___/  _/\n \\____  \\___________| *  * |___________/  ____/ \n  \\_  \\____________ |  \\/  | ____________/  _/  \n   \\___             |      |             ___/   \n    \\_ \\___________ |      | ___________/ _/    \n     \\______________/\\____/\\______________/     \n                      /  \\                      \n                     /|\\/|\\                     \n",
          "name": "stdout"
        }
      ]
    }
  ],
  "metadata": {
    "kernelspec": {
      "name": "python36",
      "display_name": "Python 3.6",
      "language": "python"
    },
    "language_info": {
      "mimetype": "text/x-python",
      "nbconvert_exporter": "python",
      "name": "python",
      "pygments_lexer": "ipython3",
      "version": "3.6.6",
      "file_extension": ".py",
      "codemirror_mode": {
        "version": 3,
        "name": "ipython"
      }
    }
  },
  "nbformat": 4,
  "nbformat_minor": 2
}