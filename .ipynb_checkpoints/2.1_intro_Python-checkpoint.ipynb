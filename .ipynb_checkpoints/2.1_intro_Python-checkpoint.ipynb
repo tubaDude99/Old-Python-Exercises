{
  "cells": [
    {
      "metadata": {},
      "cell_type": "markdown",
      "source": "# Section 2.1: Boolean Expressions and Compound Conditionals\n* and, or, not\n* if\n\n### Students will be able to: \n* Describe the fundamental Boolean operators (and, or, not)\n* Use Boolean operators to combine comparisons\n* Recognize that different Boolean expressions can yield equal results\n* Employ combined comparisons to control program flow (i.e. `if` statements)\n"
    },
    {
      "metadata": {},
      "cell_type": "markdown",
      "source": "---\n<font size=\"6\" color=\"#00A0B2\"  face=\"verdana\"> <B>Concepts</B></font>  \n\n\n## Boolean Operators\n[![view video](https://iajupyterprodblobs.blob.core.windows.net/imagecontainer/common/play_video.png)](http://edxinteractivepage.blob.core.windows.net/edxpages/f7cff1a7-5601-48a1-95a6-fd1fdfabd20e.html?details=[{\"src\":\"http://jupyternootbookwams.streaming.mediaservices.windows.net/3fbe7bdc-1d33-47c8-b8dd-74251ab74143/DEV330x-2_1a_boolean_operators.ism/manifest\",\"type\":\"application/vnd.ms-sstr+xml\"}],[{\"src\":\"http://jupyternootbookwams.streaming.mediaservices.windows.net/30bf5f02-eda6-406f-a255-14d74d15ca76/DEV330x-2_1a_boolean_operators.vtt\",\"srclang\":\"en\",\"kind\":\"subtitles\",\"label\":\"english\"}])\n\n#### `bool` data type\nAdding two numbers in Python results in another number; however, if two numbers were compared (i.e. to test for equality), the result would be of Boolean (`bool`) type. Unlike `int` and `float`, which can take many values, `bool` has only two values `True` and `False`. \n\n```python\nIn [1]: 5 == 6\nOut[1]: False\n\nIn [2]: 5 <= 6\nOut[2]: True\n```\n\nComparing `string` variables or numerical variables is performed using relational operators, the following table lists the relational operators supported in Python\n\n| Operator | Description |\n|----------|-------------|\n| < | Less than|\n| <=| Less than or equal to|\n| > | Greater than|\n| >= | Greater than or equal to|\n| == | Equal to|\n|!= | Not equal to|\n\n#### Fundamental `bool` operators\nIn addition to supporting numerical operators (+, -, &times; ...), Python also supports Boolean operators. The three basic Boolean operators are: `not`, `and`, `or`.\n\n##### `not`\nIs a unary operator; it operates on one variable (operand) by negating it. The following truth table shows the result of negating a `bool` variable `B`.\n\n|`B`|`not B`|\n|---|-------|\n|False| True|\n|True|False|\n\n##### `and`\nIs a binary operator; it operates on two variables (operands). It produces `True` when both variables are `True` and produces `False` otherwise. The following truth table shows the effect of the `and` operator on combining `A` and `B`.\n\n|`A`|`B`|`A and B`|\n|---|---|---------|\n|False|False|False|\n|False|True|False|\n|True|False|False|\n|True|True|True|\n\n##### `or`\nIs a binary operator; it operates on two variables (operands). It produces `True` if either (or both) of the variables is `True` and produces `False` otherwise. The following truth table shows the effect of `or` on combining `A` and `B`.\n\n|`A`|`B`|`A or B`|\n|---|---|---------|\n|False|False|False|\n|False|True|True|\n|True|False|True|\n|True|True|True|\n\nThese operators are typically used to combine relational expressions rather than the constants `True` and `False`. This will allow you to construct more powerful conditional statements (i.e. `if` statements).\n\nNOTE: `not` has the highest precedence, followed by `and`, then `or`. Similar to arithmetic operators, you can control the precedence using the parentheses operator `()` to group relational expressions."
    },
    {
      "metadata": {},
      "cell_type": "markdown",
      "source": "---\n<font size=\"6\" color=\"#00A0B2\"  face=\"verdana\"> <B>Examples</B></font>\n\n### not"
    },
    {
      "metadata": {
        "collapsed": true,
        "trusted": false
      },
      "cell_type": "code",
      "source": "# not operator\nprint(\"not True = \", not True)\nprint(\"not False = \", not False)",
      "execution_count": null,
      "outputs": []
    },
    {
      "metadata": {},
      "cell_type": "markdown",
      "source": "### `and`"
    },
    {
      "metadata": {
        "collapsed": true,
        "trusted": false
      },
      "cell_type": "code",
      "source": "# and operator\nprint(\"False and False = \", False and False)\nprint(\"False and True = \", False and True)\nprint(\"True and False = \", True and False)\nprint(\"True and True = \", True and True)",
      "execution_count": null,
      "outputs": []
    },
    {
      "metadata": {},
      "cell_type": "markdown",
      "source": "### `or`"
    },
    {
      "metadata": {
        "collapsed": true,
        "trusted": false
      },
      "cell_type": "code",
      "source": "# or operator\nprint(\"False or False = \", False or False)\nprint(\"False or True = \", False or True)\nprint(\"True or False = \", True or False)\nprint(\"True or True = \", True or True)",
      "execution_count": null,
      "outputs": []
    },
    {
      "metadata": {},
      "cell_type": "markdown",
      "source": "### Combining operators"
    },
    {
      "metadata": {
        "collapsed": true,
        "trusted": false
      },
      "cell_type": "code",
      "source": "print(\"True and not False =\", True and not False)\nprint(\"False or not True = \", False or not True)",
      "execution_count": null,
      "outputs": []
    },
    {
      "metadata": {},
      "cell_type": "markdown",
      "source": "---\n<font size=\"6\" color=\"#B24C00\"  face=\"verdana\"> <B>Task 1</B></font>\n\n## Boolean Operators"
    },
    {
      "metadata": {},
      "cell_type": "markdown",
      "source": "### Boolean values (`True`, `False`)"
    },
    {
      "metadata": {
        "collapsed": true,
        "trusted": false
      },
      "cell_type": "code",
      "source": "# [ ] Use relational and/or arithmetic operators with the variables x and y to write:\n# 3 expressions that evaluate to True (i.e. x >= y)\n# 3 expressions that evaluate to False (i.e. x <= y)\n\nx = 84\ny = 17\n\n# --Completed--\nx = 84\ny = 17\n\n# 3 expressions generating True\nprint(x > y)\nprint(y < x)\nprint(x != y)\nprint(x + y > 0)\nprint(x - y > 0 )\n\n# 3 expressions generating False\nprint(x - y == 0)\nprint(x == y)\nprint(y - x > 0)\nprint(x < y)\nprint(y > x)",
      "execution_count": null,
      "outputs": []
    },
    {
      "metadata": {},
      "cell_type": "markdown",
      "source": "### Boolean operators (`not`, `and`, `or`)"
    },
    {
      "metadata": {
        "collapsed": true,
        "trusted": false
      },
      "cell_type": "code",
      "source": "# [ ] Use the basic Boolean operators with the variables x and y to write:\n# 3 expressions that evaluate to True (i.e. not y)\n# 3 expressions that evaluate to False (i.e. x and y)\n\nx = True\ny = False\n\n# --Completed--\nx = True\ny = False\n\n# 3 expressions generating True\nprint(not not True)\nprint(x or y)\nprint(x and x)\nprint(x and not y)\n\n# 3 expressions generating False\nprint(not x)\nprint(x and y)\nprint(y or y)\nprint(not x and x)",
      "execution_count": null,
      "outputs": []
    },
    {
      "metadata": {},
      "cell_type": "markdown",
      "source": "---\n<font size=\"6\" color=\"#00A0B2\"  face=\"verdana\"> <B>Concepts</B></font>  \n\n\n## Combining Comparisons\n[![view video](https://iajupyterprodblobs.blob.core.windows.net/imagecontainer/common/play_video.png)](http://edxinteractivepage.blob.core.windows.net/edxpages/f7cff1a7-5601-48a1-95a6-fd1fdfabd20e.html?details=[{\"src\":\"http://jupyternootbookwams.streaming.mediaservices.windows.net/58c04190-4f7f-4587-b4e2-71366d93a8c1/DEV330x-2_1b_combining_compariso.ism/manifest\",\"type\":\"application/vnd.ms-sstr+xml\"}],[{\"src\":\"http://jupyternootbookwams.streaming.mediaservices.windows.net/ca4da009-b4b9-486a-a4dd-58b58817c325/DEV330x-2_1b_combining_comparisons.vtt\",\"srclang\":\"en\",\"kind\":\"subtitles\",\"label\":\"english\"}])\n\nThe basic `bool` operators can be used to combine multiple relational tests. For example, say you want to test whether a variable `x` contains a number within a certain range (i.e. 10 &leq; x &leq; 20). You can perform this test, by checking whether the number is greater than or equal to 10 and whether the number is less than or equal to 20.\n\n```python\nIn [1]: x = 11\nIn [2]: (x >= 10) and (x <= 20)\nOut[2]: True\n\nIn [3]: x = 9\nIn [4]: (x >= 10) and (x <= 20)\nOut[4]: False\n```\n\nThe relational tests need not be numerical. For example, you can test whether a variable `c` contains a capital letter (i.e. 'A' &leq; c &leq; 'Z').\n\n```python\nIn [1]: c = 'N'\nIn [2]: (c >= 'A') and (c <= 'Z')\nOut[2]: True\n\nIn [3]: c = 'n'\nIn [4]: (c >= 'A') and (c <= 'Z')\nOut[4]: False\n```"
    },
    {
      "metadata": {},
      "cell_type": "markdown",
      "source": "---\n<font size=\"6\" color=\"#00A0B2\"  face=\"verdana\"> <B>Examples</B></font>\n\n### Testing whether a number is outside a range\n"
    },
    {
      "metadata": {
        "collapsed": true,
        "trusted": false
      },
      "cell_type": "code",
      "source": "# Testing if x is outside the range [10, 20]\n\nx = 11\n(x < 10) or (x > 20)\n",
      "execution_count": null,
      "outputs": []
    },
    {
      "metadata": {
        "collapsed": true,
        "trusted": false
      },
      "cell_type": "code",
      "source": "# Testing if x is outside the range [10, 20]\n\nx = 50\n(x < 10) or (x > 20)\n",
      "execution_count": null,
      "outputs": []
    },
    {
      "metadata": {},
      "cell_type": "markdown",
      "source": "### Testing whether a number is positive and odd\nYou can combine relational operators, arithmetic operators, and Boolean operators to generate powerful Boolean expressions. In this example, you will test whether a number is both positive and odd."
    },
    {
      "metadata": {
        "collapsed": true,
        "trusted": false
      },
      "cell_type": "code",
      "source": "# Testing if x is a positive and odd number\n\nx = 11\n(x > 0) and (x % 2 != 0)",
      "execution_count": null,
      "outputs": []
    },
    {
      "metadata": {
        "collapsed": true,
        "trusted": false
      },
      "cell_type": "code",
      "source": "# Testing if x is a positive and odd number\n\nx = -11\n(x > 0) and (x % 2 != 0)",
      "execution_count": null,
      "outputs": []
    },
    {
      "metadata": {
        "collapsed": true,
        "trusted": false
      },
      "cell_type": "code",
      "source": "# Testing if x is a positive and odd number\n\nx = 22\n(x > 0) and (x % 2 != 0)",
      "execution_count": null,
      "outputs": []
    },
    {
      "metadata": {},
      "cell_type": "markdown",
      "source": "### Testing using 2 different variables\nYou can combine Boolean expressions of different variables. In this example, you will test whether a driver's name starts with the letter `C` and she is 18 years or younger."
    },
    {
      "metadata": {
        "collapsed": true,
        "trusted": false
      },
      "cell_type": "code",
      "source": "# Driver information\nname = 'Colette'\nage = 17\n\n# Testing if name starts with `C` and the age is 18 or less\n(name.startswith('C')) and (age <= 18)",
      "execution_count": null,
      "outputs": []
    },
    {
      "metadata": {
        "collapsed": true,
        "trusted": false
      },
      "cell_type": "code",
      "source": "# Driver information\nname = 'John'\nage = 17\n\n# Testing if name starts with `C` and the age is 18 or less\n(name.startswith('C')) and (age <= 18)",
      "execution_count": null,
      "outputs": []
    },
    {
      "metadata": {},
      "cell_type": "markdown",
      "source": "---\n<font size=\"6\" color=\"#B24C00\"  face=\"verdana\"> <B>Task 2</B></font>\n\n## Combining Comparisons"
    },
    {
      "metadata": {
        "collapsed": true,
        "trusted": false
      },
      "cell_type": "code",
      "source": "# [ ] Write an expression to test if x is an even number outside the range [-100, 100]\n\n# Test your expression with:\n# x = 104 (True)\n# x = 115 (False)\n# x = -106 (True)\n# x = -99 (False)\n\n# --Completed--\nx = 104\n\n((x < -100) or (x > 100)) and (x % 2 == 0)",
      "execution_count": null,
      "outputs": []
    },
    {
      "metadata": {
        "collapsed": true,
        "trusted": false
      },
      "cell_type": "code",
      "source": "# [ ] Write an expression to test if a string s starts and ends with a capital letter\n# HINT: You might find the function `str.isupper()` useful\n\n# Test your expression with\n# s = \"CapitaL\" (True)\n# s = \"Not Capital\" (False)\n\n# --Completed--\ns = \"CapitaL\"\n\n((s[0] >= 'A') and (s[0] <= 'Z')) and ((s[-1] >= 'A') and (s[-1] <= 'Z'))\n\n# alternative solution\ns[0].isupper() and s[-1].isupper()",
      "execution_count": null,
      "outputs": []
    },
    {
      "metadata": {
        "collapsed": true,
        "trusted": false
      },
      "cell_type": "code",
      "source": "# [ ] Write an expression to test if a string s contains a numerical value\n# then test if the value is greater than the value stored in x\n# HINT: Use the functions `s.isnumeric()` and `float(s)`\n\n# Test your expression with\n# s = \"39\"\n# x = 24\n# Expression should yield True\n\n# s = \"a39\"\n# x = 24\n# Expression should yield False\n\n# --Completed--\ns = \"a39\"\nx = 24\n\ns.isnumeric() and (float(s) > x)",
      "execution_count": null,
      "outputs": []
    },
    {
      "metadata": {},
      "cell_type": "markdown",
      "source": "---\n<font size=\"6\" color=\"#00A0B2\"  face=\"verdana\"> <B>Concepts</B></font>  \n\n\n## Boolean Expressions Equality\n[![view video](https://iajupyterprodblobs.blob.core.windows.net/imagecontainer/common/play_video.png)](http://edxinteractivepage.blob.core.windows.net/edxpages/f7cff1a7-5601-48a1-95a6-fd1fdfabd20e.html?details=[{\"src\":\"http://jupyternootbookwams.streaming.mediaservices.windows.net/8bc3d44c-4851-496d-a33d-855c77f4adaf/DEV330x-2_1c_boolean_expressions.ism/manifest\",\"type\":\"application/vnd.ms-sstr+xml\"}],[{\"src\":\"http://jupyternootbookwams.streaming.mediaservices.windows.net/b08216e6-86f6-4f4b-af71-42eb0239db3c/DEV330x-2_1c_boolean_expressions_equality.vtt\",\"srclang\":\"en\",\"kind\":\"subtitles\",\"label\":\"english\"}])\n\nIt is possible to write two (or more) different Boolean expressions that yield the same results. Let's revisit the example testing whether x is within the range [10, 20]."
    },
    {
      "metadata": {},
      "cell_type": "markdown",
      "source": "---\n<font size=\"6\" color=\"#00A0B2\"  face=\"verdana\"> <B>Examples</B></font>\n\n### Expression 1: Test whether `x` is within [10, 20]"
    },
    {
      "metadata": {
        "collapsed": true,
        "trusted": false
      },
      "cell_type": "code",
      "source": "x = 11\n(x >= 10) and (x <= 20)",
      "execution_count": null,
      "outputs": []
    },
    {
      "metadata": {
        "collapsed": true,
        "trusted": false
      },
      "cell_type": "code",
      "source": "x = 30\n(x >= 10) and (x <= 20)",
      "execution_count": null,
      "outputs": []
    },
    {
      "metadata": {},
      "cell_type": "markdown",
      "source": "### Expression 2: Test whether `x` is within [10, 20]"
    },
    {
      "metadata": {
        "collapsed": true,
        "trusted": false
      },
      "cell_type": "code",
      "source": "x = 11\nnot((x < 10) or (x > 20))",
      "execution_count": null,
      "outputs": []
    },
    {
      "metadata": {
        "collapsed": true,
        "trusted": false
      },
      "cell_type": "code",
      "source": "x = 30\nnot((x < 10) or (x > 20))",
      "execution_count": null,
      "outputs": []
    },
    {
      "metadata": {},
      "cell_type": "markdown",
      "source": "---\n<font size=\"6\" color=\"#B24C00\"  face=\"verdana\"> <B>Task 3</B></font>\n\n## Boolean Expressions Equality"
    },
    {
      "metadata": {
        "collapsed": true,
        "trusted": false
      },
      "cell_type": "code",
      "source": "# [ ] Write an expression equivalent to the one below \n# to test if x is outside the range [10, 20] (seen in a previous example)\n\n# (x < 10) or (x > 20)\n\n# Test your expression with \n# x = 11 (False)\n# x = 50 (True)\n\n# --Completed--\nx = 50\n\n# Expression 1\nnot((x >= 10) and (x <= 20))\n\n# Expression 2\n((x < 10) and (x > 20)) or ((x < 10) and (x <= 20)) or ((x > 20))",
      "execution_count": null,
      "outputs": []
    },
    {
      "metadata": {
        "collapsed": true,
        "trusted": false
      },
      "cell_type": "code",
      "source": "# [ ] Write a second expression to test if x is an even number outside the range [-100, 100]\n# Do NOT use the expression you wrote for a previous exercise\n\n# Test your expression with:\n# x = 104 (True)\n# x = 115 (False)\n# x = -106 (True)\n# x = -99 (False)\n\n# --Completed--\nx = 104\n\n# Expression 1\nnot((x >= -100) and (x <= 100) or (x % 2 != 0))\n\n# Expression 2\n(x % 2 == 0) and not ((-100 <= x) and (x <= 100))",
      "execution_count": null,
      "outputs": []
    },
    {
      "metadata": {},
      "cell_type": "markdown",
      "source": "---\n<font size=\"6\" color=\"#00A0B2\"  face=\"verdana\"> <B>Concepts</B></font>  \n\n\n## Compound Conditionals\n[![view video](https://iajupyterprodblobs.blob.core.windows.net/imagecontainer/common/play_video.png)](http://edxinteractivepage.blob.core.windows.net/edxpages/f7cff1a7-5601-48a1-95a6-fd1fdfabd20e.html?details=[{\"src\":\"http://jupyternootbookwams.streaming.mediaservices.windows.net/aa343ee6-2e23-4d66-a56f-d6db613941bc/DEV330x-2_1d_compound_conditiona.ism/manifest\",\"type\":\"application/vnd.ms-sstr+xml\"}],[{\"src\":\"http://jupyternootbookwams.streaming.mediaservices.windows.net/d896e0b0-5483-4971-9a94-8e60f31b7cc6/DEV330x-2_1d_compound_conditionals.vtt\",\"srclang\":\"en\",\"kind\":\"subtitles\",\"label\":\"english\"}])\n\n\nCombined Boolean expressions can be used within the testing conditions of `if` and `elif` statements. This will let you write compound conditionals and give you fine control over the program flow. For example, you can test the validity of user input against several combined conditions. Similarly, you can also check the content of a variable against multiple ranges."
    },
    {
      "metadata": {},
      "cell_type": "markdown",
      "source": "---\n<font size=\"6\" color=\"#00A0B2\"  face=\"verdana\"> <B>Examples</B></font>\n\n### Testing validity of user input"
    },
    {
      "metadata": {
        "collapsed": true,
        "trusted": false
      },
      "cell_type": "code",
      "source": "# Solicit user input\nx = input(\"Enter an odd positive number: \")\n\n# Convert the string input into int\nx = int(x)\n\n# Test number for validity\nif ((x > 0) and (x % 2 != 0)):\n    print(x, \"is a valid number\")\nelse:\n    print(x, \"is NOT a valid number\")",
      "execution_count": null,
      "outputs": []
    },
    {
      "metadata": {},
      "cell_type": "markdown",
      "source": "### Testing inclusion in a range"
    },
    {
      "metadata": {
        "collapsed": true,
        "trusted": false
      },
      "cell_type": "code",
      "source": "# Solicit user input\ny = input(\"Enter your birth year: \")\n\n# Convert the string input into int\ny = int(y)\n\n# Check the decade membership\nif (y < 1970):\n    print(\"You were born before 1970!\")\nelif (y >= 1970 and y < 1980):\n    print(\"You were born in the 70s!\")\nelif (y >= 1980 and y < 1990):\n    print(\"You were born in the 80s!\")\nelif (y >= 1990 and y < 2000):\n    print(\"You were born in the 90s!\")\nelif (y >= 2000 and y < 2010):\n    print(\"You were born in early 2000s!\")\nelse:\n    print(\"You were born in the current decade!\")",
      "execution_count": null,
      "outputs": []
    },
    {
      "metadata": {},
      "cell_type": "markdown",
      "source": "---\n<font size=\"6\" color=\"#B24C00\"  face=\"verdana\"> <B>Task 4</B></font>\n\n## Compound Conditionals"
    },
    {
      "metadata": {
        "collapsed": true,
        "trusted": false
      },
      "cell_type": "code",
      "source": "# [ ] Write a program to validate that user input is outside the range [0, 100]\n\n# --Completed--\n# Solicit user input\nx = input(\"Enter a number outside the range [0, 100]: \")\n\n# Convert the string input into int\nx = int(x)\n\n# Test number for validity\nif ((x < 0) or (x > 100)):\n    print(x, \"is a valid number\")\nelse:\n    print(x, \"is NOT a valid number\")",
      "execution_count": null,
      "outputs": []
    },
    {
      "metadata": {},
      "cell_type": "markdown",
      "source": "### BMI category \nThe Body Mass Index (BMI) measures the body fat using the weight and height of a person. The BMI is used to classify adults into categories as in the following table.\n\n|Category|BMI range|\n|--------|---------|\n|Underweight| < 18.5|\n|Normal Weight| 18.5 - 24.9|\n|Overweight|25 - 29.9|\n|Obese| &geq; 30|\n"
    },
    {
      "metadata": {
        "collapsed": true,
        "trusted": false
      },
      "cell_type": "code",
      "source": "# [ ] Write a program to ask a user for her/his BMI index, then display the user's BMI category\n\n# --Completed--\n\n# Ask for BMI\nbmi = float(input(\"Enter your BMI: \"))\n\n# Display the BMI category\nif (bmi < 18.5):\n    print(\"Underweight\")\nelif (bmi >= 18.5 and bmi <= 24.9):\n    print(\"Normal weight\")\nelif (bmi >= 25 and bmi <= 29.9):\n    print(\"Overweight\")\nelse:\n    print(\"Obese\")",
      "execution_count": null,
      "outputs": []
    }
  ],
  "metadata": {
    "kernelspec": {
      "name": "python3",
      "display_name": "Python 3",
      "language": "python"
    },
    "language_info": {
      "codemirror_mode": {
        "name": "ipython",
        "version": 3
      },
      "file_extension": ".py",
      "mimetype": "text/x-python",
      "name": "python",
      "nbconvert_exporter": "python",
      "pygments_lexer": "ipython3",
      "version": "3.6.3"
    }
  },
  "nbformat": 4,
  "nbformat_minor": 2
}