{
  "cells": [
    {
      "metadata": {
        "trusted": true
      },
      "cell_type": "code",
      "source": "#Five Guys\nfChoice = input(\"Hamburger, cheeseburger, or hot dog? \").lower()\nif fChoice == \"hamburger\":\n    fPrice = 4.00\nelif fChoice == \"cheeseburger\":\n    fPrice = 5.00\nelif fChoice == \"hot dog\":\n    fPrice = 3.50\ndChoice = input(\"Do you want a drink? (y/n) \").lower()\nif dChoice == \"y\":\n    dChoice = input(\"Soda, milkshake, or water? \")\n    if dChoice == \"soda\":\n        dPrice = 1.50\n    elif dChoice == \"milkshake\":\n        dPrice = 2.50\n    elif dChoice == \"water\":\n        dPrice = 0.00\nelse:\n    dPrice = 0.00\nprint(\"Your food will be $%.2f and your drink will be $%.2f, for a total of $%.2f\" %(fPrice, dPrice, fPrice + dPrice))",
      "execution_count": 2,
      "outputs": [
        {
          "output_type": "stream",
          "name": "stdout",
          "text": "Hamburger, cheeseburger, or hot dog? Cheeseburger\nDo you want a drink? (y/n) Y\nSoda, milkshake, or water? milkshake\nYour food will be $5.00 and your drink will be $2.50, for a total of $7.50\n"
        }
      ]
    }
  ],
  "metadata": {
    "kernelspec": {
      "name": "python36",
      "display_name": "Python 3.6",
      "language": "python"
    },
    "language_info": {
      "mimetype": "text/x-python",
      "nbconvert_exporter": "python",
      "name": "python",
      "pygments_lexer": "ipython3",
      "version": "3.6.6",
      "file_extension": ".py",
      "codemirror_mode": {
        "version": 3,
        "name": "ipython"
      }
    }
  },
  "nbformat": 4,
  "nbformat_minor": 2
}