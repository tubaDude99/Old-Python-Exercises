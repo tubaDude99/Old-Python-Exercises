{
  "cells": [
    {
      "metadata": {
        "collapsed": true
      },
      "cell_type": "markdown",
      "source": "#  Module 1 Project  \nCourse 40460: Introduction to Python, Unit 1\n\nThe activity is based on Module 1 and is similar to the Jupyter Notebook for Module 1 practice, which you may have completed.\n\n> **NOTE:** This program requires print output and code syntax used in Module 1.\n\n| Some Assignment Requirements |  \n|:-------------------------------|  \n| **NOTE:** This program requires `print` output and using code syntax used in Module 1 such as variable assignment, `input`, `in` keyword, `.lower()` or `.upper()` method.  |  \n\n\n## Program: Allergy Check  \n\n1. **[ ]** Get user **`input`** for categories of food eaten in the last 24 hours  \n save in a variable called **input_test**.  \n *Example input*\n [![01 02 practice Allergy-input](https://iajupyterprodblobs.blob.core.windows.net/imagecontainer/eaten_input.gif) ](https://1drv.ms/i/s!Am_KPRosgtaij65qzFD5CGvv95-ijg)\n&nbsp;  \n2. **[ ]** Print **`True`** if \"dairy\" is in the **input_test** string.  \n**[ ]** Test the code so far.  \n&nbsp;\n3. **[ ]** Modify the print statement to output similar to below.  \n*Example output*\n[![01 02 Allergy output](https://iajupyterprodblobs.blob.core.windows.net/imagecontainer/eaten_output.gif) ](https://1drv.ms/i/s!Am_KPRosgtaij65rET-wmlpCdMX7CQ)  \nTest the code so far trying input including and without the string \"dairy\".  \n&nbsp;  \n\n4. **[ ]** Repeat the process checking the input for \"nuts\", **challenge** add \"Seafood\" and \"chocolate\".  \n**[ ]** Test your code.  \n&nbsp;  \n  \n5. **[ ] Challenge:** Make your code work for input regardless of case, e.g. - print **`True`** for \"Nuts\", \"NuTs\", \"NUTS\" or \"nuts\".  \n"
    },
    {
      "metadata": {
        "trusted": true
      },
      "cell_type": "code",
      "source": "# Create Allergy check code\n\n# [ ] get input for input_test variable\ninput_test = input(\"enter somethings eaten in last 24 hrs: \").lower()\n\n# [ ] print \"True\" message if \"dairy\" is in the input or False message if not\ndairy = 'dairy' in input_test\nprint('It is', dairy, 'that \"' + input_test + '\" contains \"dairy\"')\n\n# [ ] print True message if \"nuts\" is in the input or False if not\nnuts = 'nuts' in input_test\nprint('It is', nuts, 'that \"' + input_test + '\" contains \"nuts\"')\n# [ ] Challenge: Check if \"seafood\" is in the input - print message\nseafood = 'seafood' in input_test\nprint('It is', seafood, 'that \"' + input_test + '\" contains \"seafood\"')\n# [ ] Challenge: Check if \"chocolate\" is in the input - print message\nchocolate = 'chocolate' in input_test\nprint('It is', chocolate, 'that \"' + input_test + '\" contains \"chocolate\"')",
      "execution_count": 6,
      "outputs": [
        {
          "output_type": "stream",
          "name": "stdout",
          "text": "enter somethings eaten in last 24 hrs: NuTs dAiry choCOLATe SeaFooD\nIt is True that \"nuts dairy chocolate seafood\" contains \"dairy\"\nIt is True that \"nuts dairy chocolate seafood\" contains \"nuts\"\nIt is True that \"nuts dairy chocolate seafood\" contains \"seafood\"\nIt is True that \"nuts dairy chocolate seafood\" contains \"chocolate\"\n"
        }
      ]
    },
    {
      "metadata": {},
      "cell_type": "markdown",
      "source": "[Terms of use](http://go.microsoft.com/fwlink/?LinkID=206977) &nbsp; [Privacy & cookies](https://go.microsoft.com/fwlink/?LinkId=521839) &nbsp; © 2017 Microsoft"
    }
  ],
  "metadata": {
    "anaconda-cloud": {},
    "kernelspec": {
      "name": "python3",
      "display_name": "Python 3",
      "language": "python"
    },
    "language_info": {
      "mimetype": "text/x-python",
      "nbconvert_exporter": "python",
      "name": "python",
      "pygments_lexer": "ipython3",
      "version": "3.5.4",
      "file_extension": ".py",
      "codemirror_mode": {
        "version": 3,
        "name": "ipython"
      }
    }
  },
  "nbformat": 4,
  "nbformat_minor": 1
}