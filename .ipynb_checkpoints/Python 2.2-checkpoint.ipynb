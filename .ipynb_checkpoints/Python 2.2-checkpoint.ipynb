{
  "cells": [
    {
      "metadata": {},
      "cell_type": "markdown",
      "source": "# Section 2.2\n## Function Return and Multi-Parameters\n- Creating a simple function with a parameter\n- **Exploring functions with `return` values**  \n- **Creating functions with multiple parameters**  \n- Sequence in Python  \n\n-----\n\n### Student will be able to\n- Create functions with a parameter  \n- **Create functions with a `return` value**\n- **Create functions with multiple parameters**\n- Use knowledge of sequence in coding tasks \n- Use coding best practices "
    },
    {
      "metadata": {},
      "cell_type": "markdown",
      "source": "## Concept: Functions with Return Values\n\n[![view video](https://iajupyterprodblobs.blob.core.windows.net/imagecontainer/common/play_video.png)]( http://edxinteractivepage.blob.core.windows.net/edxpages/f7cff1a7-5601-48a1-95a6-fd1fdfabd20e.html?details=[{\"src\":\"http://jupyternootbookwams.streaming.mediaservices.windows.net/db990568-d940-4ede-a063-7e40ed25c978/Unit1_Section3.2-function-return.ism/manifest\",\"type\":\"application/vnd.ms-sstr+xml\"}],[{\"src\":\"http://jupyternootbookwams.streaming.mediaservices.windows.net/db990568-d940-4ede-a063-7e40ed25c978/Unit1_Section3.2-function-return.vtt\",\"srclang\":\"en\",\"kind\":\"subtitles\",\"label\":\"english\"}])\n- **`type()`** returns an object type.\n-  **`type()`** can be called with a float the return value can be stored in a variable.\n```python\nobject_type = type(2.33)\n```  \n\n## Creating a function with a return value  \n- **`return`** keyword in a function *returns* a value after *exiting* the function.  \n\n```python\ndef msg_double(phrase):\n      double = phrase + \" \" + phrase\n      return double\n```  \n"
    },
    {
      "metadata": {},
      "cell_type": "markdown",
      "source": "### Example \n  \nReview and run the code."
    },
    {
      "metadata": {
        "trusted": true
      },
      "cell_type": "code",
      "source": "# Message double returns the string Argument doubled\ndef msg_double(phrase):\n      double = phrase + \" \" + phrase\n      return double\n\n# save return value in variable\nmsg_2x = msg_double(\"let's go\")\nprint(msg_2x)",
      "execution_count": 1,
      "outputs": [
        {
          "output_type": "stream",
          "text": "let's go let's go\n",
          "name": "stdout"
        }
      ]
    },
    {
      "metadata": {
        "trusted": true
      },
      "cell_type": "code",
      "source": "# example of functions with return values used in functions\ndef msg_double(phrase):\n      double = phrase + \" \" + phrase\n      return double\n\n# prints the returned object\nprint(msg_double(\"Save Now!\"))\n\n# echo the type of the returned object\ntype(msg_double(\"Save Now!\"))",
      "execution_count": 2,
      "outputs": [
        {
          "output_type": "stream",
          "text": "Save Now! Save Now!\n",
          "name": "stdout"
        },
        {
          "output_type": "execute_result",
          "execution_count": 2,
          "data": {
            "text/plain": "str"
          },
          "metadata": {}
        }
      ]
    },
    {
      "metadata": {},
      "cell_type": "markdown",
      "source": "## Task 1: A function that adds the \"Doctor\" title to a name\n- Define function `make_doctor()`&nbsp; that takes a parameter `name`\n- Get user **input** for variable **`full_name`**\n- Call the function using `full_name` &nbsp; as argument\n- Print the return value"
    },
    {
      "metadata": {
        "trusted": true
      },
      "cell_type": "code",
      "source": "# create and call make_doctor() with full_name argument from user input - then print the return value\ndef make_doctor(full_name):\n    return(\"Dr. \"+full_name)\nprint(make_doctor(\"Richard Williams\"))",
      "execution_count": 5,
      "outputs": [
        {
          "output_type": "stream",
          "text": "Dr. Richard Williams\n",
          "name": "stdout"
        }
      ]
    },
    {
      "metadata": {
        "collapsed": true
      },
      "cell_type": "markdown",
      "source": "## Concept: Functions with Multiple Parameters\nFunctions can have multiple parameters separated by commas.\n\n[![view video](https://iajupyterprodblobs.blob.core.windows.net/imagecontainer/common/play_video.png)]( http://edxinteractivepage.blob.core.windows.net/edxpages/f7cff1a7-5601-48a1-95a6-fd1fdfabd20e.html?details=[{\"src\":\"http://jupyternootbookwams.streaming.mediaservices.windows.net/d82c3856-61ff-4fa3-9a20-df8f6ea4dd7a/Unit1_Section3.2-MultiParam_Function.ism/manifest\",\"type\":\"application/vnd.ms-sstr+xml\"}],[{\"src\":\"http://jupyternootbookwams.streaming.mediaservices.windows.net/d82c3856-61ff-4fa3-9a20-df8f6ea4dd7a/Unit1_Section3.2-MultiParam_Function.vtt\",\"srclang\":\"en\",\"kind\":\"subtitles\",\"label\":\"english\"}])"
    },
    {
      "metadata": {
        "collapsed": true
      },
      "cell_type": "markdown",
      "source": "### Example\n  \nReview and run the code."
    },
    {
      "metadata": {
        "trusted": true
      },
      "cell_type": "code",
      "source": "def make_schedule(period1, period2):\n    schedule = (\"[1st] \" + period1.title() + \", [2nd] \" + period2.title())\n    return schedule\n\nstudent_schedule = make_schedule(\"mathematics\", \"history\")\nprint(\"SCHEDULE:\", student_schedule)",
      "execution_count": 6,
      "outputs": [
        {
          "output_type": "stream",
          "text": "SCHEDULE: [1st] Mathematics, [2nd] History\n",
          "name": "stdout"
        }
      ]
    },
    {
      "metadata": {
        "collapsed": true
      },
      "cell_type": "markdown",
      "source": "## Task 2: Define `make_schedule()` and add a 3rd period \n- Start with the above example code\n- Add a parameter period_3\n- Update function code to add period_3 to the schedule\n- Call **`student_schedule()`** with an additional argument such as 'science'\n- Print the schedule"
    },
    {
      "metadata": {
        "trusted": true
      },
      "cell_type": "code",
      "source": "# [ ] add a 3rd period parameter to make_schedule\n# [ ] Optional - print a schedule for 6 classes (Tip: perhaps let the function make this easy)\ndef make_schedule(period1, period2, period3):\n    schedule = (\"[1st] \" + period1.title() + \", [2nd] \" + period2.title() + \", [3rd] \" + period3.title())\n    return schedule\nmake_schedule(\"math\",\"english\",\"economics\")",
      "execution_count": 8,
      "outputs": [
        {
          "output_type": "execute_result",
          "execution_count": 8,
          "data": {
            "text/plain": "'[1st] Math, [2nd] English, [3rd] Economics'"
          },
          "metadata": {}
        }
      ]
    },
    {
      "metadata": {},
      "cell_type": "markdown",
      "source": "[Terms of use](http://go.microsoft.com/fwlink/?LinkID=206977) &nbsp; [Privacy & cookies](https://go.microsoft.com/fwlink/?LinkId=521839) &nbsp; © 2017 Microsoft"
    }
  ],
  "metadata": {
    "anaconda-cloud": {},
    "kernelspec": {
      "name": "python3",
      "display_name": "Python 3",
      "language": "python"
    },
    "language_info": {
      "mimetype": "text/x-python",
      "nbconvert_exporter": "python",
      "name": "python",
      "pygments_lexer": "ipython3",
      "version": "3.5.4",
      "file_extension": ".py",
      "codemirror_mode": {
        "version": 3,
        "name": "ipython"
      }
    }
  },
  "nbformat": 4,
  "nbformat_minor": 1
}