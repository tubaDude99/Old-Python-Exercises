{
  "cells": [
    {
      "metadata": {},
      "cell_type": "markdown",
      "source": "# 2-3 Intro Python Practice  \n## power iteration of sequences\n\n<font size=\"5\" color=\"#00A0B2\"  face=\"verdana\"> <B>Student will be able to</B></font>  \n- Iterate through Lists using **`for`** and **`in`**\n- Use **`for` *`count`* `in range()`** in looping operations  \n- Use list methods **`.extend()`, `+, .reverse(), .sort()`**  \n- convert between lists and strings using  **`.split()`** and **`.join()`**\n- cast strings to lists **/** direct multiple print outputs to a single line.  ** `print(\"hi\", end='')`**"
    },
    {
      "metadata": {},
      "cell_type": "markdown",
      "source": "# &nbsp;\n<font size=\"6\" color=\"#B24C00\"  face=\"verdana\"> <B>Task 1</B></font>\n##  list iteration: `for in`\n### `for item in list:`"
    },
    {
      "metadata": {
        "trusted": true
      },
      "cell_type": "code",
      "source": "# [ ] print out the \"physical states of matter\" (matter_states) in 4 sentences using list iteration\n# each sentence should be of the format: \"Solid - is state of matter #1\" \nmatter_states = ['solid', 'liquid', 'gas', 'plasma']\nfor x in matter_states:\n    print(x,\"- is state of matter #%i\" %(matter_states.index(x) + 1))",
      "execution_count": 4,
      "outputs": [
        {
          "output_type": "stream",
          "text": "solid - is state of matter #1\nliquid - is state of matter #2\ngas - is state of matter #3\nplasma - is state of matter #4\n",
          "name": "stdout"
        }
      ]
    },
    {
      "metadata": {
        "trusted": true
      },
      "cell_type": "code",
      "source": "# [ ] iterate the list (birds) to see any bird names start with \"c\" and remove that item from the list\n# print the birds list before and after removals\nbirds = [\"turkey\", \"hawk\", \"chicken\", \"dove\", \"crow\"]\nprint(birds)\nfor b in birds:\n    if b.startswith(\"c\"):\n        print(birds.pop(birds.index(b)))\nprint(birds)",
      "execution_count": 7,
      "outputs": [
        {
          "output_type": "stream",
          "text": "['turkey', 'hawk', 'chicken', 'dove', 'crow']\nchicken\ncrow\n['turkey', 'hawk', 'dove']\n",
          "name": "stdout"
        }
      ]
    },
    {
      "metadata": {
        "trusted": true
      },
      "cell_type": "code",
      "source": "# the team makes 1pt, 2pt or 3pt baskets\n# [ ] print the occurace of each type of basket(1pt, 2pt, 3pt) & total points using the list baskets\nbaskets = [2,2,2,1,2,1,3,3,1,2,2,2,2,1,3]\nt = 0\np = [0,0,0]\nfor b in baskets:\n    t+=b\n    p[b-1] += 1\nprint(\"There were %i 1-point baskets, %i 2-point baskets, and %i 3-point basket, for a total of %i points\" %(p[0],p[1],p[2],t))",
      "execution_count": 9,
      "outputs": [
        {
          "output_type": "stream",
          "text": "There were 4 1-point baskets, 8 2-point baskets, and 3 3-point basket, for a total of 29 points\n",
          "name": "stdout"
        }
      ]
    },
    {
      "metadata": {},
      "cell_type": "markdown",
      "source": "# &nbsp;\n<font size=\"6\" color=\"#B24C00\"  face=\"verdana\"> <B>Task 2</B></font>\n##  iteration with `range(start)` & `range(start,stop)`\n"
    },
    {
      "metadata": {
        "trusted": true
      },
      "cell_type": "code",
      "source": "# [ ] using range() print \"hello\" 4 times\nfor x in range(4):\n    print('hello')",
      "execution_count": 10,
      "outputs": [
        {
          "output_type": "stream",
          "text": "hello\nhello\nhello\nhello\n",
          "name": "stdout"
        }
      ]
    },
    {
      "metadata": {
        "trusted": true
      },
      "cell_type": "code",
      "source": "# [ ] find spell_list length\n# [ ] use range() to iterate each half of spell_list  \n# [ ] label & print the first and second halves\nspell_list = [\"Tuesday\", \"Wednesday\", \"February\", \"November\", \"Annual\", \"Calendar\", \"Solstice\"]\nlen(spell_list)\nfor x in spell_list[:int(len(spell_list)/2)]:\n    print(x, end=', ')\nprint(\"\\n\")\nfor x in spell_list[int(len(spell_list)/2):]:\n    print(x, end=', ')",
      "execution_count": 16,
      "outputs": [
        {
          "output_type": "stream",
          "text": "Tuesday, Wednesday, February, \n\nNovember, Annual, Calendar, Solstice, ",
          "name": "stdout"
        }
      ]
    },
    {
      "metadata": {
        "trusted": true
      },
      "cell_type": "code",
      "source": "# [ ] build a list of numbers from 20 to 29: twenties \n# append each number to twenties list using range(start,stop) iteration\n# [ ] print twenties\ntwenties = []\nfor x in range(20,30):\n    twenties += [x]\nprint(twenties)",
      "execution_count": 18,
      "outputs": [
        {
          "output_type": "stream",
          "text": "[20, 21, 22, 23, 24, 25, 26, 27, 28, 29]\n",
          "name": "stdout"
        }
      ]
    },
    {
      "metadata": {
        "trusted": true
      },
      "cell_type": "code",
      "source": "# [ ] iterate through the numbers populated in the list twenties and add each number to a variable: total\n# [ ] print total\nt = 0\nfor x in twenties:\n    t += x\nprint(t)",
      "execution_count": 19,
      "outputs": [
        {
          "output_type": "stream",
          "text": "245\n",
          "name": "stdout"
        }
      ]
    },
    {
      "metadata": {
        "trusted": true
      },
      "cell_type": "code",
      "source": "# check your answer above using range(start,stop)\n# [ ] iterate each number from 20 to 29 using range()\n# [ ] add each number to a variable (total) to calculate the sum\n# should match earlier task \nt = 0\nfor x in range(20,30):\n    t += x\nprint(t)",
      "execution_count": 20,
      "outputs": [
        {
          "output_type": "stream",
          "text": "245\n",
          "name": "stdout"
        }
      ]
    },
    {
      "metadata": {},
      "cell_type": "markdown",
      "source": "# &nbsp;\n<font size=\"6\" color=\"#B24C00\"  face=\"verdana\"> <B>Task 3</B></font>\n##  iteration with `range(start:stop:skip)`\n"
    },
    {
      "metadata": {
        "trusted": true
      },
      "cell_type": "code",
      "source": "# [ ] create a list of odd numbers (odd_nums) from 1 to 25 using range(start,stop,skip)\n# [ ] print odd_nums\n# hint: odd numbers are 2 digits apart\no = []\nfor x in range(1,26,2):\n    o += [x]\nprint(o)",
      "execution_count": 21,
      "outputs": [
        {
          "output_type": "stream",
          "text": "[1, 3, 5, 7, 9, 11, 13, 15, 17, 19, 21, 23, 25]\n",
          "name": "stdout"
        }
      ]
    },
    {
      "metadata": {
        "trusted": true
      },
      "cell_type": "code",
      "source": "# [ ] create a Decending list of odd numbers (odd_nums) from 25 to 1 using range(start,stop,skip)\n# [ ] print odd_nums,  output should resemble [25, 23, ...]\nd = []\nfor x in range(25,0,-1):\n    d += [x]\nprint(d)",
      "execution_count": 23,
      "outputs": [
        {
          "output_type": "stream",
          "text": "[25, 24, 23, 22, 21, 20, 19, 18, 17, 16, 15, 14, 13, 12, 11, 10, 9, 8, 7, 6, 5, 4, 3, 2, 1]\n",
          "name": "stdout"
        }
      ]
    },
    {
      "metadata": {
        "trusted": true
      },
      "cell_type": "code",
      "source": "# the list, elements, contains the names of the first 20 elements in atomic number order\n# [ ] print the even number elements \"2 - Helium, 4 - Beryllium,..\" in the list with the atomic number\nelements = ['Hydrogen', 'Helium', 'Lithium', 'Beryllium', 'Boron', 'Carbon', 'Nitrogen', 'Oxygen', 'Fluorine', \\\n 'Neon', 'Sodium', 'Magnesium', 'Aluminum', 'Silicon', 'Phosphorus', 'Sulfur', 'Chlorine', 'Argon', \\\n 'Potassium', 'Calcium']\nfor x in range(1,20,2):\n    print(elements[x])\n",
      "execution_count": 24,
      "outputs": [
        {
          "output_type": "stream",
          "text": "Helium\nBeryllium\nCarbon\nOxygen\nNeon\nMagnesium\nSilicon\nSulfur\nArgon\nCalcium\n",
          "name": "stdout"
        }
      ]
    },
    {
      "metadata": {
        "trusted": true
      },
      "cell_type": "code",
      "source": "# [ ] # the list, elements_60, contains the names of the first 60 elements in atomic number order\n# [ ] print the odd number elements \"1 - Hydrogen, 3 - Lithium,..\" in the list with the atomic number elements_60\nelements_60 = ['Hydrogen', 'Helium', 'Lithium', 'Beryllium', 'Boron', 'Carbon', 'Nitrogen', \\\n 'Oxygen', 'Fluorine', 'Neon', 'Sodium', 'Magnesium', 'Aluminum', 'Silicon', \\\n 'Phosphorus', 'Sulfur', 'Chlorine', 'Argon', 'Potassium', 'Calcium', 'Hydrogen', \\\n 'Helium', 'Lithium', 'Beryllium', 'Boron', 'Carbon', 'Nitrogen', 'Oxygen', 'Fluorine', \\\n 'Neon', 'Sodium', 'Magnesium', 'Aluminum', 'Silicon', 'Phosphorus', 'Sulfur', 'Chlorine', \\\n 'Argon', 'Potassium', 'Calcium', 'Scandium', 'Titanium', 'Vanadium', 'Chromium', 'Manganese', \\\n 'Iron', 'Cobalt', 'Nickel', 'Copper', 'Zinc', 'Gallium', 'Germanium', 'Arsenic', 'Selenium', \\\n 'Bromine', 'Krypton', 'Rubidium', 'Strontium', 'Yttrium', 'Zirconium']\nfor x in range(0,60,2):\n    print(elements_60[x])",
      "execution_count": 25,
      "outputs": [
        {
          "output_type": "stream",
          "text": "Hydrogen\nLithium\nBoron\nNitrogen\nFluorine\nSodium\nAluminum\nPhosphorus\nChlorine\nPotassium\nHydrogen\nLithium\nBoron\nNitrogen\nFluorine\nSodium\nAluminum\nPhosphorus\nChlorine\nPotassium\nScandium\nVanadium\nManganese\nCobalt\nCopper\nGallium\nArsenic\nBromine\nRubidium\nYttrium\n",
          "name": "stdout"
        }
      ]
    },
    {
      "metadata": {},
      "cell_type": "markdown",
      "source": "# &nbsp;\n<font size=\"6\" color=\"#B24C00\"  face=\"verdana\"> <B>Task 4</B></font>\n## combine lists with `+` and `.extend()`"
    },
    {
      "metadata": {
        "trusted": true
      },
      "cell_type": "code",
      "source": "# [ ] print the combined lists (numbers_1 & numbers_2) using \"+\" operator\nnumbers_1 = [20, 21, 22, 23, 24, 25, 26, 27, 28, 29]\n\n# pythonic casting of a range into a list\nnumbers_2 = list(range(30,50,2))\n\nprint(\"numbers_1:\",numbers_1)\nprint(\"numbers_2\",numbers_2)\nprint(numbers_1 + numbers_2)\n",
      "execution_count": 26,
      "outputs": [
        {
          "output_type": "stream",
          "text": "numbers_1: [20, 21, 22, 23, 24, 25, 26, 27, 28, 29]\nnumbers_2 [30, 32, 34, 36, 38, 40, 42, 44, 46, 48]\n[20, 21, 22, 23, 24, 25, 26, 27, 28, 29, 30, 32, 34, 36, 38, 40, 42, 44, 46, 48]\n",
          "name": "stdout"
        }
      ]
    },
    {
      "metadata": {
        "trusted": true
      },
      "cell_type": "code",
      "source": "# [ ] print the combined element lists (first_row & second_row) using \".extend()\" method\nfirst_row = ['Hydrogen', 'Helium']\nsecond_row = ['Lithium', 'Beryllium', 'Boron', 'Carbon', 'Nitrogen', 'Oxygen', 'Fluorine', 'Neon']\n\nprint(\"1st Row:\", first_row)\nprint(\"2nd Row:\", second_row)\nfirst_row.extend(second_row)\nprint(first_row)",
      "execution_count": 28,
      "outputs": [
        {
          "output_type": "stream",
          "text": "1st Row: ['Hydrogen', 'Helium']\n2nd Row: ['Lithium', 'Beryllium', 'Boron', 'Carbon', 'Nitrogen', 'Oxygen', 'Fluorine', 'Neon']\n['Hydrogen', 'Helium', 'Lithium', 'Beryllium', 'Boron', 'Carbon', 'Nitrogen', 'Oxygen', 'Fluorine', 'Neon']\n",
          "name": "stdout"
        }
      ]
    },
    {
      "metadata": {},
      "cell_type": "markdown",
      "source": "## Project: Combine 3 element rows\nChoose to use **\"+\" or \".extend()\" **to build output similar to   \n\n```\nThe 1st three rows of the Period Table of Elements contain:\n['Hydrogen', 'Helium', 'Lithium', 'Beryllium', 'Boron', 'Carbon', 'Nitrogen', 'Oxygen', 'Fluorine', 'Neon', 'Sodium', 'Magnesium', 'Aluminum', 'Silicon', 'Phosphorus', 'Sulfur', 'Chlorine', 'Argon']\n\nThe row breakdown is\nRow 1: Hydrogen, Helium\nRow 2: Lithium, Beryllium, Boron, Carbon, Nitrogen, Oxygen, Fluorine, Neon\nRow 3: Sodium, Magnesium, Aluminum, Silicon, Phosphorus, Sulfur, Chlorine, Argon\n```"
    },
    {
      "metadata": {
        "trusted": true
      },
      "cell_type": "code",
      "source": "# [ ] create the program: combined 3 element rows \n\nelem_1 = ['Hydrogen', 'Helium'] \nelem_2 = ['Lithium', 'Beryllium', 'Boron', 'Carbon', 'Nitrogen', 'Oxygen', 'Fluorine', 'Neon']\nelem_3 = ['Sodium', 'Magnesium', 'Aluminum', 'Silicon', 'Phosphorus', 'Sulfur', 'Chlorine', 'Argon']\nprint(elem_1+elem_2+elem_3)\n",
      "execution_count": 30,
      "outputs": [
        {
          "output_type": "stream",
          "text": "['Hydrogen', 'Helium', 'Lithium', 'Beryllium', 'Boron', 'Carbon', 'Nitrogen', 'Oxygen', 'Fluorine', 'Neon', 'Sodium', 'Magnesium', 'Aluminum', 'Silicon', 'Phosphorus', 'Sulfur', 'Chlorine', 'Argon']\n",
          "name": "stdout"
        }
      ]
    },
    {
      "metadata": {
        "trusted": true
      },
      "cell_type": "code",
      "source": "# [ ] .extend() jack_jill with \"next_line\" string - print the result\njack_jill = ['Jack', 'and', 'Jill', 'went', 'up', 'the', 'hill']\nnext_line = ['To', 'fetch', 'a', 'pail', 'of', 'water']\njack_jill.extend(next_line)\nprint(jack_jill)",
      "execution_count": 31,
      "outputs": [
        {
          "output_type": "stream",
          "text": "['Jack', 'and', 'Jill', 'went', 'up', 'the', 'hill', 'To', 'fetch', 'a', 'pail', 'of', 'water']\n",
          "name": "stdout"
        }
      ]
    },
    {
      "metadata": {},
      "cell_type": "markdown",
      "source": "# &nbsp;\n<font size=\"6\" color=\"#B24C00\"  face=\"verdana\"> <B>Task 5</B></font>\n## .reverse() : reverse a list in place"
    },
    {
      "metadata": {
        "trusted": true
      },
      "cell_type": "code",
      "source": "# [ ] use .reverse() to print elements starting with \"Calcium\", \"Chlorine\",... in reverse order\nelements = ['Hydrogen', 'Helium', 'Lithium', 'Beryllium', 'Boron', 'Carbon', 'Nitrogen', 'Oxygen', 'Fluorine', \\\n 'Neon', 'Sodium', 'Magnesium', 'Aluminum', 'Silicon', 'Phosphorus', 'Sulfur', 'Chlorine', 'Argon', \\\n 'Potassium', 'Calcium']\nelements.reverse()\nprint(elements)",
      "execution_count": 32,
      "outputs": [
        {
          "output_type": "stream",
          "text": "['Calcium', 'Potassium', 'Argon', 'Chlorine', 'Sulfur', 'Phosphorus', 'Silicon', 'Aluminum', 'Magnesium', 'Sodium', 'Neon', 'Fluorine', 'Oxygen', 'Nitrogen', 'Carbon', 'Boron', 'Beryllium', 'Lithium', 'Helium', 'Hydrogen']\n",
          "name": "stdout"
        }
      ]
    },
    {
      "metadata": {
        "trusted": true
      },
      "cell_type": "code",
      "source": "# [ ] print words in spell_list that 8 or more characters in length in reverse order\nspell_list = [\"Tuesday\", \"Wednesday\", \"February\", \"November\", \"Annual\", \"Calendar\", \"Solstice\"]\nfor x in spell_list:\n    if len(x) >= 8:\n        print(x[::-1])",
      "execution_count": 36,
      "outputs": [
        {
          "output_type": "stream",
          "text": "yadsendeW\nyraurbeF\nrebmevoN\nradnelaC\necitsloS\n",
          "name": "stdout"
        }
      ]
    },
    {
      "metadata": {},
      "cell_type": "markdown",
      "source": "# &nbsp;\n<font size=\"6\" color=\"#B24C00\"  face=\"verdana\"> <B>Task 6</B></font>\n## .sort() and sorted()"
    },
    {
      "metadata": {
        "trusted": true
      },
      "cell_type": "code",
      "source": "# [ ] sort the list element, so names are in alphabetical order and print elements\nelements = ['Hydrogen', 'Helium', 'Lithium', 'Beryllium', 'Boron', 'Carbon', 'Nitrogen', 'Oxygen', 'Fluorine', \\\n 'Neon', 'Sodium', 'Magnesium', 'Aluminum', 'Silicon', 'Phosphorus', 'Sulfur', 'Chlorine', 'Argon', \\\n 'Potassium', 'Calcium']\nelements.sort()\nprint(elements)",
      "execution_count": 37,
      "outputs": [
        {
          "output_type": "stream",
          "text": "['Aluminum', 'Argon', 'Beryllium', 'Boron', 'Calcium', 'Carbon', 'Chlorine', 'Fluorine', 'Helium', 'Hydrogen', 'Lithium', 'Magnesium', 'Neon', 'Nitrogen', 'Oxygen', 'Phosphorus', 'Potassium', 'Silicon', 'Sodium', 'Sulfur']\n",
          "name": "stdout"
        }
      ]
    },
    {
      "metadata": {
        "trusted": true
      },
      "cell_type": "code",
      "source": "# [ ] print the list, numbers, sorted and then below print the original numbers list \nnumbers = [2,2,2,1,2,1,3,3,1,2,2,2,2,1,3]\nprint(sorted(numbers))\nprint(numbers)",
      "execution_count": 38,
      "outputs": [
        {
          "output_type": "stream",
          "text": "[1, 1, 1, 1, 2, 2, 2, 2, 2, 2, 2, 2, 3, 3, 3]\n[2, 2, 2, 1, 2, 1, 3, 3, 1, 2, 2, 2, 2, 1, 3]\n",
          "name": "stdout"
        }
      ]
    },
    {
      "metadata": {},
      "cell_type": "markdown",
      "source": "# &nbsp;\n<font size=\"6\" color=\"#B24C00\"  face=\"verdana\"> <B>Task 7</B></font>\n## Converting a string to a list with `.split()`"
    },
    {
      "metadata": {
        "trusted": true
      },
      "cell_type": "code",
      "source": "# [ ] split the string, daily_fact, into a list of word strings: fact_words\n# [ ] print each string in fact_words in upper case on it's own line\ndF = \"Did you know that there are 1.4 billion students in the world?\"\nfW = dF.split()\nfor x in fW:\n    print(x.upper())",
      "execution_count": 40,
      "outputs": [
        {
          "output_type": "stream",
          "text": "DID\nYOU\nKNOW\nTHAT\nTHERE\nARE\n1.4\nBILLION\nSTUDENTS\nIN\nTHE\nWORLD?\n",
          "name": "stdout"
        }
      ]
    },
    {
      "metadata": {
        "trusted": true
      },
      "cell_type": "code",
      "source": "# [ ] convert the string, code_tip, into a list made from splitting on the letter \"o\"\ncT = 'isdrubhasero frfiowehjofbsdfowejlozdihf oseih asdiof haseo aebf ae adc asdo foasfh oascfh sdfouiae fhsdocvsdhohasvobsda'\nprint(cT.split('o'))",
      "execution_count": 41,
      "outputs": [
        {
          "output_type": "stream",
          "text": "['isdrubhaser', ' frfi', 'wehj', 'fbsdf', 'wejl', 'zdihf ', 'seih asdi', 'f hase', ' aebf ae adc asd', ' f', 'asfh ', 'ascfh sdf', 'uiae fhsd', 'cvsdh', 'hasv', 'bsda']\n",
          "name": "stdout"
        }
      ]
    },
    {
      "metadata": {
        "trusted": true
      },
      "cell_type": "code",
      "source": "# [ ] split poem on \"b\" to create a list: poem_words\n# [ ] print poem_words by iterating the list\npoem = \"The bright brain, has bran!\"\npW = poem.split(\"b\")\nfor x in pW:\n    print(x)",
      "execution_count": 42,
      "outputs": [
        {
          "output_type": "stream",
          "text": "The \nright \nrain, has \nran!\n",
          "name": "stdout"
        }
      ]
    },
    {
      "metadata": {},
      "cell_type": "markdown",
      "source": "# &nbsp;\n<font size=\"6\" color=\"#B24C00\"  face=\"verdana\"> <B>Task 8</B></font>\n## `.join()`\n### build a string from a list"
    },
    {
      "metadata": {
        "trusted": true
      },
      "cell_type": "code",
      "source": "# [ ] print a comma separated string output from the list of Halogen elements using \".join()\"\nhalogens = ['Chlorine', 'Fluorine', 'Bromine', 'Iodine']\nprint(\", \".join(halogens))",
      "execution_count": 45,
      "outputs": [
        {
          "output_type": "stream",
          "text": "Chlorine, Fluorine, Bromine, Iodine\n",
          "name": "stdout"
        }
      ]
    },
    {
      "metadata": {
        "trusted": true
      },
      "cell_type": "code",
      "source": "# [ ] split the sentence, code_tip, into a words list\n# [ ] print the joined words in the list with no spaces in-between\n# [ ] Bonus: capitalize each word in the list before .join()\ncode_tip =\"Read code aloud or explain the code step by step to a peer\".title()\nwL = code_tip.split()\nprint(\"\".join(wL))",
      "execution_count": 46,
      "outputs": [
        {
          "output_type": "stream",
          "text": "ReadCodeAloudOrExplainTheCodeStepByStepToAPeer\n",
          "name": "stdout"
        }
      ]
    },
    {
      "metadata": {},
      "cell_type": "markdown",
      "source": "# &nbsp;\n<font size=\"6\" color=\"#B24C00\"  face=\"verdana\"> <B>Task 8</B></font>  \n## `list(string)` & `print(\"hello\",end=' ')`\n\n- **Cast a string to a list** \n- **print to the same line**   "
    },
    {
      "metadata": {
        "trusted": true
      },
      "cell_type": "code",
      "source": "# [ ] cast the long_word into individual letters list \n# [ ] print each letter on a line\nlong_word = 'decelerating'\nl = list(long_word)\nfor x in l:\n    print(x)",
      "execution_count": 1,
      "outputs": [
        {
          "output_type": "stream",
          "text": "d\ne\nc\ne\nl\ne\nr\na\nt\ni\nn\ng\n",
          "name": "stdout"
        }
      ]
    },
    {
      "metadata": {
        "trusted": true
      },
      "cell_type": "code",
      "source": "# [ ] use use end= in print to output each string in questions with a \"?\" and on new lines\nquestions = [\"What's the closest planet to the Sun\", \"How deep do Dolphins swim\", \"What time is it\"]\nfor x in questions:\n    print(x, end = '?\\n')",
      "execution_count": 2,
      "outputs": [
        {
          "output_type": "stream",
          "text": "What's the closest planet to the Sun?\nHow deep do Dolphins swim?\nWhat time is it?\n",
          "name": "stdout"
        }
      ]
    },
    {
      "metadata": {
        "trusted": true
      },
      "cell_type": "code",
      "source": "# [ ] print each item in foot bones \n#    - capitalized, both words if two word name\n#    - separated by a comma and space\n#    - and keeping on a single print line\nfoot_bones = [\"calcaneus\", \"talus\", \"cuboid\", \"navicular\", \"lateral cuneiform\", \n            \"intermediate cuneiform\", \"medial cuneiform\"]\nfor x in foot_bones:\n    print(x.title(), end = ', ')",
      "execution_count": 3,
      "outputs": [
        {
          "output_type": "stream",
          "text": "Calcaneus, Talus, Cuboid, Navicular, Lateral Cuneiform, Intermediate Cuneiform, Medial Cuneiform, ",
          "name": "stdout"
        }
      ]
    },
    {
      "metadata": {},
      "cell_type": "markdown",
      "source": "[Terms of use](http://go.microsoft.com/fwlink/?LinkID=206977) &nbsp; [Privacy & cookies](https://go.microsoft.com/fwlink/?LinkId=521839) &nbsp; © 2017 Microsoft"
    }
  ],
  "metadata": {
    "anaconda-cloud": {},
    "kernelspec": {
      "name": "python3",
      "display_name": "Python 3",
      "language": "python"
    },
    "language_info": {
      "mimetype": "text/x-python",
      "nbconvert_exporter": "python",
      "name": "python",
      "pygments_lexer": "ipython3",
      "version": "3.5.4",
      "file_extension": ".py",
      "codemirror_mode": {
        "version": 3,
        "name": "ipython"
      }
    }
  },
  "nbformat": 4,
  "nbformat_minor": 1
}