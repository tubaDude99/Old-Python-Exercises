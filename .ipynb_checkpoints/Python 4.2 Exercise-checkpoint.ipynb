{
  "cells": [
    {
      "metadata": {
        "trusted": true
      },
      "cell_type": "code",
      "source": "print(\"Period\\tClass\\tTeacher\\n1st\\tEnglish\\tMann\\n2nd\\tAPES\\tPiper\\n3rd\\tPython\\tNorman\\n4th\\tBand\\tJarvis\")",
      "execution_count": 1,
      "outputs": [
        {
          "output_type": "stream",
          "text": "Period\tClass\tTeacher\n1st\tEnglish\tMann\n2nd\tAPES\tPiper\n3rd\tPython\tNorman\n4th\tBand\tJarvis\n",
          "name": "stdout"
        }
      ]
    },
    {
      "metadata": {
        "trusted": true
      },
      "cell_type": "code",
      "source": "job = input(\"What's your dream job? \")\ndeg = input(\"Does that require a degree? \")\nif deg.lower() == \"yes\":\n    col = input(\"What college or university do you wish to attend? \")\n    print(\"Profession\\tDegree needed?\\tCollege Preference\\n%s\\t%s\\t\\t%s\" %(job,deg,col))\nelse:\n    print(\"Profession\\tDegree needed?\\tCollege Preference\\n%s\\t%s\\t\\t%s\" %(job,deg,\"N/A\"))",
      "execution_count": 6,
      "outputs": [
        {
          "output_type": "stream",
          "name": "stdout",
          "text": "What's your dream job? Engineer\nDoes that require a degree? Yes\nWhat college or university do you wish to attend? mIT\nProfession\tDegree needed?\tCollege Preference\nEngineer\tYes\t\tMit\n"
        }
      ]
    }
  ],
  "metadata": {
    "kernelspec": {
      "name": "python36",
      "display_name": "Python 3.6",
      "language": "python"
    },
    "language_info": {
      "mimetype": "text/x-python",
      "nbconvert_exporter": "python",
      "name": "python",
      "pygments_lexer": "ipython3",
      "version": "3.6.6",
      "file_extension": ".py",
      "codemirror_mode": {
        "version": 3,
        "name": "ipython"
      }
    }
  },
  "nbformat": 4,
  "nbformat_minor": 2
}