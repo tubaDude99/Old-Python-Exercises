{
  "cells": [
    {
      "metadata": {
        "collapsed": true
      },
      "cell_type": "markdown",
      "source": "# Section 1.7\n## Print Formatting\n- input() - gathering user input  \n- **print() formatting**  \n- Quotes inside strings\n- Boolean string tests methods\n- String formatting methods\n- Formatting string input()\n- Boolean `in` keyword \n\n-----\n\n### Students will be able to\n- Gather, store and use string `input()`  \n- **Format `print()` output**  \n- Test string characteristics\n- Format string output\n- Search for a string in a string"
    },
    {
      "metadata": {
        "collapsed": true
      },
      "cell_type": "markdown",
      "source": "## Concept: Comma Print Formatting\n### print() comma-separated strings \nPython provides several methods of formatting strings in the **`print()`** function beyond **string addition**.   \n  \n**`print()`** provides using **commas** to combine strings for output.\nBy comma-separating strings,  **`print()`** will output each separated by a space by default.\n\n[![view video](https://iajupyterprodblobs.blob.core.windows.net/imagecontainer/common/play_video.png)]( http://edxinteractivepage.blob.core.windows.net/edxpages/f7cff1a7-5601-48a1-95a6-fd1fdfabd20e.html?details=[{\"src\":\"http://jupyternootbookwams.streaming.mediaservices.windows.net/ac97f001-e639-494e-aa15-e420efb5a7a8/Unit1_Section2-2-Print-Comma_Format.ism/manifest\",\"type\":\"application/vnd.ms-sstr+xml\"}],[{\"src\":\"http://jupyternootbookwams.streaming.mediaservices.windows.net/ac97f001-e639-494e-aa15-e420efb5a7a8/Unit1_Section2-2-Print-Comma_Format.vtt\",\"srclang\":\"en\",\"kind\":\"subtitles\",\"label\":\"english\"}])\n\n#### Comma formatted `print()`\n- **[ ]** Print 3 strings on the same line using commas inside the `print()` function "
    },
    {
      "metadata": {},
      "cell_type": "markdown",
      "source": "### Examples"
    },
    {
      "metadata": {
        "trusted": true
      },
      "cell_type": "code",
      "source": "# review and run code\n\nname = \"Collette\"\n\n# string addition \nprint(\"Hello \" + name + \"!\")\n\n# comma separation formatting\nprint(\"Hello to\",name,\"who is from the city\")",
      "execution_count": 1,
      "outputs": [
        {
          "output_type": "stream",
          "text": "Hello Collette!\nHello to Collette who is from the city\n",
          "name": "stdout"
        }
      ]
    },
    {
      "metadata": {},
      "cell_type": "markdown",
      "source": "## Task 1\n**Print 3 strings on the same line using commas inside the print() function.**"
    },
    {
      "metadata": {
        "trusted": true
      },
      "cell_type": "code",
      "source": "# [ ] print 3 strings on the same line using commas inside the print() function \nprint(\"Scooby Dooby Doo\",\"Where are you\",\"We've got some work for you now.\")",
      "execution_count": 3,
      "outputs": [
        {
          "output_type": "stream",
          "text": "Scooby Dooby Doo Where are you We've got some work for you now.\n",
          "name": "stdout"
        }
      ]
    },
    {
      "metadata": {},
      "cell_type": "markdown",
      "source": "## Concept: Using Commas in `print()` with Strings and Numbers\n[![view video](https://iajupyterprodblobs.blob.core.windows.net/imagecontainer/common/play_video.png)]( http://edxinteractivepage.blob.core.windows.net/edxpages/f7cff1a7-5601-48a1-95a6-fd1fdfabd20e.html?details=[{\"src\":\"http://jupyternootbookwams.streaming.mediaservices.windows.net/46b436d7-31ed-4e9a-a4c9-55f9eaacfb84/Unit1_Section2-2-Print-String_Number.ism/manifest\",\"type\":\"application/vnd.ms-sstr+xml\"}],[{\"src\":\"http://jupyternootbookwams.streaming.mediaservices.windows.net/46b436d7-31ed-4e9a-a4c9-55f9eaacfb84/Unit1_Section2-2-Print-String_Number.vtt\",\"srclang\":\"en\",\"kind\":\"subtitles\",\"label\":\"english\"}])\n- **`print()`** function formatting with comma separation works different than with string addition.\n- **`print()`**  using comma separation can mix numbers (int & float) and strings without a TypeError.\n\n#### `print()` with numbers and strings together using commas\n- **[ ]** use a **`print()`** function with comma separation to combine 2 numbers and 2 strings"
    },
    {
      "metadata": {},
      "cell_type": "markdown",
      "source": "### Examples"
    },
    {
      "metadata": {
        "trusted": true
      },
      "cell_type": "code",
      "source": "# review and run code\nprint(\"I will pick you up @\",6,\"for the party\")",
      "execution_count": 4,
      "outputs": [
        {
          "output_type": "stream",
          "text": "I will pick you up @ 6 for the party\n",
          "name": "stdout"
        }
      ]
    },
    {
      "metadata": {
        "trusted": true
      },
      "cell_type": "code",
      "source": "# review and run code\nnumber_errors = 0\nprint(\"An Integer of\", 14, \"combined with strings causes\",number_errors,\"TypeErrors in comma formatted print!\")",
      "execution_count": 5,
      "outputs": [
        {
          "output_type": "stream",
          "text": "An Integer of 14 combined with strings causes 0 TypeErrors in comma formatted print!\n",
          "name": "stdout"
        }
      ]
    },
    {
      "metadata": {},
      "cell_type": "markdown",
      "source": "## Task 2\n**Use a print() function with comma separation to combine 2 numbers and 2 strings**"
    },
    {
      "metadata": {
        "trusted": true
      },
      "cell_type": "code",
      "source": "# [ ] use a print() function with comma separation to combine 2 numbers and 2 strings\nprint(\"number\",6,123455,\"eogidrosdjioufgn\")\n",
      "execution_count": 6,
      "outputs": [
        {
          "output_type": "stream",
          "text": "number 6 123455 eogidrosdjioufgn\n",
          "name": "stdout"
        }
      ]
    },
    {
      "metadata": {
        "collapsed": true
      },
      "cell_type": "markdown",
      "source": "## Task 3  \n**print() comma separated mixing of strings and variables**  \nBy comma-separating strings and/or string variables **`print()`** will output each separated by a space by default.\n  \n**Display text describing an address, made from strings and variables of different types**\n- Initialize variables with input()\n  - street\n  - st_number\n- Display a message about the street and street number using comma separation formatting"
    },
    {
      "metadata": {
        "trusted": true
      },
      "cell_type": "code",
      "source": "# [ ] get user input for a street name in the variable, street\nstreet = input(\"Street?\")\n# [ ] get user input for a street number in the variable, st_number\nst_number = input(\"Number?\")\n# [ ] display a message about the street and st_number\nprint(\"You live at\",st_number,street)",
      "execution_count": 8,
      "outputs": [
        {
          "output_type": "stream",
          "name": "stdout",
          "text": "Street?Street St\nNumber?954\nYou live at 954 Street St\n"
        }
      ]
    },
    {
      "metadata": {},
      "cell_type": "markdown",
      "source": "## Task 4\n**`print()` number, strings, variables from input**\n- [ ] Display text made from combining a variable, a literal string and a number"
    },
    {
      "metadata": {
        "trusted": true
      },
      "cell_type": "code",
      "source": "# [ ] define a variable with a string or numeric value\nnewVar = \"Variable\"\n# [ ] display a message combining the variable, 1 or more literal strings and a number\nprint(newVar,\"literal string\",24)\n\n",
      "execution_count": 9,
      "outputs": [
        {
          "output_type": "stream",
          "text": "Variable literal string 24\n",
          "name": "stdout"
        }
      ]
    },
    {
      "metadata": {
        "collapsed": true
      },
      "cell_type": "markdown",
      "source": "## Task 5 (Program): How many for the training?\nCreate a program that prints out a reservation for a training class. Gather the name of the party, the number attending and the time.\n>**Example** of what input/output might look like:\n```\nEnter name for contact person for training group: Hiroto Yamaguchi  \nEnter the total number attending the course: 7  \nEnter the training time selected: 3:25 PM  \n------------------------------  \nReminder: Training is scheduled at 3:25 PM for the Hiroto Yamaguchi group of 7 attendees.  \nPlease arrive 10 minutes early for the first class.  \n```  \n  \nDesign and create your own reminder style.  \n- **[ ]** Get user input for variables.\n  - **owner**: name of person the reservation is for  \n  - **num_people**: how many are attending  \n  - **training_time**: class time\n- **[ ]** Create an integer variable **min_early**: number of minutes early the party should arrive.\n- **[ ]** Using comma separation, print reminder text.\n  - Use all of the variables in the text\n  - Use additional strings as needed\n  - Use multiple print statements to format message on multiple lines (optional)"
    },
    {
      "metadata": {
        "trusted": true
      },
      "cell_type": "code",
      "source": "# [ ] get input for variables: owner, num_people, training_time  - use descriptive prompt text\nowner = input(\"Who is the owner of the reservation?\")\nnum_people = input(\"How many people are attending?\")\ntraining_time = input(\"How long will the class be?\")\n# [ ] create an integer variable min_early and \"hard code\" the integer value (e.g. - 5, 10 or 15)\nmin_early = 10\n# [ ] print reminder text using all variables & add additional strings -  use comma separated print formatting\nprint(owner,\"and the\",num_people,\"people accompanying, you should arrive\",min_early,\"minutes before the\",training_time,\"class starts.\")",
      "execution_count": 1,
      "outputs": [
        {
          "output_type": "stream",
          "name": "stdout",
          "text": "Who is the owner of the reservation?You\nHow many people are attending?1,000,000\nHow long will the class be?30 minute\nYou and the 1,000,000 people accompanying, you should arrive 10 minutes before the 30 minute class starts.\n"
        }
      ]
    },
    {
      "metadata": {},
      "cell_type": "markdown",
      "source": "[Terms of use](http://go.microsoft.com/fwlink/?LinkID=206977) &nbsp; [Privacy & cookies](https://go.microsoft.com/fwlink/?LinkId=521839) &nbsp; © 2017 Microsoft"
    }
  ],
  "metadata": {
    "anaconda-cloud": {},
    "kernelspec": {
      "name": "python3",
      "display_name": "Python 3",
      "language": "python"
    },
    "language_info": {
      "mimetype": "text/x-python",
      "nbconvert_exporter": "python",
      "name": "python",
      "pygments_lexer": "ipython3",
      "version": "3.5.4",
      "file_extension": ".py",
      "codemirror_mode": {
        "version": 3,
        "name": "ipython"
      }
    }
  },
  "nbformat": 4,
  "nbformat_minor": 1
}