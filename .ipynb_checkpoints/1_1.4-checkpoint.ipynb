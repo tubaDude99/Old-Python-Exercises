{
  "cells": [
    {
      "metadata": {},
      "cell_type": "markdown",
      "source": "# Section 1.4\n## String Methods\n- Accessing string characters with index\n- Accessing substrings with index slicing\n- Iterating through characters of a string\n- **More string methods**\n\n----- \n\n### Student will be able to\n- Work with string characters\n- Slice strings into substrings\n- Iterate through string characters\n- **Use string methods**\n  - `len()`\n  - `.count()`\n  - `.find()`"
    },
    {
      "metadata": {},
      "cell_type": "markdown",
      "source": "## Concept: Methods of Returning String Information\n[![view video](https://iajupyterprodblobs.blob.core.windows.net/imagecontainer/common/play_video.png)]( http://edxinteractivepage.blob.core.windows.net/edxpages/f7cff1a7-5601-48a1-95a6-fd1fdfabd20e.html?details=[{\"src\":\"http://jupyternootbookwams.streaming.mediaservices.windows.net/c300e46e-b3c7-4bbf-8117-e72b33998cd3/Unit2_Section1.4a-String_Methods-Length.ism/manifest\",\"type\":\"application/vnd.ms-sstr+xml\"}],[{\"src\":\"http://jupyternootbookwams.streaming.mediaservices.windows.net/c300e46e-b3c7-4bbf-8117-e72b33998cd3/Unit2_Section1.4a-String_Methods-Length.vtt\",\"srclang\":\"en\",\"kind\":\"subtitles\",\"label\":\"english\"}])\n### len()  \nReturns a string's length. \n### .count()  \nReturns the number of times a character or substring occurs.\n### .find()   \nReturns index of first character or substring match.\nReturns **-1** if no match found.\n\n```python\nwork_tip = \"save your code\"\n\n# number of characters\nlen(work_tip)\n\n# letter \"e\" occurrences\nwork_tip.count(\"e\")\n\n# find the index of the first space\nwork_tip.find(\" \")\n\n# find the index of \"u\" searching a slice work_tip[3:6]\nwork_tip.find(\"u\",3,6)\n```  \nThese methods **return** information that we can use to sort or manipulate strings."
    },
    {
      "metadata": {},
      "cell_type": "markdown",
      "source": "### Examples  \nRun each example cell in order."
    },
    {
      "metadata": {
        "trusted": false
      },
      "cell_type": "code",
      "source": "# [ ] review and run example\nwork_tip = \"save your code\"\n\nprint(\"number of characters in string\")\nprint(len(work_tip),\"\\n\")\n\nprint('letter \"e\" occurrences')\nprint(work_tip.count(\"e\"),\"\\n\")\n\nprint(\"find the index of the first space\")\nprint(work_tip.find(\" \"),\"\\n\")\n\nprint('find the index of \"u\" searching a slice work_tip[3:9] -', work_tip[3:9])\nprint(work_tip.find(\"u\",3,9),\"\\n\")\n\nprint('find the index of \"e\" searching a slice work_tip[4:] -', work_tip[4:])\nprint(work_tip.find(\"e\",4))",
      "execution_count": null,
      "outputs": []
    },
    {
      "metadata": {},
      "cell_type": "markdown",
      "source": "### len()  \nReturns a string's length."
    },
    {
      "metadata": {
        "trusted": false
      },
      "cell_type": "code",
      "source": "# [ ] review and run example\nwork_tip = \"good code is commented code\"\n\nprint(\"The sentence: \\\"\" + work_tip + \"\\\" has character length = \", len(work_tip) )",
      "execution_count": null,
      "outputs": []
    },
    {
      "metadata": {
        "trusted": false
      },
      "cell_type": "code",
      "source": "# [ ] review and run example\n# find the middle index\nwork_tip = \"good code is commented code\"\nmid_pt = int(len(work_tip)/2)\n\n# print 1st half of sentence\nprint(work_tip[:mid_pt])\n\n# print the 2nd half of sentence\nprint(work_tip[mid_pt:])",
      "execution_count": null,
      "outputs": []
    },
    {
      "metadata": {},
      "cell_type": "markdown",
      "source": "### .count()  \nReturns the number of times a character or substring occurs."
    },
    {
      "metadata": {
        "trusted": false
      },
      "cell_type": "code",
      "source": "# [ ] review and run example\nprint(work_tip)\nprint(\"how many w's? \", work_tip.count(\"w\"))\nprint(\"how many o's? \", work_tip.count(\"o\"))\nprint(\"uses 'code', how many times? \", work_tip.count(\"code\"))",
      "execution_count": null,
      "outputs": []
    },
    {
      "metadata": {
        "trusted": false
      },
      "cell_type": "code",
      "source": "# [ ] review and run example \nprint(work_tip[:mid_pt])\nprint(\"# o's in first half\")\nprint(work_tip[:mid_pt].count(\"o\"))\n\nprint()\nprint(work_tip[mid_pt:])\nprint(\"# o's in second half\")\nprint(work_tip[mid_pt:].count(\"o\"))",
      "execution_count": null,
      "outputs": []
    },
    {
      "metadata": {},
      "cell_type": "markdown",
      "source": "### .find(*string*) \nReturns index of first character or substring match  .\nReturns **-1** if no match found.\n#### .find(*string*, *start index*, *end index*)\nSame as above .find() but searches from optional start and to optional end index."
    },
    {
      "metadata": {
        "trusted": false
      },
      "cell_type": "code",
      "source": "# [ ] review and run example \nwork_tip = \"good code has meaningful variable names\"\nprint(work_tip)\n# index where first instance of \"code\" starts\ncode_here = work_tip.find(\"code\")\nprint(code_here, '= starting index for \"code\"')",
      "execution_count": null,
      "outputs": []
    },
    {
      "metadata": {
        "trusted": false
      },
      "cell_type": "code",
      "source": "# [ ] review and run example \n# set start index = 13 and end index = 33\nprint('search for \"meaning\" in the sub-string:', work_tip[13:33],\"\\n\")\nmeaning_here = work_tip.find(\"meaning\",13,33)\nprint('\"meaning\" found in work_tip[13:33] sub-string search at index', meaning_here)",
      "execution_count": null,
      "outputs": []
    },
    {
      "metadata": {
        "trusted": false
      },
      "cell_type": "code",
      "source": "# [ ] review and run example \n# if .find(\"o\") has No Match, -1 is returned\nprint (\"work_tip:\" , work_tip)\nlocation = work_tip.find(\"o\")\n\n# keeps looping until location = -1 (no \"o\" found)\nwhile location >= 0:\n    print(\"'o' at index =\", location)\n    # find(\"o\", location + 1) looks for a \"o\" after index the first \"o\" was found\n    location = work_tip.find(\"o\", location + 1)\nprint(\"no more o's\")",
      "execution_count": null,
      "outputs": []
    },
    {
      "metadata": {
        "collapsed": true
      },
      "cell_type": "markdown",
      "source": "## Task 1: `len()`"
    },
    {
      "metadata": {
        "trusted": false
      },
      "cell_type": "code",
      "source": "# [ ] use len() to find the midpoint of the string \n# [ ] print the halves on separate lines\nrandom_tip = \"wear a hat when it rains\"\n\n\n",
      "execution_count": null,
      "outputs": []
    },
    {
      "metadata": {},
      "cell_type": "markdown",
      "source": "## Task 2: `.count()`"
    },
    {
      "metadata": {
        "trusted": false
      },
      "cell_type": "code",
      "source": "# for letters: \"e\" and \"a\" in random_tip\n# [ ] print letter counts \n# [ ] BONUS: print which letter is most frequent\nrandom_tip = \"wear a hat when it rains\"\n\n\n",
      "execution_count": null,
      "outputs": []
    },
    {
      "metadata": {
        "collapsed": true
      },
      "cell_type": "markdown",
      "source": "## Task 3: `.find()`"
    },
    {
      "metadata": {
        "trusted": false
      },
      "cell_type": "code",
      "source": "# [ ] print long_word from the location of the first and second \"t\"\nlong_word = \"juxtaposition\"\n\n",
      "execution_count": null,
      "outputs": []
    },
    {
      "metadata": {
        "collapsed": true
      },
      "cell_type": "markdown",
      "source": "## Task 4 (program): Print each word in a quote\n```python\nstart = 0\nspace_index = quote.find(\" \")\nwhile space_index != -1:\n    # code to print word (index slice start:space_index)\n```"
    },
    {
      "metadata": {
        "trusted": false
      },
      "cell_type": "code",
      "source": "quote = \"they stumble who run fast\"\n\n",
      "execution_count": null,
      "outputs": []
    },
    {
      "metadata": {},
      "cell_type": "markdown",
      "source": "[Terms of use](http://go.microsoft.com/fwlink/?LinkID=206977) &nbsp; [Privacy & cookies](https://go.microsoft.com/fwlink/?LinkId=521839) &nbsp; © 2017 Microsoft"
    }
  ],
  "metadata": {
    "anaconda-cloud": {},
    "kernelspec": {
      "name": "python3",
      "display_name": "Python 3",
      "language": "python"
    },
    "language_info": {
      "mimetype": "text/x-python",
      "nbconvert_exporter": "python",
      "name": "python",
      "file_extension": ".py",
      "version": "3.5.4",
      "pygments_lexer": "ipython3",
      "codemirror_mode": {
        "version": 3,
        "name": "ipython"
      }
    }
  },
  "nbformat": 4,
  "nbformat_minor": 1
}