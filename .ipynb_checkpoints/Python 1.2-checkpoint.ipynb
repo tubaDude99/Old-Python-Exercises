{
  "cells": [
    {
      "metadata": {
        "slideshow": {
          "slide_type": "slide"
        }
      },
      "cell_type": "markdown",
      "source": "# Section 1.2\n##  Types and Variables\n- Python 3 in Jupyter notebooks\n- `print()`\n- Comments  \n- **Data types basics**\n- **Variables  **\n- Addition with Strings and Integers \n- Errors\n- Character art  \n\n-----\n\n### Student will be able to\n- Use Python 3 in Jupyter notebooks\n- **Write working code using `print()` and `#` comments**  \n- Write working code using `type()` and variables\n- Combine Strings using string addition (+)\n- Add numbers in code (+) \n- Troubleshoot errors\n- Create character art"
    },
    {
      "metadata": {},
      "cell_type": "markdown",
      "source": "## Concept: What is a **String?**  \n[![view video](https://iajupyterprodblobs.blob.core.windows.net/imagecontainer/common/play_video.png)]( http://edxinteractivepage.blob.core.windows.net/edxpages/f7cff1a7-5601-48a1-95a6-fd1fdfabd20e.html?details=[{\"src\":\"http://jupyternootbookwams.streaming.mediaservices.windows.net/cbe90d91-876f-42f3-90df-2955588d02b0/Unit1_Section1.2-String.ism/manifest\",\"type\":\"application/vnd.ms-sstr+xml\"}],[{\"src\":\"http://jupyternootbookwams.streaming.mediaservices.windows.net/cbe90d91-876f-42f3-90df-2955588d02b0/Unit1_Section1.2-String.vtt\",\"srclang\":\"en\",\"kind\":\"subtitles\",\"label\":\"english\"}])\nStrings were used in \"Hello World!\" print function examples. Strings are sets of characters.  In Python, strings are in double or single quotes like `\"Hello World!\"` or `'after edit, save!'`  \n  \nA string is a common **type** of data, used in programming, consisting of a sequence of 1 or more characters. \n* **A String is a sequence of characters** (aka: a *string* of characters)  \n    * Character examples: `A, B, C, a, b, c, 1, 2, 3, !, &`\n* A String in Python is contained in quotes, single(') or double(\")\n    * String examples:  \"ABC\", 'Joana Dias', 'I have 2 pet cats.', \"item #3 cost \\$3.29 USD\"  \n    > **Note:** the quotes containing a string must come in matched pairs   \n    > - `\"Hello\"` or `'Hello'` are correctly formatted strings  \n    > - `\"Hello'` is incorrectly formatted starting with double \" and ending with single ' Python needs a matching quote to know where the string ends"
    },
    {
      "metadata": {},
      "cell_type": "markdown",
      "source": "### Example"
    },
    {
      "metadata": {
        "trusted": false
      },
      "cell_type": "code",
      "source": "# Examples of printing strings with single and double quotes\nprint('strings go in single')\nprint(\"or double quotes\")",
      "execution_count": null,
      "outputs": []
    },
    {
      "metadata": {},
      "cell_type": "markdown",
      "source": "## Task 1: Print messages with \"double quotes\" and 'single' quotes"
    },
    {
      "metadata": {
        "trusted": true
      },
      "cell_type": "code",
      "source": "# [ ] enter a string in the print() function using single quotes\nprint('this is a string')\n# [ ] enter a string in the print() function using double quotes\nprint(\"this is also a string\")\n",
      "execution_count": 1,
      "outputs": [
        {
          "output_type": "stream",
          "text": "this is a string\nthis is also a string\n",
          "name": "stdout"
        }
      ]
    },
    {
      "metadata": {
        "collapsed": true,
        "slideshow": {
          "slide_type": "slide"
        }
      },
      "cell_type": "markdown",
      "source": "## Concept: Integers are Another Type\n[![view video](https://iajupyterprodblobs.blob.core.windows.net/imagecontainer/common/play_video.png)]( http://edxinteractivepage.blob.core.windows.net/edxpages/f7cff1a7-5601-48a1-95a6-fd1fdfabd20e.html?details=[{\"src\":\"http://jupyternootbookwams.streaming.mediaservices.windows.net/7b0e6a97-551d-4f98-9646-679d30eb2ce4/Unit1_Section1.2-Integers.ism/manifest\",\"type\":\"application/vnd.ms-sstr+xml\"}],[{\"src\":\"http://jupyternootbookwams.streaming.mediaservices.windows.net/7b0e6a97-551d-4f98-9646-679d30eb2ce4/Unit1_Section1.2-Integers.vtt\",\"srclang\":\"en\",\"kind\":\"subtitles\",\"label\":\"english\"}])\n- Whole numbers such as `-2, -1, 0, 1, 2, 3` are Integers \n- Integers are **not placed in quotes**  \n  \nA string can contain any character, this includes letters, spaces, punctuation, number digits and formatting. In a string with digits (`\"123\"`), the digits are text images rather than representations of numeric values.  \n\n>**Remember** a line of Python code starting with the pound or hash symbol (**#**) indicates a **comment**.  \n&nbsp;  \nComments are for humans to read and are not run by computers.\n\n"
    },
    {
      "metadata": {},
      "cell_type": "markdown",
      "source": "### Examples"
    },
    {
      "metadata": {
        "trusted": false
      },
      "cell_type": "code",
      "source": "# printing an Integer with Python\nprint(299)\n\n# printing a string made of Integer (number) characters with Python\nprint(\"2017\")",
      "execution_count": null,
      "outputs": []
    },
    {
      "metadata": {},
      "cell_type": "markdown",
      "source": "## Task 2: Print integers and integer strings \n- **Print Integers**\n- **Print strings made of Integer characters**"
    },
    {
      "metadata": {
        "trusted": true
      },
      "cell_type": "code",
      "source": "# [ ] print an Integer\nprint(2000)\n\n# [ ] print a strings made of Integer characters\nprint(\"2000\")\n\n",
      "execution_count": 2,
      "outputs": [
        {
          "output_type": "stream",
          "text": "2000\n2000\n",
          "name": "stdout"
        }
      ]
    },
    {
      "metadata": {},
      "cell_type": "markdown",
      "source": ">**Student Tip:** Look for **[ ]** , which indicates a task in the notebook needs to be completed.  \nEdit and Run to complete the task  "
    },
    {
      "metadata": {},
      "cell_type": "markdown",
      "source": "## Concept: Variables and Storing Strings in **Variables**  \n[![view video](https://iajupyterprodblobs.blob.core.windows.net/imagecontainer/common/play_video.png)]( http://edxinteractivepage.blob.core.windows.net/edxpages/f7cff1a7-5601-48a1-95a6-fd1fdfabd20e.html?details=[{\"src\":\"http://jupyternootbookwams.streaming.mediaservices.windows.net/bc5d7c7c-b30f-41d1-acc3-131fa4bc9634/Unit1_Section1.2-Variables.ism/manifest\",\"type\":\"application/vnd.ms-sstr+xml\"}],[{\"src\":\"http://jupyternootbookwams.streaming.mediaservices.windows.net/bc5d7c7c-b30f-41d1-acc3-131fa4bc9634/Unit1_Section1.2-Variables.vtt\",\"srclang\":\"en\",\"kind\":\"subtitles\",\"label\":\"english\"}])\n### Variables are named containers\nComputer programs often create storage for things that are used in repeated processing like item_price, student_name, stock_symbol. In Python a variable  is a type of **object** that can be addressed by name to access the assigned contents.\n\n#### Name a variable staring with a letter or underscore \"_\"\nThere are different styles for creating variables this course uses lowercase descriptive names connected by underscores:\n- item_price\n- student_name\n- stock_symbol  \n\nDescriptive names reduce the need for comments in the code and make it easier to share code or read code written long ago.\n\n### Variables can hold strings\nonce a variable is **assigned**:\n>**`current_msg = \"I am a string\" `**  \n  \nA Python program can refer to the variable, &nbsp; **`current_msg`**, &nbsp; in code  \nso that &nbsp;**` current_msg `**, can be used like the string value &nbsp;(**`\"I am a string\"`**) &nbsp; which it stores.  \n  \n### Variable reassignment\nWe can reassign a variable, changing the contents.   **`current_msg = \"new current message\" `**  \n\n### Variables can be used in place of literals \nIf we initialize **`current_msg = \"new current message\" `** then  \nthe literal string **` \"new current message\" `** and the variable **` current_msg `** are the same when used in code."
    },
    {
      "metadata": {},
      "cell_type": "markdown",
      "source": "### Examples\n- **Initializing variables**\n- **Literals & variables** in printing\n- **Variable reassignment**"
    },
    {
      "metadata": {
        "trusted": true
      },
      "cell_type": "code",
      "source": "# [ ] Review code and Run\n# initialize the variable\ncurrent_msg = \"I am a string\"\n\n# print literal string\nprint(\"I am a string\")\n\n# print variable string\nprint(current_msg)",
      "execution_count": 5,
      "outputs": [
        {
          "output_type": "stream",
          "text": "I am a string\nI am a string\n",
          "name": "stdout"
        }
      ]
    },
    {
      "metadata": {
        "scrolled": true,
        "trusted": true
      },
      "cell_type": "code",
      "source": "# [ ] Review code and Run\n# assign a new string to the current_msg\ncurrent_msg = \"Run this cell using Ctrl+Enter\"\n\nprint(current_msg)",
      "execution_count": 4,
      "outputs": [
        {
          "output_type": "stream",
          "text": "Run this cell using Ctrl+Enter\n",
          "name": "stdout"
        }
      ]
    },
    {
      "metadata": {},
      "cell_type": "markdown",
      "source": "## Task 3: Program: Assigning values to a string\n- In the cell below:\n  - Print the variable current_msg.  \n  - Assign a new string to current_msg.  \n  - Print the variable  current_msg again.\n- Run the code cell above and then run the cell below."
    },
    {
      "metadata": {
        "trusted": true
      },
      "cell_type": "code",
      "source": "# { ] run cell above then run this cell after completing the code as directed\nprint(current_msg)\ncurrent_msg = \"Walkabout Wednesday only at The Outback\"\nprint(current_msg)",
      "execution_count": 6,
      "outputs": [
        {
          "output_type": "stream",
          "text": "I am a string\nWalkabout Wednesday only at The Outback\n",
          "name": "stdout"
        }
      ]
    },
    {
      "metadata": {},
      "cell_type": "markdown",
      "source": "### Q?: In the cell above, why did the variable have a value to print before it was assigned?  \n  \n**A:** Jupyter notebooks run cells individually.  Any cell in the notebook can access a variable assigned from a cell that has been run in the current notebook session."
    },
    {
      "metadata": {
        "slideshow": {
          "slide_type": "subslide"
        }
      },
      "cell_type": "markdown",
      "source": "## Concept: Data Types in Variables\n[![view video](https://iajupyterprodblobs.blob.core.windows.net/imagecontainer/common/play_video.png)]( http://edxinteractivepage.blob.core.windows.net/edxpages/f7cff1a7-5601-48a1-95a6-fd1fdfabd20e.html?details=[{\"src\":\"http://jupyternootbookwams.streaming.mediaservices.windows.net/85de7ef1-bdd3-4460-849a-41e976bfdf46/Unit1_Section1.2-Types.ism/manifest\",\"type\":\"application/vnd.ms-sstr+xml\"}],[{\"src\":\"http://jupyternootbookwams.streaming.mediaservices.windows.net/85de7ef1-bdd3-4460-849a-41e976bfdf46/Unit1_Section1.2-Types.vtt\",\"srclang\":\"en\",\"kind\":\"subtitles\",\"label\":\"english\"}])\nVariables can be initialized with different data types.  Below we see item_price is a **decimal** (aka - float) and student_name is **string**. \n  \n```Python\nitem_price = 10.25 #item_price initialized as a numeric value (no quotes)\nstudent_name =\"Dias, Joana\" #student_name initialized as a string\nlicense_plate = \"123A\" #license_plate initialized as a string\n```\n\nVariables can start initialized as an Integer number data type.\n>```Python \nx = 22\n``` \nHere the Integer `22`&nbsp; value was assigned to the variable &nbsp;**`x`**.    \n\nThe type of data a variable holds can be changed.\nPython variables can change the **type** of data a variable holds.\n\n>```Python\nx = 22\nx = \"I am a string\"\n```  \n\n**` x `**&nbsp; changed type from Integer &nbsp;**`x = 22`**&nbsp; to string&nbsp; **`x = \"I am a string\"`**  \n   \n>>|Best Practice: Friendly Names |\n|------------------------------------------------------------------------------------------|\n| **Friendly name** examples, (`item_price, student_name,license_plate`), were used above. |  \n  \n  \n#### Variables help us to write code that can be used repeatedly\nA personalized letter can be sent to every student with individual names by using a name in a variable. Let's start with printing a name based on string variable.\n\nCreate a variable, `name`, at the top of the next cell. Assign a string value to &nbsp; `name `. \n\n> Remember to use the quotes for string values.\n\nExample:\n\n```Python\nname = \"Joana Dias\"\nprint(name)\n```"
    },
    {
      "metadata": {},
      "cell_type": "markdown",
      "source": "### Examples"
    },
    {
      "metadata": {
        "trusted": false
      },
      "cell_type": "code",
      "source": "test_value = 22\nprint(test_value)\ntest_value = \"Joana\"\nprint(test_value)",
      "execution_count": null,
      "outputs": []
    },
    {
      "metadata": {},
      "cell_type": "markdown",
      "source": "## Task 4 (multi-part): Assign a variable and print the value\n- Assign a string value to a variable **`student_name`**\n- Print the value of variable **`student_name`**"
    },
    {
      "metadata": {
        "slideshow": {
          "slide_type": "subslide"
        },
        "trusted": true
      },
      "cell_type": "code",
      "source": "# [ ] assign a string value to a variable student_name\nstudent_name = \"Joe\"\n# [ ] print the value of variable student_name\nprint(student_name)",
      "execution_count": 13,
      "outputs": [
        {
          "output_type": "stream",
          "text": "Joe\n",
          "name": "stdout"
        }
      ]
    },
    {
      "metadata": {},
      "cell_type": "markdown",
      "source": "### Task 4 continued...\n##  Modify the value of a variable\n- Assign the **`student_name`** variable  a different string value (a different name)\n- Print the value of variable **`student_name`**\n- Assign and print a 3rd value to **`student_name`**"
    },
    {
      "metadata": {
        "trusted": true
      },
      "cell_type": "code",
      "source": "# [ ] assign the student_name variable  a different string value (a different name)\nstudent_name = \"a different name\"\n# [ ] print the value of variable student_name\nprint(student_name)\n# [ ] assign a 3rd different string value, to the variable name \nstudent_name = \"This is easy\"\n# [ ] print the value of variable name\nprint(student_name)\n",
      "execution_count": 9,
      "outputs": [
        {
          "output_type": "stream",
          "text": "a different name\nThis is easy\n",
          "name": "stdout"
        }
      ]
    },
    {
      "metadata": {},
      "cell_type": "markdown",
      "source": "### Task 4 continued...\n##  Change variable type with reassignment\n- Assign a value to a variable called **`bucket`**\n- Print the value of **`bucket`**\n- Assign an Integer value (no quotes) to the variable **`bucket`**\n- Print the value of **`bucket`** "
    },
    {
      "metadata": {
        "trusted": true
      },
      "cell_type": "code",
      "source": "# [ ] assigning a value to a variable called bucket\nbucket = 3.14159265358979323846263\n# [ ] print the value of bucket \nprint(bucket)\n# [ ] assign an Integer value (no quotes) to the variable bucket\nbucket = 10\n# [ ] print the value of bucket \nprint(bucket)\n\n",
      "execution_count": 10,
      "outputs": [
        {
          "output_type": "stream",
          "text": "3.141592653589793\n10\n",
          "name": "stdout"
        }
      ]
    },
    {
      "metadata": {
        "slideshow": {
          "slide_type": "subslide"
        }
      },
      "cell_type": "markdown",
      "source": "### Q?: What is the difference between `123` and  `'123'`?  \n  \n**A:** A string type **is not** a number, even if it  is all numeric digits\n* In Python code a number can be assigned to a variable: `x = 31`\n* A string of digits can be assigned to the variable **`id`**&nbsp; --> `id = \"001023\"`&nbsp; the quotations, mean the number symbols should be stored in the variable as **type** string, meaning the digits&nbsp;\"`001023`\"&nbsp; are treated as text.\n    \nThe **`print()`** function can print Integer or string values:\n```Python\nprint(123) #integer, with numeric value\nprint(\"123\") #string, represents text characters\n```  \n### Task 4 continued...\n- Run the above code in the next cell:  "
    },
    {
      "metadata": {
        "trusted": true
      },
      "cell_type": "code",
      "source": "# [ ] print integer 123 number\nprint(123)\n# [ ] print string \"123\" number\nprint(\"123\")\n\n",
      "execution_count": 11,
      "outputs": [
        {
          "output_type": "stream",
          "text": "123\n123\n",
          "name": "stdout"
        }
      ]
    },
    {
      "metadata": {},
      "cell_type": "markdown",
      "source": "[Terms of use](http://go.microsoft.com/fwlink/?LinkID=206977) &nbsp; [Privacy & cookies](https://go.microsoft.com/fwlink/?LinkId=521839) &nbsp; © 2017 Microsoft"
    }
  ],
  "metadata": {
    "anaconda-cloud": {},
    "kernelspec": {
      "name": "python3",
      "display_name": "Python 3",
      "language": "python"
    },
    "language_info": {
      "mimetype": "text/x-python",
      "nbconvert_exporter": "python",
      "name": "python",
      "file_extension": ".py",
      "version": "3.5.4",
      "pygments_lexer": "ipython3",
      "codemirror_mode": {
        "version": 3,
        "name": "ipython"
      }
    }
  },
  "nbformat": 4,
  "nbformat_minor": 1
}