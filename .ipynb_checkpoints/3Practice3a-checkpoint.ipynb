{
  "cells": [
    {
      "metadata": {},
      "cell_type": "markdown",
      "source": "# Lab 3a\n## Conditionals Practice\n\n-----\n\n### Student will be able to\n- **Control code flow with `if`... `else` conditional logic**  \n  - Using Boolean string methods (`.isupper(), .isalpha(), startswith()...`)  \n  - Using comparision (`>, <, >=, <=, ==, !=`)  \n  - Using Strings in comparisons  "
    },
    {
      "metadata": {},
      "cell_type": "markdown",
      "source": "## `if else`\n"
    },
    {
      "metadata": {
        "trusted": true
      },
      "cell_type": "code",
      "source": "# [ ] input a variable: age as digit and cast to int\n# if age greater than or equal to 12 then print message on age in 10 years \n# or else print message \"It is good to be\" age\nage = int(input(\"How old are you? \"))\nif age >= 12:\n    print(\"In 10 years you will be \" + str(age + 10))\nelse:\n    print(\"It is good to be \" + str(age))",
      "execution_count": 3,
      "outputs": [
        {
          "output_type": "stream",
          "name": "stdout",
          "text": "How old are you? 600\nIn 10 years you will be 610\n"
        }
      ]
    },
    {
      "metadata": {
        "trusted": true
      },
      "cell_type": "code",
      "source": "# [ ] input a number \n# - if number is NOT a digit cast to int\n# - print number \"greater than 100 is\" True/False\nx = input()\nif type(x) != int:\n    x = int(x)\nprint(str(x) + \" greater than 100 is \" + str(x>100))",
      "execution_count": 7,
      "outputs": [
        {
          "output_type": "stream",
          "name": "stdout",
          "text": "560\n560 greater than 100 is True\n"
        }
      ]
    },
    {
      "metadata": {},
      "cell_type": "markdown",
      "source": "### Guessing a letter A-Z  \n**check_guess()** takes two string arguments: **letter and guess** (both expect single alphabetical character)   \n    - If guess is not an alpha character print invalid and return False\n    - Test and print if guess is \"high\" or \"low\" and return False\n    - Test and print if guess is \"correct\" and return True"
    },
    {
      "metadata": {
        "trusted": true
      },
      "cell_type": "code",
      "source": "# [ ] create check_guess()\n# call with test\ndef check_guess(letter,guess):\n    if guess.isalpha() == False:\n        print(\"invalid\")\n        return(False)\n    elif guess == letter:\n        print(\"correct\")\n        return(True)\n    elif guess > letter:\n        print(\"high\")\n        return(False)\n    elif guess < letter:\n        print(\"low\")\n        return(False)",
      "execution_count": 12,
      "outputs": []
    },
    {
      "metadata": {
        "trusted": true
      },
      "cell_type": "code",
      "source": "# [ ] call check_guess with user input\ndef check_guess(letter,guess):\n    if guess.isalpha() == False:\n        print(\"invalid\")\n        return(False)\n    elif guess == letter:\n        print(\"correct\")\n        return(True)\n    elif guess > letter:\n        print(\"high\")\n        return(False)\n    elif guess < letter:\n        print(\"low\")\n        return(False)\nprint(check_guess(\"b\",input(\"What's your guess? \")))\n",
      "execution_count": 13,
      "outputs": [
        {
          "output_type": "stream",
          "name": "stdout",
          "text": "What's your guess? 6.\ninvalid\nFalse\n"
        }
      ]
    },
    {
      "metadata": {},
      "cell_type": "markdown",
      "source": "### Letter Guess\n**Create letter_guess() function that gives the user three guesses**\n- Take a letter character argument for the answer letter\n- Get user input for letter guess  \n- Call check_guess() with answer and guess\n- End letter_guess if \n    - check_guess() equals True, return True  \n    - or after 3 failed attempts, return False"
    },
    {
      "metadata": {
        "trusted": true
      },
      "cell_type": "code",
      "source": "# [ ] create letter_guess() function, call the function to test\ndef check_guess(letter,guess):\n    if guess.isalpha() == False:\n        print(\"invalid\")\n        return(False)\n    elif guess == letter:\n        print(\"correct\")\n        return(True)\n    elif guess > letter:\n        print(\"high\")\n        return(False)\n    elif guess < letter:\n        print(\"low\")\n        return(False)\n    \ndef letter_guess(answer):\n    i = 0\n    check = \"b\"\n    while check != True and i < 3:\n        check = check_guess(answer,input(\"What is your guess? \"))\n        i = i + 1\nletter_guess(\"b\")",
      "execution_count": 5,
      "outputs": [
        {
          "output_type": "stream",
          "name": "stdout",
          "text": "What is your guess? a\nlow\nWhat is your guess? \ninvalid\nWhat is your guess? a\nlow\n"
        }
      ]
    },
    {
      "metadata": {},
      "cell_type": "markdown",
      "source": "### Pet Conversation\n**Ask the user for a sentence about a pet and then reply**  \n- Get user input in variable: about_pet\n- Using a series of **if** statements, respond with appropriate conversation\n  - Check if \"dog\" is in the string about_pet (sample reply \"Ah, a dog\")\n  - Check if \"cat\" is in the string about_pet\n  - Check if 1 or more animal is in string about_pet\n- No need for **else**'s\n- Finish by thanking for the story"
    },
    {
      "metadata": {
        "trusted": true
      },
      "cell_type": "code",
      "source": "# [ ] complete pet conversation\nabout_pet = input(\"What kind of pet do you have? \").lower()\nif \"dog\" in about_pet:\n    print(\"Ah, a dog\")\nif \"cat\" in about_pet:\n    print(\"Ah, a cat\")\nif \"cat\" in about_pet or \"dog\" in about_pet or \"fish\" in about_pet or \"bird\" in about_pet or \"lizard\" in about_pet:\n    print(\"Ah, one or more animals\")\nprint(\"Thank you for the story\")",
      "execution_count": 9,
      "outputs": [
        {
          "output_type": "stream",
          "name": "stdout",
          "text": "What kind of pet do you have? Cat Dog Fish\nAh, a dog\nAh, a cat\nAh, one or more animals\nThank you for the story\n"
        }
      ]
    },
    {
      "metadata": {
        "collapsed": true
      },
      "cell_type": "markdown",
      "source": "[Terms of use](http://go.microsoft.com/fwlink/?LinkID=206977) &nbsp; [Privacy & cookies](https://go.microsoft.com/fwlink/?LinkId=521839) &nbsp; © 2017 Microsoft"
    }
  ],
  "metadata": {
    "anaconda-cloud": {},
    "kernelspec": {
      "name": "python3",
      "display_name": "Python 3",
      "language": "python"
    },
    "language_info": {
      "mimetype": "text/x-python",
      "nbconvert_exporter": "python",
      "name": "python",
      "pygments_lexer": "ipython3",
      "version": "3.5.4",
      "file_extension": ".py",
      "codemirror_mode": {
        "version": 3,
        "name": "ipython"
      }
    }
  },
  "nbformat": 4,
  "nbformat_minor": 1
}