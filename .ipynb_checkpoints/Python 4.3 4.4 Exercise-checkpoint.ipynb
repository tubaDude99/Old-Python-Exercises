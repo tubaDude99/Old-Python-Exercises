{
  "cells": [
    {
      "metadata": {
        "trusted": true
      },
      "cell_type": "code",
      "source": "color = input(\"Pick a color: \").lower()\ni = 0\nwhile 1==1:\n    i += 1\n    if input(\"Guess the color: \").lower() == color:\n        break\nprint(\"Congratulations! It only took you %i chances.\" %i)",
      "execution_count": 1,
      "outputs": [
        {
          "output_type": "stream",
          "name": "stdout",
          "text": "Pick a color: Blue\nGuess the color: Green\nGuess the color: Red\nGuess the color: Yellow\nGuess the color: Blue\nCongratulations! It only took you 4 choices.\n"
        }
      ]
    },
    {
      "metadata": {
        "trusted": true
      },
      "cell_type": "code",
      "source": "sent = \"\"\ng = 0\nwhile 2<3:\n    q = input()\n    if q == \"STOP\":\n        break\n    else:\n        if g == 0:\n            sent = sent + q\n            g = 1\n        else:\n            sent = sent + \" \" + q\nprint(sent + \".\")",
      "execution_count": 3,
      "outputs": [
        {
          "output_type": "stream",
          "name": "stdout",
          "text": "Hello\nmy\nname\nis\nTim\nSTOP\nHello my name is Tim.\n"
        }
      ]
    },
    {
      "metadata": {
        "trusted": true
      },
      "cell_type": "code",
      "source": "q1 = \"What's your favorite color? \"\na1 = input(q1).lower()\nq2 = \"Why is \" + a1 + \" your favorite color? \"\na2 = input(q2)\nif a1 == \"red\":\n    q3 = \"Are you a Republican? \"\n    a3 = input(q3).lower()\n    if a3.startswith(\"y\"):\n        p = \"r\"\n    else:\n        p = \"d\"\nelif a1 == \"blue\":\n    q3 = \"Are you a Democrat? \"\n    a3 = input(q3).lower()\n    if a3.startswith(\"y\"):\n        p = \"d\"\n    else:\n        p = \"r\"\nelse:\n    p = \"\"\n    q3 = \"What is your favorite political party? \"\n    a3 = input(q3)\n    q4 = \"Who is your favorite 2020 candidate? \"\n    a4 = input(q4)\n    q5 = \"What is the airspeed velocity of an unladen swallow? \"\n    a5 = input(q5)\nif p == \"r\":\n    q4 = \"Do you support Trump? \"\n    a4 = input(q4).lower()\n    if a4.startswith(\"y\"):\n        q5 = \"Do you want to build the wall? \"\n        a5 = input(q5)\n    else:\n        q5 = \"Why not? \"\n        a5 = input(q5)\nif p == \"d\":\n    q4 = \"Do you hate Trump? \"\n    a4 = input(q4)\n    if a4.startswith(\"y\"):\n        q5 = \"Do you want to impeach him? \"\n        a5 = input(q5)\n    else:\n        q5 = \"Do you want to build the wall? \"\n        a5 = input(q5)\nprint(q1, a1)\nprint(q2, a2)\nprint(q3, a3)\nprint(q4, a4)\nprint(q5, a5)",
      "execution_count": 1,
      "outputs": [
        {
          "output_type": "stream",
          "name": "stdout",
          "text": "What's your favorite color? Red\nWhy is red your favorite color? Because I like it\nAre you a Republican? Yes\nDo you support Trump? Yes\nDo you want to build the wall? Yes\nWhat's your favorite color?  red\nWhy is red your favorite color?  Because I like it\nAre you a Republican?  yes\nDo you support Trump?  yes\nDo you want to build the wall?  Yes\n"
        }
      ]
    },
    {
      "metadata": {
        "trusted": true
      },
      "cell_type": "code",
      "source": "t = 0\nc = 0\nmax = int(input(\"What's the highest possible grade? \"))\nwhile 1:\n    g = input().lower()\n    if g.isdigit() and int(g) <= max:\n        t = t + int(g)\n        c += 1\n    if g == \"break\" or g == \"stop\":\n        break\nprint(t/c)",
      "execution_count": 2,
      "outputs": [
        {
          "output_type": "stream",
          "name": "stdout",
          "text": "What's the highest possible grade? 100\n100000000000000000000000000\n1000000000000000000000000000000000000000\n100\n100\n50\nstop\n83.33333333333333\n"
        }
      ]
    }
  ],
  "metadata": {
    "kernelspec": {
      "name": "python36",
      "display_name": "Python 3.6",
      "language": "python"
    },
    "language_info": {
      "mimetype": "text/x-python",
      "nbconvert_exporter": "python",
      "name": "python",
      "pygments_lexer": "ipython3",
      "version": "3.6.6",
      "file_extension": ".py",
      "codemirror_mode": {
        "version": 3,
        "name": "ipython"
      }
    }
  },
  "nbformat": 4,
  "nbformat_minor": 2
}