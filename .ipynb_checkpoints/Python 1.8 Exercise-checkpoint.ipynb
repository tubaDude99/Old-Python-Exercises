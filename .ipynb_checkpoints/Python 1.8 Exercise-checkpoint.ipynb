{
  "cells": [
    {
      "metadata": {
        "trusted": true
      },
      "cell_type": "code",
      "source": "print('“I hate hurricanes, and makeup days”')\nprint('“FBLA and DECA are both great clubs to help you develop business and workplace skills”')",
      "execution_count": 9,
      "outputs": [
        {
          "output_type": "stream",
          "text": "“I hate hurricanes, and makeup days”\n“FBLA and DECA are both great clubs to help you develop business and workplace skills”\n",
          "name": "stdout"
        }
      ]
    },
    {
      "metadata": {
        "trusted": true
      },
      "cell_type": "code",
      "source": "print(\"Gameday\".isalpha())\nprint(\"4th\".isalnum())\nprint(\"Good Morning\".istitle())\nprint(\"2344\".isdigit())",
      "execution_count": 10,
      "outputs": [
        {
          "output_type": "stream",
          "text": "True\nTrue\nTrue\nTrue\n",
          "name": "stdout"
        }
      ]
    }
  ],
  "metadata": {
    "kernelspec": {
      "name": "python36",
      "display_name": "Python 3.6",
      "language": "python"
    },
    "language_info": {
      "mimetype": "text/x-python",
      "nbconvert_exporter": "python",
      "name": "python",
      "pygments_lexer": "ipython3",
      "version": "3.6.6",
      "file_extension": ".py",
      "codemirror_mode": {
        "version": 3,
        "name": "ipython"
      }
    }
  },
  "nbformat": 4,
  "nbformat_minor": 2
}