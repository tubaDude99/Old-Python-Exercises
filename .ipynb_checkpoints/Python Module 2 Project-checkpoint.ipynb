{
  "cells": [
    {
      "metadata": {
        "collapsed": true
      },
      "cell_type": "markdown",
      "source": "#  Module 2 Project  \nCourse 40460: Introduction to Python, Unit 1  \n\nThe activity is based on Modules 1 and 2 and is similar to the Jupyter Notebook for Module 2 practice, which you may have completed.\n\n| Some Assignment Requirements |  \n|:-------------------------------|  \n| **NOTE:** This program requires that a **function** be defined, created and called. The call will send values based on user input.  The function call must capture a `return` value that is used in print output.  The function will have parameters and `return` a string and should otherwise use code syntax covered in Module 2.  |  \n \n## Program: fishstore()\nCreate and test fishstore().\n- **fishstore() takes 2 string arguments: fish & price**\n- **fishstore returns a string in sentence form**  \n- **Gather input for fish_entry and price_entry to use in calling fishstore()**\n- **Print the return value of fishstore()**\n>Example of output: **`Fish Type: Guppy costs $1`**"
    },
    {
      "metadata": {
        "trusted": true
      },
      "cell_type": "code",
      "source": "# [ ] create, call and test fishstore() function \ndef fishStore(fish,price):\n    return(\"The fish \" + fish + \" costs $\" + price)\n\nprint(fishStore(input(\"What fish? \"),input(\"How much? \")))",
      "execution_count": 2,
      "outputs": [
        {
          "output_type": "stream",
          "name": "stdout",
          "text": "What fish? Salmon\nHow much? 12\nThe fish Salmon costs $12\n"
        }
      ]
    },
    {
      "metadata": {},
      "cell_type": "markdown",
      "source": "[Terms of use](http://go.microsoft.com/fwlink/?LinkID=206977) &nbsp; [Privacy & cookies](https://go.microsoft.com/fwlink/?LinkId=521839) &nbsp; © 2017 Microsoft"
    }
  ],
  "metadata": {
    "anaconda-cloud": {},
    "kernelspec": {
      "name": "python3",
      "display_name": "Python 3",
      "language": "python"
    },
    "language_info": {
      "mimetype": "text/x-python",
      "nbconvert_exporter": "python",
      "name": "python",
      "pygments_lexer": "ipython3",
      "version": "3.5.4",
      "file_extension": ".py",
      "codemirror_mode": {
        "version": 3,
        "name": "ipython"
      }
    }
  },
  "nbformat": 4,
  "nbformat_minor": 1
}