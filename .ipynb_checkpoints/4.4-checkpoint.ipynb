{
  "cells": [
    {
      "metadata": {},
      "cell_type": "markdown",
      "source": "# Section 4.4\n## `while()` Boolean Loops\n- While `True`  or forever loops\n- Incrementing in loops\n- **Boolean operators in while loops**\n\n### Student will be able to\n- Create forever loops using `while` and `break`\n- Use incrementing variables in a while loop\n- **Control while loops using Boolean operators**"
    },
    {
      "metadata": {
        "collapsed": true
      },
      "cell_type": "markdown",
      "source": "## Concept: `while` with Boolean Comparison\n[![view video](https://iajupyterprodblobs.blob.core.windows.net/imagecontainer/common/play_video.png)]( http://edxinteractivepage.blob.core.windows.net/edxpages/f7cff1a7-5601-48a1-95a6-fd1fdfabd20e.html?details=[{\"src\":\"http://jupyternootbookwams.streaming.mediaservices.windows.net/f540955e-543b-48f0-8201-3513b0beeed9/Unit1_Section7.2-while-boolean-comp.ism/manifest\",\"type\":\"application/vnd.ms-sstr+xml\"}],[{\"src\":\"http://jupyternootbookwams.streaming.mediaservices.windows.net/f540955e-543b-48f0-8201-3513b0beeed9/Unit1_Section7.2-while-boolean-comp.vtt\",\"srclang\":\"en\",\"kind\":\"subtitles\",\"label\":\"english\"}])\n### `while`  with Boolean comparison operator\n#### `while x < 5:`\nWith increment we use **`break`** when count becomes greater than some number.\n\nThe same result can be achieved by using **`while x < 5:`**."
    },
    {
      "metadata": {},
      "cell_type": "markdown",
      "source": "### Examples\n  \n"
    },
    {
      "metadata": {
        "trusted": true
      },
      "cell_type": "code",
      "source": "# review and run GREET COUNT\ngreet_count = 5\n\n# loop while count is greater than 0\nwhile greet_count > 0:\n    print(greet_count, \"!\")\n    greet_count -= 1\nprint(\"\\nIGNITION!\")",
      "execution_count": 2,
      "outputs": [
        {
          "output_type": "stream",
          "text": "5 !\n4 !\n3 !\n2 !\n1 !\n\nIGNITION!\n",
          "name": "stdout"
        }
      ]
    },
    {
      "metadata": {},
      "cell_type": "markdown",
      "source": "## Task 1: `while` with comparison operator \n### Program: Animal Names\n- Use **`while`** to get the user input, animal_name, of 4 animals \n  - Use a counter, num_animals, in the while loop condition\n  - Append the names to a string variable, all_animals\n  - User can exit early by typing \"exit\" (check if animal_name is \"exit\" and break)\n- When the loop finishes, print the names of all_animals\n\n- Bonus: print \"no animals\" if animal_name is empty after exiting the loop\n\n**Tip:** Think about Sequence and variables that need to be initialized before the while loop"
    },
    {
      "metadata": {
        "trusted": true
      },
      "cell_type": "code",
      "source": "# [ ] Create the Animal Names program, run tests\nanimals = \"\"\ni = 0\nwhile i < 4:\n    animal = input()\n    if animal == \"exit\":\n        break\n    else:\n        animals = animals + animal + \" \"\n    i += 1\nprint(animals)",
      "execution_count": 8,
      "outputs": [
        {
          "output_type": "stream",
          "name": "stdout",
          "text": "bird\nexit\nbird \n"
        }
      ]
    },
    {
      "metadata": {
        "collapsed": true
      },
      "cell_type": "markdown",
      "source": "## Concept: `while` with Boolean String Tests\n[![view video](https://iajupyterprodblobs.blob.core.windows.net/imagecontainer/common/play_video.png)]( http://edxinteractivepage.blob.core.windows.net/edxpages/f7cff1a7-5601-48a1-95a6-fd1fdfabd20e.html?details=[{\"src\":\"http://jupyternootbookwams.streaming.mediaservices.windows.net/26728191-873d-42ba-b6b5-48b396a8f42f/Unit1_Section7.2-while-boolean-string.ism/manifest\",\"type\":\"application/vnd.ms-sstr+xml\"}],[{\"src\":\"http://jupyternootbookwams.streaming.mediaservices.windows.net/26728191-873d-42ba-b6b5-48b396a8f42f/Unit1_Section7.2-while-boolean-string.vtt\",\"srclang\":\"en\",\"kind\":\"subtitles\",\"label\":\"english\"}])\n### Using `while` with a Boolean String Tests\nA while loop can be controlled by Boolean strings such as `while name.isalpha() == False:`"
    },
    {
      "metadata": {},
      "cell_type": "markdown",
      "source": "### Example"
    },
    {
      "metadata": {
        "trusted": true
      },
      "cell_type": "code",
      "source": "# review and run example that loops until a valid first name format is entered\nstudent_fname = \"\"\nwhile student_fname.isalpha() == False:\n    student_fname = input(\"enter student\\'s first (Letters only, No spaces): \")\nprint(\"\\n\" + student_fname.title(),\"has been entered as first name\")",
      "execution_count": 9,
      "outputs": [
        {
          "output_type": "stream",
          "name": "stdout",
          "text": "enter student's first (Letters only, No spaces):  \nenter student's first (Letters only, No spaces):  \nenter student's first (Letters only, No spaces):  \nenter student's first (Letters only, No spaces):  \nenter student's first (Letters only, No spaces): Priya\n\nPriya has been entered as first name\n"
        }
      ]
    },
    {
      "metadata": {},
      "cell_type": "markdown",
      "source": "## Task 2: Using `while` with a Boolean String\n### Program: Long Number\n#### Create variables\n- **`int_num`** and get user input **string** of only digits  \n- **`long_num`** and initialize it as an empty string  \n\n#### Create a while loop that runs as long as the input is all digits  \n\n#### Inside the while loop   \n- Add **`int_num`** to the end of **`long_num`**\n- Get user input for **`int_num`** again (*inside while loop this time*)  \n\n#### After the loop exits \n- Print the value of **`long_num`**   "
    },
    {
      "metadata": {
        "trusted": true
      },
      "cell_type": "code",
      "source": "# [ ] Create the program, run tests\nintNum = input(\"Enter only digits: \")\nlongNum = \"\"\nwhile intNum.isdigit():\n    longNum = longNum + intNum\n    intNum = input(\"Enter only digits: \")\nprint(longNum)",
      "execution_count": 1,
      "outputs": [
        {
          "output_type": "stream",
          "name": "stdout",
          "text": "Enter only digits: 4\nEnter only digits: 5\nEnter only digits: 6\nEnter only digits: 1\nEnter only digits: 23\nEnter only digits: 4444444444444444\nEnter only digits: p\n4561234444444444444444\n"
        }
      ]
    },
    {
      "metadata": {},
      "cell_type": "markdown",
      "source": "## Task 3: Fix the Errors\nThis loop never runs.\n### This is a logic error - there is no ErrorMessage, but the code *doesn't work*"
    },
    {
      "metadata": {
        "trusted": true
      },
      "cell_type": "code",
      "source": "# [ ] review the code, run, fix the Logic error\ncount = 1\n\n# loop 5 times\nwhile count < 6:\n    print(count, \"x\", count, \"=\", count*count)\n    count +=1\n    \n",
      "execution_count": 3,
      "outputs": [
        {
          "output_type": "stream",
          "text": "1 x 1 = 1\n2 x 2 = 4\n3 x 3 = 9\n4 x 4 = 16\n5 x 5 = 25\n",
          "name": "stdout"
        }
      ]
    },
    {
      "metadata": {},
      "cell_type": "markdown",
      "source": "[Terms of use](http://go.microsoft.com/fwlink/?LinkID=206977) &nbsp; [Privacy & cookies](https://go.microsoft.com/fwlink/?LinkId=521839) &nbsp; © 2017 Microsoft"
    }
  ],
  "metadata": {
    "anaconda-cloud": {},
    "kernelspec": {
      "name": "python3",
      "display_name": "Python 3",
      "language": "python"
    },
    "language_info": {
      "mimetype": "text/x-python",
      "nbconvert_exporter": "python",
      "name": "python",
      "pygments_lexer": "ipython3",
      "version": "3.5.4",
      "file_extension": ".py",
      "codemirror_mode": {
        "version": 3,
        "name": "ipython"
      }
    }
  },
  "nbformat": 4,
  "nbformat_minor": 1
}