{
  "cells": [
    {
      "metadata": {
        "trusted": true
      },
      "cell_type": "code",
      "source": "first_name = \"Nathan\"\nlast_name = \"Battle\"\nprint(first_name,last_name)",
      "execution_count": 4,
      "outputs": [
        {
          "output_type": "stream",
          "text": "Nathan Battle\n",
          "name": "stdout"
        }
      ]
    },
    {
      "metadata": {
        "trusted": true
      },
      "cell_type": "code",
      "source": "test1 = 97\ntest2 = 100\ntest3 = 78\ntotal = test1 + test2 + test3\navg = total / 3\nprint(avg)",
      "execution_count": 5,
      "outputs": [
        {
          "output_type": "stream",
          "text": "91.66666666666667\n",
          "name": "stdout"
        }
      ]
    }
  ],
  "metadata": {
    "kernelspec": {
      "name": "python36",
      "display_name": "Python 3.6",
      "language": "python"
    },
    "language_info": {
      "mimetype": "text/x-python",
      "nbconvert_exporter": "python",
      "name": "python",
      "pygments_lexer": "ipython3",
      "version": "3.6.6",
      "file_extension": ".py",
      "codemirror_mode": {
        "version": 3,
        "name": "ipython"
      }
    }
  },
  "nbformat": 4,
  "nbformat_minor": 2
}