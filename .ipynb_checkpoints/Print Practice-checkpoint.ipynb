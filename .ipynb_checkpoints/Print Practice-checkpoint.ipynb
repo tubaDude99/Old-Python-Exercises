{
  "cells": [
    {
      "metadata": {
        "trusted": true
      },
      "cell_type": "code",
      "source": "# My name is Nathan\nprint(\"I'm left handed\")\nprint()\nprint(\"I have coded with Java and Python\")\nprint()\nprint(\"I am a Boy Scout\")",
      "execution_count": 1,
      "outputs": [
        {
          "output_type": "stream",
          "text": "I'm left handed\n\nI have coded with Java and Python\n\nI am a Boy Scout\n",
          "name": "stdout"
        }
      ]
    }
  ],
  "metadata": {
    "kernelspec": {
      "name": "python36",
      "display_name": "Python 3.6",
      "language": "python"
    },
    "language_info": {
      "mimetype": "text/x-python",
      "nbconvert_exporter": "python",
      "name": "python",
      "pygments_lexer": "ipython3",
      "version": "3.6.6",
      "file_extension": ".py",
      "codemirror_mode": {
        "version": 3,
        "name": "ipython"
      }
    }
  },
  "nbformat": 4,
  "nbformat_minor": 2
}