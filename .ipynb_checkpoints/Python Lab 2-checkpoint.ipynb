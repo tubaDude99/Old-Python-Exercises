{
  "cells": [
    {
      "metadata": {},
      "cell_type": "markdown",
      "source": "\n# Lab 2\n## Functions, Arguments, and Parameters Practice\n\n-----\n\n### Student will be able to\n- **Create functions with a parameter**  \n- **Create functions with a `return` value** \n- **Create functions with multiple parameters**\n- **Use knowledge of sequence in coding tasks**  \n- **Use coding best practices** "
    },
    {
      "metadata": {},
      "cell_type": "markdown",
      "source": "## Tasks"
    },
    {
      "metadata": {
        "trusted": true
      },
      "cell_type": "code",
      "source": "# [ ] define and call a function short_rhyme() that prints a 2 line rhyme\ndef short_rhyme():\n    print(\"Make a line and make it rhyme\")\n    print(\"Make it rhyme all of the time\")\nshort_rhyme()",
      "execution_count": 3,
      "outputs": [
        {
          "output_type": "stream",
          "text": "Make a line and make it rhyme\nMake it rhyme all of the time\n",
          "name": "stdout"
        }
      ]
    },
    {
      "metadata": {
        "trusted": true
      },
      "cell_type": "code",
      "source": "# [ ] define (def) a simple function: title_it() and call the function\n# - has a string parameter: msg\n# - prints msg in Title Case\ndef title_it(msg):\n    print(msg.title())\ntitle_it(\"title this\")",
      "execution_count": null,
      "outputs": [
        {
          "output_type": "stream",
          "text": "Title This\n",
          "name": "stdout"
        }
      ]
    },
    {
      "metadata": {
        "trusted": true
      },
      "cell_type": "code",
      "source": "# [ ] get user input with prompt \"what is the title?\" \n# [ ] call title_it() using input for the string argument\ndef title_it(msg):\n    print(msg.title())\ntitle_it(input(\"What to title? \"))",
      "execution_count": 1,
      "outputs": [
        {
          "output_type": "stream",
          "name": "stdout",
          "text": "What to title? title this\nTitle This\n"
        }
      ]
    },
    {
      "metadata": {
        "trusted": true
      },
      "cell_type": "code",
      "source": "# [ ] define title_it_rtn() which returns a titled string instead of printing\n# [ ] call title_it_rtn() using input for the string argument and print the result\ndef title_it_rtn(msg):\n    return(msg.title())\nprint(title_it_rtn(input(\"What to title? \")))",
      "execution_count": 2,
      "outputs": [
        {
          "output_type": "stream",
          "name": "stdout",
          "text": "What to title? title this\nTitle This\n"
        }
      ]
    },
    {
      "metadata": {},
      "cell_type": "markdown",
      "source": "## Program: bookstore()\nCreate and test bookstore().\n- **bookstore() takes 2 string arguments: book & price**\n- **bookstore returns a string in sentence form** \n- **bookstore() should call title_it_rtn()** with book parameter  \n- **Gather input for book_entry and price_entry to use in calling bookstore()**\n- **Print the return value of bookstore()**\n>Example of output: **`Title: The Adventures Of Sherlock Holmes, costs $12.99`**"
    },
    {
      "metadata": {
        "trusted": true
      },
      "cell_type": "code",
      "source": "# [ ] create, call and test bookstore() function\ndef bookstore(book,price):\n    return(\"The book \" + book + \" costs $\" + str(price) + \".\")\nprint(bookstore(input(\"What book? \"),input(\"How much? \")))",
      "execution_count": 5,
      "outputs": [
        {
          "output_type": "stream",
          "name": "stdout",
          "text": "What book? Ender's Game\nHow much? 24.99\nThe book Ender's Game costs $24.99.\n"
        }
      ]
    },
    {
      "metadata": {},
      "cell_type": "markdown",
      "source": "## Fix the error"
    },
    {
      "metadata": {
        "trusted": true
      },
      "cell_type": "code",
      "source": "def make_greeting(name, greeting):\n    return (greeting + \" \" + name + \"!\")\n\n# get name and greeting, send to make_greeting \n\ndef get_name():\n    name_entry = input(\"enter a name: \")\n    return name_entry\n\ndef get_greeting():\n    greeting_entry = input(\"enter a greeting: \")\n    return greeting_entry\n\nprint(make_greeting(get_name(), get_greeting()))\n\n\n",
      "execution_count": 7,
      "outputs": [
        {
          "output_type": "stream",
          "name": "stdout",
          "text": "enter a name: Nathan\nenter a greeting: Greetings\nGreetings Nathan!\n"
        }
      ]
    },
    {
      "metadata": {},
      "cell_type": "markdown",
      "source": "\n[Terms of use](http://go.microsoft.com/fwlink/?LinkID=206977) &nbsp; [Privacy & cookies](https://go.microsoft.com/fwlink/?LinkId=521839) &nbsp; © 2017 Microsoft"
    }
  ],
  "metadata": {
    "anaconda-cloud": {},
    "kernelspec": {
      "name": "python3",
      "display_name": "Python 3",
      "language": "python"
    },
    "language_info": {
      "mimetype": "text/x-python",
      "nbconvert_exporter": "python",
      "name": "python",
      "pygments_lexer": "ipython3",
      "version": "3.5.4",
      "file_extension": ".py",
      "codemirror_mode": {
        "version": 3,
        "name": "ipython"
      }
    }
  },
  "nbformat": 4,
  "nbformat_minor": 1
}