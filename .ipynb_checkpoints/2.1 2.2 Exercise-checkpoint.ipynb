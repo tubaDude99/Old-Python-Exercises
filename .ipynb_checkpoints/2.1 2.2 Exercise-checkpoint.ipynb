{
  "cells": [
    {
      "metadata": {
        "trusted": true
      },
      "cell_type": "code",
      "source": "states = ['Texas', 'Kentuckey', 'Connecticut', 'Maine', 'Mississippi']\nprint(states)\nstates.append(\"Georgia\")",
      "execution_count": 2,
      "outputs": [
        {
          "output_type": "stream",
          "text": "['Texas', 'Kentuckey', 'Connecticut', 'Maine', 'Mississippi']\n",
          "name": "stdout"
        }
      ]
    },
    {
      "metadata": {
        "trusted": true
      },
      "cell_type": "code",
      "source": "bands = ['Journey', 'Johnny Cash', 'Kansas', 'The Eagles', 'John Coltrane']\nprint(bands)\nbands.append(input())",
      "execution_count": 3,
      "outputs": [
        {
          "output_type": "stream",
          "text": "['Journey', 'Johnny Cash', 'Kansas', 'The Eagles', 'John Coltrane']\nBon Jovi\n",
          "name": "stdout"
        }
      ]
    }
  ],
  "metadata": {
    "kernelspec": {
      "name": "python36",
      "display_name": "Python 3.6",
      "language": "python"
    },
    "language_info": {
      "mimetype": "text/x-python",
      "nbconvert_exporter": "python",
      "name": "python",
      "pygments_lexer": "ipython3",
      "version": "3.6.6",
      "file_extension": ".py",
      "codemirror_mode": {
        "version": 3,
        "name": "ipython"
      }
    }
  },
  "nbformat": 4,
  "nbformat_minor": 2
}