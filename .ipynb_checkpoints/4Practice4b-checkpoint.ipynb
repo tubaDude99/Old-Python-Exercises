{
  "cells": [
    {
      "metadata": {},
      "cell_type": "markdown",
      "source": "# Lab 4b\n## `while()` Loops and Increments\n\n-----\n\n### Student will be able to\n- Create forever loops using `while` and `break`\n- Use incrementing variables in a while loop\n- Control while loops using Boolean operators"
    },
    {
      "metadata": {},
      "cell_type": "markdown",
      "source": "## Tasks"
    },
    {
      "metadata": {
        "trusted": true
      },
      "cell_type": "code",
      "source": "# [ ] use a \"forever\" while loop to get user input of integers to add to sum, \n# until a non-digit is entered, then break the loop and print sum\nsum = 0\nwhile True:\n    i = input()\n    if i.isdigit():\n        sum = sum + int(i)\n    else:\n        break\nprint(sum)",
      "execution_count": 1,
      "outputs": [
        {
          "output_type": "stream",
          "name": "stdout",
          "text": "1\n2\n4\n8\n8\n8\ng\n31\n"
        }
      ]
    },
    {
      "metadata": {
        "trusted": true
      },
      "cell_type": "code",
      "source": "# [ ] use a while True loop (forever loop) to give 4 chances for input of a correct color in a rainbow\n# rainbow = \"red orange yellow green blue indigo violet\"\ni = 0\nrainbow = \"red orange yellow green blue indigo violet\"\nwhile i < 4:\n    if input(\"name a color: \").lower() in rainbow:\n        print(\"Congratulations!\")\n        break\n    else:\n        i += 1\nif i == 4:\n    print(\"Sorry\")",
      "execution_count": 6,
      "outputs": [
        {
          "output_type": "stream",
          "name": "stdout",
          "text": "name a color: Tim\nname a color: Tim\nname a color: Tim\nname a color: Red\nCongratulations!\n"
        }
      ]
    },
    {
      "metadata": {
        "trusted": true
      },
      "cell_type": "code",
      "source": "# [ ] Get input for a book title, keep looping while input is Not in title format (title is every word capitalized)\nwhile 0<1:\n    title = input(\"\")\n    if title.istitle():\n        break\nprint(title)",
      "execution_count": 8,
      "outputs": [
        {
          "output_type": "stream",
          "name": "stdout",
          "text": "g\ng\nfasd\nf\n\nEnder's Game\nEnders Game\nEnders Game\n"
        }
      ]
    },
    {
      "metadata": {
        "trusted": true
      },
      "cell_type": "code",
      "source": "# [ ] create a math quiz question and ask for the solution until the input is correct\nwhile 1>0:\n    if input(\"What's 9 + 10? \") == \"19\":\n        break\n    else:\n        print(\"You stupid\")\nprint(\"Correct!\")",
      "execution_count": 10,
      "outputs": [
        {
          "output_type": "stream",
          "name": "stdout",
          "text": "What's 9 + 10? 21\nYou stupid\nWhat's 9 + 10? 21\nYou stupid\nWhat's 9 + 10? 19\nCorrect!\n"
        }
      ]
    },
    {
      "metadata": {},
      "cell_type": "markdown",
      "source": "## Fix the Error"
    },
    {
      "metadata": {
        "trusted": true
      },
      "cell_type": "code",
      "source": "# [ ] review the code, run, fix the error\ntickets = int(input(\"enter tickets remaining (0 to quit): \"))\n\nwhile tickets > 0:\n        # if tickets are multiple of 3 then \"winner\"\n    if int(tickets/3) == tickets/3:\n        print(\"you win!\")\n    else:\n        print(\"sorry, not a winner.\")\n    tickets = int(input(\"enter tickets remaining (0 to quit): \"))\n\nprint(\"Game ended\")\n    \n",
      "execution_count": 2,
      "outputs": [
        {
          "output_type": "stream",
          "name": "stdout",
          "text": "enter tickets remaining (0 to quit): 4\nsorry, not a winner.\nenter tickets remaining (0 to quit): 3\nyou win!\nenter tickets remaining (0 to quit): 2\nsorry, not a winner.\nenter tickets remaining (0 to quit): 2\nsorry, not a winner.\nenter tickets remaining (0 to quit): 2\nsorry, not a winner.\nenter tickets remaining (0 to quit): 2\nsorry, not a winner.\nenter tickets remaining (0 to quit): 2\nsorry, not a winner.\nenter tickets remaining (0 to quit): 3\nyou win!\nenter tickets remaining (0 to quit): 3\nyou win!\nenter tickets remaining (0 to quit): 9\nyou win!\nenter tickets remaining (0 to quit): 0\nGame ended\n"
        }
      ]
    },
    {
      "metadata": {},
      "cell_type": "markdown",
      "source": "## Create a function: quiz_item()  that asks a question and tests if input is correct  \n- quiz_item()has 2 parameter **strings**: question and solution  \n- shows question, gets answer input  \n- returns True if `answer == solution` or continues to ask question until correct answer is provided  \n- use a while loop\n\ncreate 2 or more quiz questions that call quiz_item()  \n**Hint**: provide multiple choice or T/F answers"
    },
    {
      "metadata": {
        "trusted": true
      },
      "cell_type": "code",
      "source": "# Create quiz_item() and 2 or more quiz questions that call quiz_item()\ndef quizItem(q,s):\n    while 1<2:\n        a = input(q)\n        if a == s:\n            return True\n            print(\"Correct!\")\n            break\n        else:\n            print(\"Try again\")\nquizItem(\"Frogs are amphibians. \\tTrue or False?\\n\",\"True\")\nquizItem(\"Frogs are which of the following?\\na. Reptiles\\nb. Fish\\nc. Amphibians\\nd. Mammals\\n\",\"c\")",
      "execution_count": 6,
      "outputs": [
        {
          "output_type": "stream",
          "name": "stdout",
          "text": "Frogs are amphibians. \tTrue or False?\nFalse\nTry again\nFrogs are amphibians. \tTrue or False?\nTrue\nFrogs are which of the following?\na. Reptiles\nb. Fish\nc. Amphibians\nd. Mammals\na\nTry again\nFrogs are which of the following?\na. Reptiles\nb. Fish\nc. Amphibians\nd. Mammals\nc\n"
        },
        {
          "output_type": "execute_result",
          "execution_count": 6,
          "data": {
            "text/plain": "True"
          },
          "metadata": {}
        }
      ]
    },
    {
      "metadata": {
        "collapsed": true
      },
      "cell_type": "markdown",
      "source": "[Terms of use](http://go.microsoft.com/fwlink/?LinkID=206977) &nbsp; [Privacy & cookies](https://go.microsoft.com/fwlink/?LinkId=521839) &nbsp; © 2017 Microsoft"
    }
  ],
  "metadata": {
    "anaconda-cloud": {},
    "kernelspec": {
      "name": "python3",
      "display_name": "Python 3",
      "language": "python"
    },
    "language_info": {
      "mimetype": "text/x-python",
      "nbconvert_exporter": "python",
      "name": "python",
      "pygments_lexer": "ipython3",
      "version": "3.5.4",
      "file_extension": ".py",
      "codemirror_mode": {
        "version": 3,
        "name": "ipython"
      }
    }
  },
  "nbformat": 4,
  "nbformat_minor": 1
}