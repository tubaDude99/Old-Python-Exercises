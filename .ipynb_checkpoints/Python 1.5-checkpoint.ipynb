{
  "cells": [
    {
      "metadata": {
        "slideshow": {
          "slide_type": "slide"
        }
      },
      "cell_type": "markdown",
      "source": "# Section 1.5\n##  ASCII Art\n- Python 3 in Jupyter notebooks\n- `print()`\n- Comments \n- Data types basics\n- Variables\n- Addition with Strings and Integers \n- Errors  \n- **Character art**  \n\n-----\n\n\n### Student will be able to\n- Use Python 3 in Jupyter notebooks\n- Write working code using `print()`, `type()`, comments and variables\n- Combine Strings using string addition (+)\n- Add numbers in code (+) \n- Troubleshoot errors  \n- **Create character art**"
    },
    {
      "metadata": {},
      "cell_type": "markdown",
      "source": "## Concept: Print Character Art\n[![view video](https://iajupyterprodblobs.blob.core.windows.net/imagecontainer/common/play_video.png)]( http://edxinteractivepage.blob.core.windows.net/edxpages/f7cff1a7-5601-48a1-95a6-fd1fdfabd20e.html?details=[{\"src\":\"http://jupyternootbookwams.streaming.mediaservices.windows.net/d7a3d1b4-8d8d-4e9e-a984-a6920bcd7ca1/Unit1_Section1.5-ASCII_Art.ism/manifest\",\"type\":\"application/vnd.ms-sstr+xml\"}],[{\"src\":\"http://jupyternootbookwams.streaming.mediaservices.windows.net/d7a3d1b4-8d8d-4e9e-a984-a6920bcd7ca1/Unit1_Section1.5-ASCII_Art.vtt\",\"srclang\":\"en\",\"kind\":\"subtitles\",\"label\":\"english\"}])\nprint() output to the console can create character art in the forms of pictures and stylized text. Below we show how to create a stylized letter \"A\". "
    },
    {
      "metadata": {
        "trusted": true
      },
      "cell_type": "code",
      "source": "# the letter 'A'\nprint(\"    *\")\nprint(\"   * *\")\nprint(\"  *****\")\nprint(\" *     *\")\nprint(\"*       *\")\nprint()",
      "execution_count": 1,
      "outputs": [
        {
          "output_type": "stream",
          "text": "    *\n   * *\n  *****\n *     *\n*       *\n\n",
          "name": "stdout"
        }
      ]
    },
    {
      "metadata": {},
      "cell_type": "markdown",
      "source": "## Task 1: Create character art\n- Create the flying bird in character art in the Code cell below.\n\n```\n\n_         _      \n \\       /     \n  \\ . . /   \n     V   \n\n```  \n"
    },
    {
      "metadata": {
        "trusted": true
      },
      "cell_type": "code",
      "source": "# create # [ ] flying bird character art \nprint(\"_         _\")\nprint(\" \\       /\")\nprint(\"  \\ . . /\")\nprint(\"     V\")",
      "execution_count": 2,
      "outputs": [
        {
          "output_type": "stream",
          "text": "_         _\n \\       /\n  \\ . . /\n     V\n",
          "name": "stdout"
        }
      ]
    },
    {
      "metadata": {},
      "cell_type": "markdown",
      "source": "### Task 1 continued...  \n- Create the capital letter \"E\" in character art in the Code cell below."
    },
    {
      "metadata": {
        "trusted": true
      },
      "cell_type": "code",
      "source": "# [ ] capital letter \"E\" character art\nprint(\" ______\")\nprint(\"|\")\nprint(\"|\")\nprint(\"|------\")\nprint(\"|\")\nprint(\"|______\")",
      "execution_count": 6,
      "outputs": [
        {
          "output_type": "stream",
          "text": " ______\n|\n|\n|------\n|\n|______\n",
          "name": "stdout"
        }
      ]
    },
    {
      "metadata": {},
      "cell_type": "markdown",
      "source": "[Terms of use](http://go.microsoft.com/fwlink/?LinkID=206977) &nbsp; [Privacy & cookies](https://go.microsoft.com/fwlink/?LinkId=521839) &nbsp; © 2017 Microsoft"
    }
  ],
  "metadata": {
    "anaconda-cloud": {},
    "kernelspec": {
      "name": "python3",
      "display_name": "Python 3",
      "language": "python"
    },
    "language_info": {
      "mimetype": "text/x-python",
      "nbconvert_exporter": "python",
      "name": "python",
      "pygments_lexer": "ipython3",
      "version": "3.5.4",
      "file_extension": ".py",
      "codemirror_mode": {
        "version": 3,
        "name": "ipython"
      }
    }
  },
  "nbformat": 4,
  "nbformat_minor": 1
}