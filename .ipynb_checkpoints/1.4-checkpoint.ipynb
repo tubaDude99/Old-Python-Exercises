{
  "cells": [
    {
      "metadata": {},
      "cell_type": "markdown",
      "source": "# Section 1.4: File System\n* sys.platform\n* os: os.getcwd, os.chdir, os.listdir, os.mkdir, os.rmdir, os.rename\n* os.path: os.path.abspath, os.path.exists, os.path.isfile, os.path.isdir\n\n### Students will be able to:\n* Identify the platform running a Python script ('Linux', 'win32', 'Darwin')\n* Get the current working directory\n* Change the current working directory\n* List the content of the current working directory\n* Create a new directory\n* Remove a directory\n* Rename files and directories\n* Recognize the difference between relative and absolute paths\n* Test whether a path exists\n* Test whether a specific file or directory exists\n"
    },
    {
      "metadata": {},
      "cell_type": "markdown",
      "source": "---\n<font size=\"6\" color=\"#00A0B2\"  face=\"verdana\"> <B>Concepts</B></font>  \n\n\n## Platform Identification\n[![view video](https://iajupyterprodblobs.blob.core.windows.net/imagecontainer/common/play_video.png)](http://edxinteractivepage.blob.core.windows.net/edxpages/f7cff1a7-5601-48a1-95a6-fd1fdfabd20e.html?details=[{\"src\":\"http://jupyternootbookwams.streaming.mediaservices.windows.net/0ff85a85-7e41-4b56-9f8d-d9011225d54c/DEV330x-1_4a_platform.ism/manifest\",\"type\":\"application/vnd.ms-sstr+xml\"}],[{\"src\":\"http://jupyternootbookwams.streaming.mediaservices.windows.net/9d4fe926-4a98-4c1a-9dc4-77d66c648d86/DEV330x-1_4a_platform.vtt\",\"srclang\":\"en\",\"kind\":\"subtitles\",\"label\":\"english\"}])\n\nIn recent years, when you reach the download page of a website, you are directed to download a file that matches your operating system. For example, when using a Windows computer, download links direct you to .exe files; similarly, when using a Mac, you download links direct you to .dmg files. This code awareness makes the user experience more pleasant.\n\nPython scripts can run on different platforms, including Windows, Mac, and Linux. The `sys` module provides access to several system variables, including the platform. If you know the platform your Python code is running on, you may be able to change the behavior of your application to accommodate that platform."
    },
    {
      "metadata": {},
      "cell_type": "markdown",
      "source": "---\n<font size=\"6\" color=\"#00A0B2\"  face=\"verdana\"> <B>Examples</B></font>\n\n### Identifying the platform"
    },
    {
      "metadata": {
        "trusted": true
      },
      "cell_type": "code",
      "source": "import sys\n\nprint(sys.platform)",
      "execution_count": 1,
      "outputs": [
        {
          "output_type": "stream",
          "text": "linux\n",
          "name": "stdout"
        }
      ]
    },
    {
      "metadata": {},
      "cell_type": "markdown",
      "source": "---\n<font size=\"6\" color=\"#00A0B2\"  face=\"verdana\"> <B>Concepts</B></font>  \n\n\n## Directory Operations\n[![view video](https://iajupyterprodblobs.blob.core.windows.net/imagecontainer/common/play_video.png)](http://edxinteractivepage.blob.core.windows.net/edxpages/f7cff1a7-5601-48a1-95a6-fd1fdfabd20e.html?details=[{\"src\":\"http://jupyternootbookwams.streaming.mediaservices.windows.net/f27ecdae-1e25-49cd-9a86-8de1e9bb79b8/DEV330x-1_4b_directory_operation.ism/manifest\",\"type\":\"application/vnd.ms-sstr+xml\"}],[{\"src\":\"http://jupyternootbookwams.streaming.mediaservices.windows.net/b1eac977-5006-4373-9466-223a5a4f42da/DEV330x-1_4b_directory_operations_modified.vtt\",\"srclang\":\"en\",\"kind\":\"subtitles\",\"label\":\"english\"}])\n\nMost operating systems organize files in hierarchical structures. For example, directories (also known as folders) may contain other directories and files. The Python `os` module contains some useful functions to navigate and manipulate files and directories. In the following sections, you will see how to perform some basic directory operations.\n\n#### Finding and changing the current working directory\nWhen navigating the hierarchical file system, you will always be located in a directory. The directory you're in is referred to as the \"current working directory\", or \"cwd\" for short. Python's `os.getcwd()` nethod returns a string containing the current working directory path.\n\nThe working directory can be changed in Python using `os.chdir(path)`, which changes the cwd into `path`, which is a string variable containing a path to the new working directory.\n\nNOTE: When changing a working directory, you can specify `..` as your path. This effectively changes the working directory one level up into the parent directory.\n\n#### Listing the content of a directory\nYou might need to access or read the content of a directory. The `os.listdir()` method returns a list of the files and directories in the current working directory.\n\n#### Creating and removing directories\nIn Python, a new directory can be created manually using `os.mkdir(path)`, where `path` is the path and name of the new directory. Similarly, a directory can be removed using `os.rmdir(path)`, where `path` is the name of the directory to be deleted. Note that `rmdir` can delete only empty directories; if the directory specified by path is not empty, an error will be raised.\n\n#### Renaming files and directories\nMany tasks can be automated by Python. For example, if you want to rename a large number of files to match a predefined pattern, you can use Python's `os.rename(src, dst)` method, in which `src` is a string containing the path of a source file or directory, and `dst` is a string containing the new (destination) path and/or name."
    },
    {
      "metadata": {},
      "cell_type": "markdown",
      "source": "---\n<font size=\"6\" color=\"#00A0B2\"  face=\"verdana\"> <B>Examples</B></font>\n"
    },
    {
      "metadata": {},
      "cell_type": "markdown",
      "source": "### Directory structure\nThe examples in this lesson traverse through the following directory structure. \n\nparent_dir\n    \n    |__  child1_dir\n    |    |\n    |    |_ leaf1.txt\n    |\n    |__ child2_dir\n    |    |\n    |    |_ leaf2.txt\n    |\n    |__ parent_leaf.txt\n    |\n    |__ text_file.txt\n\n#### Directories\nThe directories in this structure are parent_dir, child1_dir, and child2_dir.\n\n#### Files\nThe files in this structure are leaf1.txt, leaf2.txt, parent_leaf.txt, and text_file.txt."
    },
    {
      "metadata": {},
      "cell_type": "markdown",
      "source": "### Working directory\nIn this example, you will change the current working directory to parent_dir, then to child1_dir, then back to parent_dir. You will also see a printout of the current working directory at every step."
    },
    {
      "metadata": {
        "trusted": true
      },
      "cell_type": "code",
      "source": "import os\n\n# Change the current working directory to parent dir\nos.chdir('..')\nprint('Changed working dir to parent: ', os.getcwd())\n\n# Change the current working directory to child1 dir\nos.chdir('child1_dir')\nprint('Changed working dir to child1: ', os.getcwd())\n\n# Change the current working directory back to the parent dir\nos.chdir('..')\nprint('Changed working dir back to parent: ', os.getcwd())",
      "execution_count": 1,
      "outputs": [
        {
          "output_type": "stream",
          "text": "Changed working dir to parent:  /home/nbuser/library\n",
          "name": "stdout"
        },
        {
          "output_type": "error",
          "ename": "FileNotFoundError",
          "evalue": "[Errno 2] No such file or directory: 'child1_dir'",
          "traceback": [
            "\u001b[0;31m---------------------------------------------------------------------------\u001b[0m",
            "\u001b[0;31mFileNotFoundError\u001b[0m                         Traceback (most recent call last)",
            "\u001b[0;32m<ipython-input-1-d4a0e4b90276>\u001b[0m in \u001b[0;36m<module>\u001b[0;34m()\u001b[0m\n\u001b[1;32m      6\u001b[0m \u001b[0;34m\u001b[0m\u001b[0m\n\u001b[1;32m      7\u001b[0m \u001b[0;31m# Change the current working directory to child1 dir\u001b[0m\u001b[0;34m\u001b[0m\u001b[0;34m\u001b[0m\u001b[0m\n\u001b[0;32m----> 8\u001b[0;31m \u001b[0mos\u001b[0m\u001b[0;34m.\u001b[0m\u001b[0mchdir\u001b[0m\u001b[0;34m(\u001b[0m\u001b[0;34m'child1_dir'\u001b[0m\u001b[0;34m)\u001b[0m\u001b[0;34m\u001b[0m\u001b[0m\n\u001b[0m\u001b[1;32m      9\u001b[0m \u001b[0mprint\u001b[0m\u001b[0;34m(\u001b[0m\u001b[0;34m'Changed working dir to child1: '\u001b[0m\u001b[0;34m,\u001b[0m \u001b[0mos\u001b[0m\u001b[0;34m.\u001b[0m\u001b[0mgetcwd\u001b[0m\u001b[0;34m(\u001b[0m\u001b[0;34m)\u001b[0m\u001b[0;34m)\u001b[0m\u001b[0;34m\u001b[0m\u001b[0m\n\u001b[1;32m     10\u001b[0m \u001b[0;34m\u001b[0m\u001b[0m\n",
            "\u001b[0;31mFileNotFoundError\u001b[0m: [Errno 2] No such file or directory: 'child1_dir'"
          ]
        }
      ]
    },
    {
      "metadata": {},
      "cell_type": "markdown",
      "source": "### Directory content\nIn this example, you will list the content of the current working directory (parent_dir)."
    },
    {
      "metadata": {
        "trusted": true
      },
      "cell_type": "code",
      "source": "import os\n\n# Print the current working directory (should be \"parent_dir\")\nprint('The current working directory is:', os.getcwd())\n\n# List the content of the directory (both files and other directories)\nprint('Current directory content: ', os.listdir())",
      "execution_count": 8,
      "outputs": [
        {
          "output_type": "stream",
          "text": "The current working directory is: /home/nbuser/library/3 Unit 3\nCurrent directory content:  ['1.2 Exercise.ipynb', '3-1.5_Mod01_Practice.ipynb', '3-3.4_intro_Python.ipynb', '3-3.1_intro_Python.ipynb', '1.3.ipynb', '3-3.3_intro_Python.ipynb', '1.2.ipynb', 'Required_Code_Mod02.ipynb', '3-4.3_intro_Python.ipynb', '3-4.5_Mod04_Practice.ipynb', '3-4.1_intro_Python.ipynb', 'Required_Code_Mod03.ipynb', '1.1.ipynb', '3-2.4_intro_Python.ipynb', 'Required_Code_Mod01.ipynb', 'Required_Code_Mod04.ipynb', '3-2.2_intro_Python.ipynb', '3-2.5_Mod02_Practice(1).ipynb', '3-2.1_intro_Python.ipynb', '3-3.2_intro_Python.ipynb', '3-4.4_intro_Python.ipynb', '3-2.5_Mod02_Practice.ipynb', '3-4.2_intro_Python.ipynb', '3-2.3_intro_Python.ipynb', '1.4.ipynb']\n",
          "name": "stdout"
        }
      ]
    },
    {
      "metadata": {},
      "cell_type": "markdown",
      "source": "### Creating and removing directories\nIn this example, you will create and remove directories."
    },
    {
      "metadata": {
        "trusted": true
      },
      "cell_type": "code",
      "source": "import os\n\n# Print the current working directory (should be \"parent_dir\")\nprint('The current working directory is:', os.getcwd())\n\n# Create a new directory \nos.mkdir('new_child')\nprint('Created new_child dir')\n\n# List the content of the directory\nprint('Current directory content: ', os.listdir())\n\n# Remove the new child directory\nos.rmdir('new_child')\nprint('Removed new_child dir')\n\n# List the content of the directory\nprint('Current directory content: ', os.listdir())",
      "execution_count": 6,
      "outputs": [
        {
          "output_type": "stream",
          "text": "The current working directory is: /home/nbuser/library/3 Unit 3\nCreated new_child dir\nCurrent directory content:  ['1.2 Exercise.ipynb', '3-1.5_Mod01_Practice.ipynb', '3-3.4_intro_Python.ipynb', 'new_child', '3-3.1_intro_Python.ipynb', '1.3.ipynb', '3-3.3_intro_Python.ipynb', '1.2.ipynb', 'Required_Code_Mod02.ipynb', '3-4.3_intro_Python.ipynb', '3-4.5_Mod04_Practice.ipynb', '3-4.1_intro_Python.ipynb', 'Required_Code_Mod03.ipynb', '1.1.ipynb', '3-2.4_intro_Python.ipynb', 'Required_Code_Mod01.ipynb', 'Required_Code_Mod04.ipynb', '3-2.2_intro_Python.ipynb', '3-2.5_Mod02_Practice(1).ipynb', '3-2.1_intro_Python.ipynb', '3-3.2_intro_Python.ipynb', '3-4.4_intro_Python.ipynb', '3-2.5_Mod02_Practice.ipynb', '3-4.2_intro_Python.ipynb', '3-2.3_intro_Python.ipynb', '1.4.ipynb']\nRemoved new_child dir\nCurrent directory content:  ['1.2 Exercise.ipynb', '3-1.5_Mod01_Practice.ipynb', '3-3.4_intro_Python.ipynb', '3-3.1_intro_Python.ipynb', '1.3.ipynb', '3-3.3_intro_Python.ipynb', '1.2.ipynb', 'Required_Code_Mod02.ipynb', '3-4.3_intro_Python.ipynb', '3-4.5_Mod04_Practice.ipynb', '3-4.1_intro_Python.ipynb', 'Required_Code_Mod03.ipynb', '1.1.ipynb', '3-2.4_intro_Python.ipynb', 'Required_Code_Mod01.ipynb', 'Required_Code_Mod04.ipynb', '3-2.2_intro_Python.ipynb', '3-2.5_Mod02_Practice(1).ipynb', '3-2.1_intro_Python.ipynb', '3-3.2_intro_Python.ipynb', '3-4.4_intro_Python.ipynb', '3-2.5_Mod02_Practice.ipynb', '3-4.2_intro_Python.ipynb', '3-2.3_intro_Python.ipynb', '1.4.ipynb']\n",
          "name": "stdout"
        }
      ]
    },
    {
      "metadata": {},
      "cell_type": "markdown",
      "source": "### Renaming directories\nIn this example, you will create a new directory, and then change its name."
    },
    {
      "metadata": {
        "trusted": true
      },
      "cell_type": "code",
      "source": "import os\n\n# Print the current working directory (should be \"parent_dir\")\nprint('The current working directory is:', os.getcwd())\n\n# Create a new directory \nos.mkdir('new_child')\nprint('Created new_child dir')\n\n# List the content of the directory\nprint('Current directory content:', os.listdir())\n\n# Rename new_child as old_child\nos.rename('new_child', 'old_child')\nprint('Renamed new_child as old_child')\n# List the content of the dir\nprint('Current directory content: ', os.listdir())\n\n# Remove the old_child dir\nos.rmdir('old_child')\nprint('Removed old_child dir')\nprint('Current directory content: ', os.listdir())",
      "execution_count": 9,
      "outputs": [
        {
          "output_type": "stream",
          "text": "The current working directory is: /home/nbuser/library/3 Unit 3\nCreated new_child dir\nCurrent directory content: ['1.2 Exercise.ipynb', '3-1.5_Mod01_Practice.ipynb', '3-3.4_intro_Python.ipynb', 'new_child', '3-3.1_intro_Python.ipynb', '1.3.ipynb', '3-3.3_intro_Python.ipynb', '1.2.ipynb', 'Required_Code_Mod02.ipynb', '3-4.3_intro_Python.ipynb', '3-4.5_Mod04_Practice.ipynb', '3-4.1_intro_Python.ipynb', 'Required_Code_Mod03.ipynb', '1.1.ipynb', '3-2.4_intro_Python.ipynb', 'Required_Code_Mod01.ipynb', 'Required_Code_Mod04.ipynb', '3-2.2_intro_Python.ipynb', '3-2.5_Mod02_Practice(1).ipynb', '3-2.1_intro_Python.ipynb', '3-3.2_intro_Python.ipynb', '3-4.4_intro_Python.ipynb', '3-2.5_Mod02_Practice.ipynb', '3-4.2_intro_Python.ipynb', '3-2.3_intro_Python.ipynb', '1.4.ipynb']\nRenamed new_child as old_child\nCurrent directory content:  ['1.2 Exercise.ipynb', '3-1.5_Mod01_Practice.ipynb', '3-3.4_intro_Python.ipynb', '3-3.1_intro_Python.ipynb', '1.3.ipynb', '3-3.3_intro_Python.ipynb', '1.2.ipynb', 'Required_Code_Mod02.ipynb', '3-4.3_intro_Python.ipynb', '3-4.5_Mod04_Practice.ipynb', '3-4.1_intro_Python.ipynb', 'Required_Code_Mod03.ipynb', '1.1.ipynb', '3-2.4_intro_Python.ipynb', 'Required_Code_Mod01.ipynb', 'Required_Code_Mod04.ipynb', '3-2.2_intro_Python.ipynb', '3-2.5_Mod02_Practice(1).ipynb', 'old_child', '3-2.1_intro_Python.ipynb', '3-3.2_intro_Python.ipynb', '3-4.4_intro_Python.ipynb', '3-2.5_Mod02_Practice.ipynb', '3-4.2_intro_Python.ipynb', '3-2.3_intro_Python.ipynb', '1.4.ipynb']\nRemoved old_child dir\nCurrent directory content:  ['1.2 Exercise.ipynb', '3-1.5_Mod01_Practice.ipynb', '3-3.4_intro_Python.ipynb', '3-3.1_intro_Python.ipynb', '1.3.ipynb', '3-3.3_intro_Python.ipynb', '1.2.ipynb', 'Required_Code_Mod02.ipynb', '3-4.3_intro_Python.ipynb', '3-4.5_Mod04_Practice.ipynb', '3-4.1_intro_Python.ipynb', 'Required_Code_Mod03.ipynb', '1.1.ipynb', '3-2.4_intro_Python.ipynb', 'Required_Code_Mod01.ipynb', 'Required_Code_Mod04.ipynb', '3-2.2_intro_Python.ipynb', '3-2.5_Mod02_Practice(1).ipynb', '3-2.1_intro_Python.ipynb', '3-3.2_intro_Python.ipynb', '3-4.4_intro_Python.ipynb', '3-2.5_Mod02_Practice.ipynb', '3-4.2_intro_Python.ipynb', '3-2.3_intro_Python.ipynb', '1.4.ipynb']\n",
          "name": "stdout"
        }
      ]
    },
    {
      "metadata": {},
      "cell_type": "markdown",
      "source": "---\n<font size=\"6\" color=\"#B24C00\"  face=\"verdana\"> <B>Task 1</B></font>\n\n## Directory Operations\n"
    },
    {
      "metadata": {
        "trusted": true
      },
      "cell_type": "code",
      "source": "# [ ] Write a program to:\n# 1) Prompt the user for a directory name\n# 2) Create the directory\n# 3) Verify the directory was created by listing the content of the current working directory\n# 4) Remove the created directory\n# 5) Verify the directory was removed by listing the content of the current working directory\nimport os\nn = input()\nos.mkdir(n)\nprint(os.listdir())\nos.rmdir(n)\nprint(os.listdir())\n\n# --Completed--\nimport os\n\n# 1) Prompt the user for a directory name\ndir_name = input(\"Enter a directory name: \")\n\n# 2) Create the directory\nprint(\"Making\", dir_name)\nos.mkdir(dir_name)\n\n# 3) Verify the directory was created by listing the content of the current working directory\nprint(\"Current directory content:\", os.listdir())\n\n# 4) Remove the created directory\nprint(\"Removing\", dir_name)\nos.rmdir(dir_name)\n\n# 5) Verify the directory was removed by listing the content of the current working directory\nprint(\"Current directory content:\", os.listdir())",
      "execution_count": 13,
      "outputs": [
        {
          "output_type": "stream",
          "name": "stdout",
          "text": "Joe\n['1.2 Exercise.ipynb', '3-1.5_Mod01_Practice.ipynb', '3-3.4_intro_Python.ipynb', 'Joe', '3-3.1_intro_Python.ipynb', '1.3.ipynb', '3-3.3_intro_Python.ipynb', '1.2.ipynb', 'Required_Code_Mod02.ipynb', '3-4.3_intro_Python.ipynb', '3-4.5_Mod04_Practice.ipynb', '3-4.1_intro_Python.ipynb', 'Required_Code_Mod03.ipynb', '1.1.ipynb', '3-2.4_intro_Python.ipynb', 'Required_Code_Mod01.ipynb', 'Required_Code_Mod04.ipynb', '3-2.2_intro_Python.ipynb', '3-2.5_Mod02_Practice(1).ipynb', '3-2.1_intro_Python.ipynb', '3-3.2_intro_Python.ipynb', '3-4.4_intro_Python.ipynb', '3-2.5_Mod02_Practice.ipynb', '3-4.2_intro_Python.ipynb', '3-2.3_intro_Python.ipynb', '1.4.ipynb']\n['1.2 Exercise.ipynb', '3-1.5_Mod01_Practice.ipynb', '3-3.4_intro_Python.ipynb', '3-3.1_intro_Python.ipynb', '1.3.ipynb', '3-3.3_intro_Python.ipynb', '1.2.ipynb', 'Required_Code_Mod02.ipynb', '3-4.3_intro_Python.ipynb', '3-4.5_Mod04_Practice.ipynb', '3-4.1_intro_Python.ipynb', 'Required_Code_Mod03.ipynb', '1.1.ipynb', '3-2.4_intro_Python.ipynb', 'Required_Code_Mod01.ipynb', 'Required_Code_Mod04.ipynb', '3-2.2_intro_Python.ipynb', '3-2.5_Mod02_Practice(1).ipynb', '3-2.1_intro_Python.ipynb', '3-3.2_intro_Python.ipynb', '3-4.4_intro_Python.ipynb', '3-2.5_Mod02_Practice.ipynb', '3-4.2_intro_Python.ipynb', '3-2.3_intro_Python.ipynb', '1.4.ipynb']\nEnter a directory name: Mama\nMaking Mama\nCurrent directory content: ['1.2 Exercise.ipynb', '3-1.5_Mod01_Practice.ipynb', '3-3.4_intro_Python.ipynb', '3-3.1_intro_Python.ipynb', '1.3.ipynb', '3-3.3_intro_Python.ipynb', '1.2.ipynb', 'Required_Code_Mod02.ipynb', '3-4.3_intro_Python.ipynb', '3-4.5_Mod04_Practice.ipynb', '3-4.1_intro_Python.ipynb', 'Required_Code_Mod03.ipynb', '1.1.ipynb', '3-2.4_intro_Python.ipynb', 'Required_Code_Mod01.ipynb', 'Required_Code_Mod04.ipynb', '3-2.2_intro_Python.ipynb', '3-2.5_Mod02_Practice(1).ipynb', 'Mama', '3-2.1_intro_Python.ipynb', '3-3.2_intro_Python.ipynb', '3-4.4_intro_Python.ipynb', '3-2.5_Mod02_Practice.ipynb', '3-4.2_intro_Python.ipynb', '3-2.3_intro_Python.ipynb', '1.4.ipynb']\nRemoving Mama\nCurrent directory content: ['1.2 Exercise.ipynb', '3-1.5_Mod01_Practice.ipynb', '3-3.4_intro_Python.ipynb', '3-3.1_intro_Python.ipynb', '1.3.ipynb', '3-3.3_intro_Python.ipynb', '1.2.ipynb', 'Required_Code_Mod02.ipynb', '3-4.3_intro_Python.ipynb', '3-4.5_Mod04_Practice.ipynb', '3-4.1_intro_Python.ipynb', 'Required_Code_Mod03.ipynb', '1.1.ipynb', '3-2.4_intro_Python.ipynb', 'Required_Code_Mod01.ipynb', 'Required_Code_Mod04.ipynb', '3-2.2_intro_Python.ipynb', '3-2.5_Mod02_Practice(1).ipynb', '3-2.1_intro_Python.ipynb', '3-3.2_intro_Python.ipynb', '3-4.4_intro_Python.ipynb', '3-2.5_Mod02_Practice.ipynb', '3-4.2_intro_Python.ipynb', '3-2.3_intro_Python.ipynb', '1.4.ipynb']\n"
        }
      ]
    },
    {
      "metadata": {
        "trusted": true,
        "scrolled": true
      },
      "cell_type": "code",
      "source": "# [ ] Write a program to:\n# 1) Create a directory called \"my_dir\"\n# 2) Change the current working directory to \"my_dir\"\n# 3) Verify you are in the correct directory by displaying the current working directory\n# 4) Change the working directory back to the parent directory\n# 5) Verify you are in the correct directory by displaying the current working directory\n# 6) Rename \"my_dir\" to \"your_dir\"\n# 7) Verify the directory was renamed by listing the content of the current working directory\n# 8) Remove \"your_dir\"\n# 9) Verify the directory was removed by listing the content of the current working directory\nimport os\nos.mkdir('my_dir')\nos.chdir('my_dir')\nprint(os.getcwd())\nos.chdir('..')\nprint(os.getcwd())\nos.rename('my_dir','your_dir')\nprint(os.listdir())\nos.rmdir('your_dir')\nprint(os.listdir())\n# --Completed--\nimport os\n\n# 1) Create a directory called \"my_dir\"\nprint('Making \"my_dir\"')\nos.mkdir(\"my_dir\")\n\n# 2) Change the current working directory to \"my_dir\"\nprint(\"Changing working directory\")\nos.chdir(\"my_dir\")\n\n# 3) Verify you are in the correct directory by displaying the current working directory\nprint(\"Current working directory:\", os.getcwd())\n\n# 4) Change the working directory back to the parent directory\nprint(\"Changing working directory\")\nos.chdir(\"..\")\n\n# 5) Verify you are in the correct directory by displaying the current working directory\nprint(\"Current working directory:\", os.getcwd())\n\n# 6) Rename \"my_dir\" to \"your_dir\"\nprint('Renaming \"my_dir\" to \"your_dir\"')\nos.rename(\"my_dir\", \"your_dir\")\n\n# 7) Verify the directory was renamed by listing the content of the current working directory\nprint(\"Current directory content:\", os.listdir())\n\n# 8) Remove \"your_dir\"\nprint('Remove \"your_dir\"')\nos.rmdir(\"your_dir\")\n\n# 9) Verify the directory was removed by listing the content of the current working directory\nprint(\"Current directory content:\", os.listdir())\n",
      "execution_count": 14,
      "outputs": [
        {
          "output_type": "stream",
          "text": "/home/nbuser/library/my_dir\n/home/nbuser/library\n['Python 1.2.ipynb', 'Python 1.4 Exercise.ipynb', 'Python 4.3 4.4 Exercise.ipynb', '40460_Mod04_Practice4b.ipynb', 'Python 4 Challenge.ipynb', 'Python 1.2 Variable Practice.ipynb', '40460_Mod04_Practice4a.ipynb', 'Python Lab 2.ipynb', 'Python 1.8 Exercise.ipynb', '40460_Mod03_3.4.ipynb', '40460_Mod04_4.4.ipynb', 'inner_planets.txt', 'Python Lab 1B.ipynb', 'Python 1.1.ipynb', '40460_Mod03_Practice3a.ipynb', 'Python 1.9 Exercise.ipynb', 'Python 1.5 Exercise.ipynb', 'Python Module 1 Project.ipynb', '.ipynb_checkpoints', 'Python 2.1 Exercise.ipynb', 'Python 3.1 3.2 Exercise.ipynb', '2 Unit 2', 'Python 1.9.ipynb', '40460_Mod03_3.5.ipynb', 'Python Lab 1A.ipynb', 'Python Module 2 Project.ipynb', '1TicTacToe One-Player.ipynb', '40460_Mod04_4.2.ipynb', '40460_Mod04_Project4.ipynb', 'Python 1.8.ipynb', 'Python 2.3 Exercise.ipynb', 'Print Practice.ipynb', 'Python 2.2 Exercise.ipynb', 'new_file.txt', '40460_Mod03_Project3.ipynb', '1TicTacToe AI.ipynb', 'Python 1.4.ipynb', '1TicTacToe.ipynb', 'Python 4.2 Exercise.ipynb', 'Python 1.3.ipynb', '40460_Mod03_3.1.ipynb', '1TicTacToe Zero-Player.ipynb', '40460_Mod03_3.2.ipynb', 'Python 1.6 Exercise.ipynb', '3 Unit 3', 'Python 4.1 Exercise.ipynb', 'Python 1.3 Exercise.ipynb', 'your_dir', '40460_Mod05_FinalProject.ipynb', 'Python 2.3.ipynb', 'Python 1.5.ipynb', 'Python 2.2.ipynb', '40460_Mod04_4.3.ipynb', 'Python Module 2 Lab 2.ipynb', '40460_Mod03_Practice3b.ipynb', '40460_Mod03_3.3.ipynb', '.Unit 2', 'Python 2.1.ipynb', '1TicTacToe Two-Player.ipynb', '.1 Test.ipynb', 'Python 1.7.ipynb', '40460_Mod04_4.1.ipynb', 'Python 1.6.ipynb']\n['Python 1.2.ipynb', 'Python 1.4 Exercise.ipynb', 'Python 4.3 4.4 Exercise.ipynb', '40460_Mod04_Practice4b.ipynb', 'Python 4 Challenge.ipynb', 'Python 1.2 Variable Practice.ipynb', '40460_Mod04_Practice4a.ipynb', 'Python Lab 2.ipynb', 'Python 1.8 Exercise.ipynb', '40460_Mod03_3.4.ipynb', '40460_Mod04_4.4.ipynb', 'inner_planets.txt', 'Python Lab 1B.ipynb', 'Python 1.1.ipynb', '40460_Mod03_Practice3a.ipynb', 'Python 1.9 Exercise.ipynb', 'Python 1.5 Exercise.ipynb', 'Python Module 1 Project.ipynb', '.ipynb_checkpoints', 'Python 2.1 Exercise.ipynb', 'Python 3.1 3.2 Exercise.ipynb', '2 Unit 2', 'Python 1.9.ipynb', '40460_Mod03_3.5.ipynb', 'Python Lab 1A.ipynb', 'Python Module 2 Project.ipynb', '1TicTacToe One-Player.ipynb', '40460_Mod04_4.2.ipynb', '40460_Mod04_Project4.ipynb', 'Python 1.8.ipynb', 'Python 2.3 Exercise.ipynb', 'Print Practice.ipynb', 'Python 2.2 Exercise.ipynb', 'new_file.txt', '40460_Mod03_Project3.ipynb', '1TicTacToe AI.ipynb', 'Python 1.4.ipynb', '1TicTacToe.ipynb', 'Python 4.2 Exercise.ipynb', 'Python 1.3.ipynb', '40460_Mod03_3.1.ipynb', '1TicTacToe Zero-Player.ipynb', '40460_Mod03_3.2.ipynb', 'Python 1.6 Exercise.ipynb', '3 Unit 3', 'Python 4.1 Exercise.ipynb', 'Python 1.3 Exercise.ipynb', '40460_Mod05_FinalProject.ipynb', 'Python 2.3.ipynb', 'Python 1.5.ipynb', 'Python 2.2.ipynb', '40460_Mod04_4.3.ipynb', 'Python Module 2 Lab 2.ipynb', '40460_Mod03_Practice3b.ipynb', '40460_Mod03_3.3.ipynb', '.Unit 2', 'Python 2.1.ipynb', '1TicTacToe Two-Player.ipynb', '.1 Test.ipynb', 'Python 1.7.ipynb', '40460_Mod04_4.1.ipynb', 'Python 1.6.ipynb']\nMaking \"my_dir\"\nChanging working directory\nCurrent working directory: /home/nbuser/library/my_dir\nChanging working directory\nCurrent working directory: /home/nbuser/library\nRenaming \"my_dir\" to \"your_dir\"\nCurrent directory content: ['Python 1.2.ipynb', 'Python 1.4 Exercise.ipynb', 'Python 4.3 4.4 Exercise.ipynb', '40460_Mod04_Practice4b.ipynb', 'Python 4 Challenge.ipynb', 'Python 1.2 Variable Practice.ipynb', '40460_Mod04_Practice4a.ipynb', 'Python Lab 2.ipynb', 'Python 1.8 Exercise.ipynb', '40460_Mod03_3.4.ipynb', '40460_Mod04_4.4.ipynb', 'inner_planets.txt', 'Python Lab 1B.ipynb', 'Python 1.1.ipynb', '40460_Mod03_Practice3a.ipynb', 'Python 1.9 Exercise.ipynb', 'Python 1.5 Exercise.ipynb', 'Python Module 1 Project.ipynb', '.ipynb_checkpoints', 'Python 2.1 Exercise.ipynb', 'Python 3.1 3.2 Exercise.ipynb', '2 Unit 2', 'Python 1.9.ipynb', '40460_Mod03_3.5.ipynb', 'Python Lab 1A.ipynb', 'Python Module 2 Project.ipynb', '1TicTacToe One-Player.ipynb', '40460_Mod04_4.2.ipynb', '40460_Mod04_Project4.ipynb', 'Python 1.8.ipynb', 'Python 2.3 Exercise.ipynb', 'Print Practice.ipynb', 'Python 2.2 Exercise.ipynb', 'new_file.txt', '40460_Mod03_Project3.ipynb', '1TicTacToe AI.ipynb', 'Python 1.4.ipynb', '1TicTacToe.ipynb', 'Python 4.2 Exercise.ipynb', 'Python 1.3.ipynb', '40460_Mod03_3.1.ipynb', '1TicTacToe Zero-Player.ipynb', '40460_Mod03_3.2.ipynb', 'Python 1.6 Exercise.ipynb', '3 Unit 3', 'Python 4.1 Exercise.ipynb', 'Python 1.3 Exercise.ipynb', 'your_dir', '40460_Mod05_FinalProject.ipynb', 'Python 2.3.ipynb', 'Python 1.5.ipynb', 'Python 2.2.ipynb', '40460_Mod04_4.3.ipynb', 'Python Module 2 Lab 2.ipynb', '40460_Mod03_Practice3b.ipynb', '40460_Mod03_3.3.ipynb', '.Unit 2', 'Python 2.1.ipynb', '1TicTacToe Two-Player.ipynb', '.1 Test.ipynb', 'Python 1.7.ipynb', '40460_Mod04_4.1.ipynb', 'Python 1.6.ipynb']\nRemove \"your_dir\"\nCurrent directory content: ['Python 1.2.ipynb', 'Python 1.4 Exercise.ipynb', 'Python 4.3 4.4 Exercise.ipynb', '40460_Mod04_Practice4b.ipynb', 'Python 4 Challenge.ipynb', 'Python 1.2 Variable Practice.ipynb', '40460_Mod04_Practice4a.ipynb', 'Python Lab 2.ipynb', 'Python 1.8 Exercise.ipynb', '40460_Mod03_3.4.ipynb', '40460_Mod04_4.4.ipynb', 'inner_planets.txt', 'Python Lab 1B.ipynb', 'Python 1.1.ipynb', '40460_Mod03_Practice3a.ipynb', 'Python 1.9 Exercise.ipynb', 'Python 1.5 Exercise.ipynb', 'Python Module 1 Project.ipynb', '.ipynb_checkpoints', 'Python 2.1 Exercise.ipynb', 'Python 3.1 3.2 Exercise.ipynb', '2 Unit 2', 'Python 1.9.ipynb', '40460_Mod03_3.5.ipynb', 'Python Lab 1A.ipynb', 'Python Module 2 Project.ipynb', '1TicTacToe One-Player.ipynb', '40460_Mod04_4.2.ipynb', '40460_Mod04_Project4.ipynb', 'Python 1.8.ipynb', 'Python 2.3 Exercise.ipynb', 'Print Practice.ipynb', 'Python 2.2 Exercise.ipynb', 'new_file.txt', '40460_Mod03_Project3.ipynb', '1TicTacToe AI.ipynb', 'Python 1.4.ipynb', '1TicTacToe.ipynb', 'Python 4.2 Exercise.ipynb', 'Python 1.3.ipynb', '40460_Mod03_3.1.ipynb', '1TicTacToe Zero-Player.ipynb', '40460_Mod03_3.2.ipynb', 'Python 1.6 Exercise.ipynb', '3 Unit 3', 'Python 4.1 Exercise.ipynb', 'Python 1.3 Exercise.ipynb', '40460_Mod05_FinalProject.ipynb', 'Python 2.3.ipynb', 'Python 1.5.ipynb', 'Python 2.2.ipynb', '40460_Mod04_4.3.ipynb', 'Python Module 2 Lab 2.ipynb', '40460_Mod03_Practice3b.ipynb', '40460_Mod03_3.3.ipynb', '.Unit 2', 'Python 2.1.ipynb', '1TicTacToe Two-Player.ipynb', '.1 Test.ipynb', 'Python 1.7.ipynb', '40460_Mod04_4.1.ipynb', 'Python 1.6.ipynb']\n",
          "name": "stdout"
        }
      ]
    },
    {
      "metadata": {},
      "cell_type": "markdown",
      "source": "---\n<font size=\"6\" color=\"#00A0B2\"  face=\"verdana\"> <B>Concepts</B></font>  \n\n\n## Path Operations\n[![view video](https://iajupyterprodblobs.blob.core.windows.net/imagecontainer/common/play_video.png)](http://edxinteractivepage.blob.core.windows.net/edxpages/f7cff1a7-5601-48a1-95a6-fd1fdfabd20e.html?details=[{\"src\":\"http://jupyternootbookwams.streaming.mediaservices.windows.net/a37e2766-ff8d-4588-89de-ca68296ed072/DEV330x-1_4c_path_operations.ism/manifest\",\"type\":\"application/vnd.ms-sstr+xml\"}],[{\"src\":\"http://jupyternootbookwams.streaming.mediaservices.windows.net/116a8c79-e90e-456c-abe9-eedcd5a9f44e/DEV330x-1_4c_path_operations.vtt\",\"srclang\":\"en\",\"kind\":\"subtitles\",\"label\":\"english\"}])\n\n#### Relative and absolute paths\nA file or directory has a name and a path, which is just a roadmap to its specific location in the file system. Most operating systems, support two types of paths:\n* Relative paths: path to a file or directory from a specific location (or current working directory)\n* Absolute paths: path to a file or directory from a root. In UNIX flavors, a root is \"/\"; whereas, on Windows machines a root is \"C:\\\"\n\nFor example, consider the UNIX directory structure we have been manipulating:\n\n    /\n    |\n    |__ parent_dir\n        |\n        |__  child1_dir\n        |    |\n        |    |_ leaf1.txt\n        |\n        |__ child2_dir\n        |    |\n        |    |_ leaf2.txt\n        |\n        |__ parent_leaf.txt\n        |\n        |__ text_file.txt\n    \nIf you are currently in parent_dir and trying to get to leaf1.txt, the relative path would be (child1_dir/leaf1.txt). It's a relative path because it is relative to your current location.\n\nThe absolute path to leaf1.txt is (/parent_dir/child1_dir/leaf1.txt), it starts from the root \"/\" all the way to the destination file. It's absolute because it starts from the absolute root.\n\nIn Python, you can use relative or absolute paths; however, it might be useful to convert a relative path into an absolute path using the function `os.path.abspath(path)`. The function returns a string containing the absolute path to a file or directory specified by the relative path passed as an argument.\n\n```python\nIn [1]: import os.path\nIn [2]: os.path.abspath('child1_dir/leaf1.txt')\nOut[2]: '/parent_dir/child1_dir/leaf1.txt'\n```\n\n#### Testing the existence of paths, files, and directories\nThe module `os.path` contains common pathname manipulation functions. For example, `os.path.exists(path)` tests whether `path` (relative or absolute) exists in the file system, `os.path.isfile(path)` returns `True` if `path` (relative or absolute) refers to an existing file, and `os.path.isdir(path)` returns `True` if `path` refers to an existing directory. Other functions in the module allow you to get the size of a file, split and join path names regardless of the operating system, and so on. The Python Documentation site at https://docs.python.org/3/library/os.path.html has more information on the `os.path` module.\n\nNOTE: In UNIX systems, paths are written using a forward slash (/) as separators; however, on Windows systems, paths are written using backslashes (\\\\) as separators. When joining path names, use `os.path.join` and Python will use the appropriate separator for the platform running the script.\n"
    },
    {
      "metadata": {},
      "cell_type": "markdown",
      "source": "---\n<font size=\"6\" color=\"#00A0B2\"  face=\"verdana\"> <B>Examples</B></font>\n\nIn this example, you will get the absolute path to a file and test whether the path exists and if it refers to a file or a directory."
    },
    {
      "metadata": {
        "trusted": true
      },
      "cell_type": "code",
      "source": "import os, os.path\n\n# Print the current working directory (should be \"parent_dir\")\nprint('The current working directory is:', os.getcwd())\n\n# Find the absolute path to child1_dir/leaf1.txt\nabs_path = os.path.abspath('child1_dir/leaf1.txt')\nprint(\"Absolute path to leaf1.txt is: \", abs_path)\n\n# Test whether the path exists\nif(os.path.exists(abs_path)):\n    print(\"Path exists\")\n    \n    # Test to see if it's a file or directory\n    if(os.path.isfile(abs_path)):\n       print(\"It's a file\")\n    elif (os.path.isdir(abs_path)):\n       print(\"It's a dir\")\n    \nelse:\n    print(\"Path doesn't exist\")",
      "execution_count": 15,
      "outputs": [
        {
          "output_type": "stream",
          "text": "The current working directory is: /home/nbuser/library\nAbsolute path to leaf1.txt is:  /home/nbuser/library/child1_dir/leaf1.txt\nPath doesn't exist\n",
          "name": "stdout"
        }
      ]
    },
    {
      "metadata": {},
      "cell_type": "markdown",
      "source": "---\n<font size=\"6\" color=\"#B24C00\"  face=\"verdana\"> <B>Task 2</B></font>\n\n## Path Operations\n"
    },
    {
      "metadata": {
        "trusted": true
      },
      "cell_type": "code",
      "source": "# [ ] Write a program that prompts the user for a file or directory name \n# then prints a message verifying if it exists in the current working directory\nimport os.path\nif os.path.exists(input()):\n    print('It exists')\nelse:\n    print('It doesn\\' exist')\n# --Completed--\nimport os.path\n\nname = input(\"Enter a file or directory name: \")\n\nif (os.path.exists(name)):\n    print(\"The file or directory exists in the current working directory\")\nelse:\n    print(\"The file or directory does NOT exist in the current working directory\")",
      "execution_count": 16,
      "outputs": [
        {
          "output_type": "stream",
          "name": "stdout",
          "text": "my_dir\nIt doesn' exist\nEnter a file or directory name: Python 1.2.ipynb\nThe file or directory exists in the current working directory\n"
        }
      ]
    },
    {
      "metadata": {
        "trusted": true
      },
      "cell_type": "code",
      "source": "# [ ] Write a program to print the absolute path of all directories in \"parent_dir\"\n# HINTS:\n# 1) Verify you are inside \"parent_dir\" using os.getcwd()\n# 2) Use os.listdir() to get a list of files and directories in \"parent_dir\"\n# 3) Iterate over the elements of the list and print the absolute paths of all the directories\nimport os, os.path\nfor x in os.listdir():\n    if os.path.isdir(x):\n        print(os.path.abspath(x))\n# --Completed--\nimport os, os.path\n\n# 1) Verify you are inside \"parent_dir\" using os.getcwd()\n# Print the current working directory (should be \"parent_dir\")\nprint('The current working directory is:', os.getcwd())\n\n# 2) Use os.listdir() to get a list of files and directories in \"parent_dir\"\nfiles_dir_lst = os.listdir()\n\n# 3) Iterate over the elements of the list and print the absolute paths of all the directories\nfor element in files_dir_lst:\n    if(os.path.isdir(element)):\n        print(os.path.abspath(element))",
      "execution_count": 22,
      "outputs": [
        {
          "output_type": "stream",
          "text": "/home/nbuser/library/.ipynb_checkpoints\n/home/nbuser/library/2 Unit 2\n/home/nbuser/library/3 Unit 3\n/home/nbuser/library/.Unit 2\nThe current working directory is: /home/nbuser/library\n/home/nbuser/library/.ipynb_checkpoints\n/home/nbuser/library/2 Unit 2\n/home/nbuser/library/3 Unit 3\n/home/nbuser/library/.Unit 2\n",
          "name": "stdout"
        }
      ]
    }
  ],
  "metadata": {
    "kernelspec": {
      "name": "python3",
      "display_name": "Python 3",
      "language": "python"
    },
    "language_info": {
      "mimetype": "text/x-python",
      "nbconvert_exporter": "python",
      "name": "python",
      "pygments_lexer": "ipython3",
      "version": "3.5.4",
      "file_extension": ".py",
      "codemirror_mode": {
        "version": 3,
        "name": "ipython"
      }
    }
  },
  "nbformat": 4,
  "nbformat_minor": 2
}