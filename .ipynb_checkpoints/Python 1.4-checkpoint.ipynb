{
  "cells": [
    {
      "metadata": {
        "slideshow": {
          "slide_type": "slide"
        }
      },
      "cell_type": "markdown",
      "source": "# Section 1.4\n##  Addition and Errors\n- Python 3 in Jupyter notebooks\n- `print()`\n- Comments  \n- Data types basics\n- Variables  \n- **Addition with Strings and Integers**\n- **Errors**  \n- Character art  \n\n-----\n\n### Student will be able to\n- Use Python 3 in Jupyter notebooks\n- Write working code using `print()` and `#` comments  \n- Write working code using `type()` and variables\n- Combine Strings using string addition (+)\n- **Add numbers in code (+)**  \n- **Troubleshoot errors**  \n- Create character art"
    },
    {
      "metadata": {},
      "cell_type": "markdown",
      "source": "## Concept: Addition of Numbers and Strings  \n\n[![view video](https://iajupyterprodblobs.blob.core.windows.net/imagecontainer/common/play_video.png)]( http://edxinteractivepage.blob.core.windows.net/edxpages/f7cff1a7-5601-48a1-95a6-fd1fdfabd20e.html?details=[{\"src\":\"http://jupyternootbookwams.streaming.mediaservices.windows.net/a8befa5f-b4a5-4081-87c0-8846be85c719/Unit1_Section1.4-Addition.ism/manifest\",\"type\":\"application/vnd.ms-sstr+xml\"}],[{\"src\":\"http://jupyternootbookwams.streaming.mediaservices.windows.net/a8befa5f-b4a5-4081-87c0-8846be85c719/Unit1_Section1.4-Addition.vtt\",\"srclang\":\"en\",\"kind\":\"subtitles\",\"label\":\"english\"}])\n\n### Numeric addition\n**Numeric addition:** Single line *math equations*, run in a code cell, will output a sum. \n```Python\n# Adding a pair of single digit Integers\n3 + 5  \n```  \n### String addition\n**String addition:** Single line *equations*, run in a code cell, will output a single concatenated string.  \n> **Tip:** all strings must be in quotes  \n    \n```Python\n# Adding a pair of strings\n\"I wear \" + \"a hat\"  \n```  \nWe can also **add variables** as long as we add strings to strings and numbers to numbers."
    },
    {
      "metadata": {},
      "cell_type": "markdown",
      "source": "### Examples: String and Number Addition"
    },
    {
      "metadata": {
        "trusted": true
      },
      "cell_type": "code",
      "source": "# [ ] Review and run code for adding a pair of 2 digit Integers\n23 + 18",
      "execution_count": 1,
      "outputs": [
        {
          "output_type": "execute_result",
          "execution_count": 1,
          "data": {
            "text/plain": "41"
          },
          "metadata": {}
        }
      ]
    },
    {
      "metadata": {
        "trusted": true
      },
      "cell_type": "code",
      "source": "# [ ] Review and run code for adding 2 strings\n\"my name is \" + \"Alyssa\"  ",
      "execution_count": 2,
      "outputs": [
        {
          "output_type": "execute_result",
          "execution_count": 2,
          "data": {
            "text/plain": "'my name is Alyssa'"
          },
          "metadata": {}
        }
      ]
    },
    {
      "metadata": {
        "trusted": true
      },
      "cell_type": "code",
      "source": "# [ ] Review and run code for adding a variable string and a literal string\nshoe_color = \"brown\"\n\"my shoe color is \" + shoe_color",
      "execution_count": 3,
      "outputs": [
        {
          "output_type": "execute_result",
          "execution_count": 3,
          "data": {
            "text/plain": "'my shoe color is brown'"
          },
          "metadata": {}
        }
      ]
    },
    {
      "metadata": {},
      "cell_type": "markdown",
      "source": "## Task 1 (multi-part): String and Number Addition"
    },
    {
      "metadata": {
        "trusted": true
      },
      "cell_type": "code",
      "source": "# [ ] add 3 integer numbers\n1 + 2 + 123456789",
      "execution_count": 4,
      "outputs": [
        {
          "output_type": "execute_result",
          "execution_count": 4,
          "data": {
            "text/plain": "123456792"
          },
          "metadata": {}
        }
      ]
    },
    {
      "metadata": {
        "trusted": true
      },
      "cell_type": "code",
      "source": "# [ ] add a float number and an integer number\n1.23 + 123",
      "execution_count": 5,
      "outputs": [
        {
          "output_type": "execute_result",
          "execution_count": 5,
          "data": {
            "text/plain": "124.23"
          },
          "metadata": {}
        }
      ]
    },
    {
      "metadata": {
        "trusted": true
      },
      "cell_type": "code",
      "source": "# [ ] Add the string \"This notebook belongs to \" and a string with your first name\n\"This notebook belongs to \" + \"Nathan.\"",
      "execution_count": 6,
      "outputs": [
        {
          "output_type": "execute_result",
          "execution_count": 6,
          "data": {
            "text/plain": "'This notebook belongs to Nathan.'"
          },
          "metadata": {}
        }
      ]
    },
    {
      "metadata": {
        "trusted": true
      },
      "cell_type": "code",
      "source": "# [ ] Create variables sm_number and big_number and assign numbers then add the numbers\nsm_number = 0.054\nbig_number = 908070605040302010\nsm_number + big_number",
      "execution_count": 7,
      "outputs": [
        {
          "output_type": "execute_result",
          "execution_count": 7,
          "data": {
            "text/plain": "9.08070605040302e+17"
          },
          "metadata": {}
        }
      ]
    },
    {
      "metadata": {
        "trusted": true
      },
      "cell_type": "code",
      "source": "# [ ] assign a string value to the variable first_name and add to the string \", remember to save the notebook frequently\"\nfirst_name = \"Timothy\"\nfirst_name + \", remember to save the notebook frequently\"",
      "execution_count": 8,
      "outputs": [
        {
          "output_type": "execute_result",
          "execution_count": 8,
          "data": {
            "text/plain": "'Timothy, remember to save the notebook frequently'"
          },
          "metadata": {}
        }
      ]
    },
    {
      "metadata": {},
      "cell_type": "markdown",
      "source": "## Concept: Use Addition in Variable Assignments  \nIt is common to store the results of addition in a variable.  \n\n[![view video](https://iajupyterprodblobs.blob.core.windows.net/imagecontainer/common/play_video.png)]( http://edxinteractivepage.blob.core.windows.net/edxpages/f7cff1a7-5601-48a1-95a6-fd1fdfabd20e.html?details=[{\"src\":\"http://jupyternootbookwams.streaming.mediaservices.windows.net/48aefdf7-8f2f-4080-97e9-c25477f71248/Unit1_Section1.4-Assignment.ism/manifest\",\"type\":\"application/vnd.ms-sstr+xml\"}],[{\"src\":\"http://jupyternootbookwams.streaming.mediaservices.windows.net/48aefdf7-8f2f-4080-97e9-c25477f71248/Unit1_Section1.4-Assignment.vtt\",\"srclang\":\"en\",\"kind\":\"subtitles\",\"label\":\"english\"}])\n\n### Use addition in `print ()`   \nUse **`print()`** to show the results of multiple lines of output.  \n "
    },
    {
      "metadata": {},
      "cell_type": "markdown",
      "source": "### Examples: Addition in variable assignments and in `print()`"
    },
    {
      "metadata": {
        "trusted": true
      },
      "cell_type": "code",
      "source": "# [ ] review & run code for assigning variables & using addition\nadd_two = 34 + 16\nfirst_name = \"Alton\"\ngreeting = \"Happy Birthday \" + first_name\n\nprint(add_two)\nprint(greeting)",
      "execution_count": 9,
      "outputs": [
        {
          "output_type": "stream",
          "text": "50\nHappy Birthday Alton\n",
          "name": "stdout"
        }
      ]
    },
    {
      "metadata": {
        "trusted": true
      },
      "cell_type": "code",
      "source": "#  [ ] review & run code for Integer addition in variables and in a print function\nint_sum = 6 + 7\nprint(int_sum)\nprint(11 + 15)\nprint()",
      "execution_count": 10,
      "outputs": [
        {
          "output_type": "stream",
          "text": "13\n26\n\n",
          "name": "stdout"
        }
      ]
    },
    {
      "metadata": {
        "trusted": true
      },
      "cell_type": "code",
      "source": "# string addition in variables and in print()function\nhat_msg = \"I do not wear \" + \"a hat\"  \nprint(hat_msg)\nprint(\"at \" + \"dinner\")",
      "execution_count": 11,
      "outputs": [
        {
          "output_type": "stream",
          "text": "I do not wear a hat\nat dinner\n",
          "name": "stdout"
        }
      ]
    },
    {
      "metadata": {},
      "cell_type": "markdown",
      "source": "## Task 2 (multi-part): Create integer addition and string addition output"
    },
    {
      "metadata": {
        "trusted": true
      },
      "cell_type": "code",
      "source": "# [ ] perform string addition in the variable named new_msg (add a string to \"my favorite food is \")\nnew_msg = \"My favorite food is\" + \" edible subtance\"\nprint(new_msg)\n\n",
      "execution_count": 14,
      "outputs": [
        {
          "output_type": "stream",
          "text": "My favorite food is edible subtance\n",
          "name": "stdout"
        }
      ]
    },
    {
      "metadata": {
        "trusted": true
      },
      "cell_type": "code",
      "source": "# [ ] perform Integer addition in the variable named new_msg (add 2 or more Integers)\nnew_sum =   0 + 1 + 1\nprint(new_sum)\n\n\n",
      "execution_count": 15,
      "outputs": [
        {
          "output_type": "stream",
          "text": "2\n",
          "name": "stdout"
        }
      ]
    },
    {
      "metadata": {
        "trusted": true
      },
      "cell_type": "code",
      "source": "# [ ] create and print a new string variable, new_msg_2, that concatenates new_msg + a literal string\nnew_msg_2 = new_msg + \"literal string\"\nprint(new_msg_2)",
      "execution_count": null,
      "outputs": []
    },
    {
      "metadata": {},
      "cell_type": "markdown",
      "source": "## Concept: Errors!\nEncountering and troubleshooting errors are fundamental parts of computer programming.\n\n[![view video](https://iajupyterprodblobs.blob.core.windows.net/imagecontainer/common/play_video.png)]( http://edxinteractivepage.blob.core.windows.net/edxpages/f7cff1a7-5601-48a1-95a6-fd1fdfabd20e.html?details=[{\"src\":\"http://jupyternootbookwams.streaming.mediaservices.windows.net/7ab2739a-95e6-4399-9b84-19ac5698bbea/Unit1_Section1.4-TypeError.ism/manifest\",\"type\":\"application/vnd.ms-sstr+xml\"}],[{\"src\":\"http://jupyternootbookwams.streaming.mediaservices.windows.net/7ab2739a-95e6-4399-9b84-19ac5698bbea/Unit1_Section1.4-TypeError.vtt\",\"srclang\":\"en\",\"kind\":\"subtitles\",\"label\":\"english\"}])"
    },
    {
      "metadata": {},
      "cell_type": "markdown",
      "source": "### Examples"
    },
    {
      "metadata": {
        "trusted": false
      },
      "cell_type": "code",
      "source": "# [ ] Review & run code\nprint(\"my number is \" + \"123\") #string, represents a text character\nprint(\"my number is \" + 123) #number, with numeric value ",
      "execution_count": null,
      "outputs": []
    },
    {
      "metadata": {},
      "cell_type": "markdown",
      "source": "#### TypeError\nThe line&nbsp; **`print(\"my number is \" + 123)`** causes the **`TypeError`** message to appear.  \n>`TypeError: Can't convert 'int' object to str implicitly`  \n\nWhen adding to the string&nbsp; `\"my number is \"`&nbsp; the compiler is experiencing another string, but finds a number ***`123`**.  \n\nPython cannot convert the Integer &nbsp; `123`&nbsp; to a string without explicit instruction (in code). \n  \nIn other words, Python only allows combining *like types*.\n- **`str`** + **`str`**\n- **`int`** + **`int`**\n"
    },
    {
      "metadata": {},
      "cell_type": "markdown",
      "source": "\n## Task 3: Fix `TypeError` \n- Review the code in the cells below and then run the code\n- Fix any errors and run until the code no longer shows errors"
    },
    {
      "metadata": {
        "trusted": true
      },
      "cell_type": "code",
      "source": "# [ ] Review and run the code - then fix any Errors\ntotal_cost = 3 + 45\nprint(total_cost)",
      "execution_count": 2,
      "outputs": [
        {
          "output_type": "stream",
          "text": "48\n",
          "name": "stdout"
        }
      ]
    },
    {
      "metadata": {
        "trusted": true
      },
      "cell_type": "code",
      "source": "# [ ] Review and run the code - then fix any Errors\nschool_num = \"123\"\nprint(\"the street number of Central School is \" + school_num)\n\n",
      "execution_count": 4,
      "outputs": [
        {
          "output_type": "stream",
          "text": "the street number of Central School is 123\n",
          "name": "stdout"
        }
      ]
    },
    {
      "metadata": {
        "trusted": true
      },
      "cell_type": "code",
      "source": "# [ ] Read and run the code - write a hypothesis for what you observe adding float + int\n#  [ ] HYPOTHESIS: It will return float, int, 6.3\n\nprint(type(3.3))\nprint(type(3))\nprint(3.3 + 3)\n\n",
      "execution_count": 5,
      "outputs": [
        {
          "output_type": "stream",
          "text": "<class 'float'>\n<class 'int'>\n6.3\n",
          "name": "stdout"
        }
      ]
    },
    {
      "metadata": {},
      "cell_type": "markdown",
      "source": "## Concept: More Errors\n### SyntaxError & NameError\n- **SyntaxError** - breaks code formatting rules of Python\n- **NameError** - object is not defined (can't be found)  \n\nPython has a specific grammar that it follows that is referred to as **syntax**.  \nThe print function syntax rules for output of a single string include: \n- Parentheses **` ( ) `** containing a **string** follow **`print`** (SyntaxError)\n- Strings have **matching quotation marks** (SyntaxError)\n- `print` is lowercase and correctly spelled (NameError)\n\nFailure to follow any of these rules results in a `SyntaxError` or `NameError` when the code is run.  "
    },
    {
      "metadata": {},
      "cell_type": "markdown",
      "source": "## SyntaxError\n[![view video](https://iajupyterprodblobs.blob.core.windows.net/imagecontainer/common/play_video.png)]( http://edxinteractivepage.blob.core.windows.net/edxpages/f7cff1a7-5601-48a1-95a6-fd1fdfabd20e.html?details=[{\"src\":\"http://jupyternootbookwams.streaming.mediaservices.windows.net/1a1cd6c0-793f-4bcb-a0a0-c9f95a302142/Unit1_Section1.4-SyntaxNameErrors.ism/manifest\",\"type\":\"application/vnd.ms-sstr+xml\"}],[{\"src\":\"http://jupyternootbookwams.streaming.mediaservices.windows.net/1a1cd6c0-793f-4bcb-a0a0-c9f95a302142/Unit1_Section1.4-SyntaxNameErrors.vtt\",\"srclang\":\"en\",\"kind\":\"subtitles\",\"label\":\"english\"}])\n- Improperly formatted string (quotes don't match) that results in a SyntaxError"
    },
    {
      "metadata": {},
      "cell_type": "markdown",
      "source": "### Examples"
    },
    {
      "metadata": {
        "trusted": true
      },
      "cell_type": "code",
      "source": "# [ ] Review and run the code for properly and improperly formatted print statement\nprint(\"Hi!\")\n## improper format - non matching quotes\nprint('I like the morning\") ",
      "execution_count": 6,
      "outputs": [
        {
          "output_type": "error",
          "ename": "SyntaxError",
          "evalue": "EOL while scanning string literal (<ipython-input-6-67bb83017854>, line 4)",
          "traceback": [
            "\u001b[0;36m  File \u001b[0;32m\"<ipython-input-6-67bb83017854>\"\u001b[0;36m, line \u001b[0;32m4\u001b[0m\n\u001b[0;31m    print('I like the morning\")\u001b[0m\n\u001b[0m                                ^\u001b[0m\n\u001b[0;31mSyntaxError\u001b[0m\u001b[0;31m:\u001b[0m EOL while scanning string literal\n"
          ]
        }
      ]
    },
    {
      "metadata": {},
      "cell_type": "markdown",
      "source": "- Note the misspelling below, \"`prin`\", results in a NameError"
    },
    {
      "metadata": {
        "trusted": true
      },
      "cell_type": "code",
      "source": "# [ ] Review and run the code \nprin('hi')",
      "execution_count": 7,
      "outputs": [
        {
          "output_type": "error",
          "ename": "NameError",
          "evalue": "name 'prin' is not defined",
          "traceback": [
            "\u001b[0;31m---------------------------------------------------------------------------\u001b[0m",
            "\u001b[0;31mNameError\u001b[0m                                 Traceback (most recent call last)",
            "\u001b[0;32m<ipython-input-7-0955db8a8994>\u001b[0m in \u001b[0;36m<module>\u001b[0;34m()\u001b[0m\n\u001b[1;32m      1\u001b[0m \u001b[0;31m# [ ] Review and run the code\u001b[0m\u001b[0;34m\u001b[0m\u001b[0;34m\u001b[0m\u001b[0m\n\u001b[0;32m----> 2\u001b[0;31m \u001b[0mprin\u001b[0m\u001b[0;34m(\u001b[0m\u001b[0;34m'hi'\u001b[0m\u001b[0;34m)\u001b[0m\u001b[0;34m\u001b[0m\u001b[0m\n\u001b[0m",
            "\u001b[0;31mNameError\u001b[0m: name 'prin' is not defined"
          ]
        }
      ]
    },
    {
      "metadata": {},
      "cell_type": "markdown",
      "source": "- EOF = \"end of file\" found in code below\n- Python went to the end of the file looking for, but not finding, a closing parenthesis "
    },
    {
      "metadata": {
        "trusted": true
      },
      "cell_type": "code",
      "source": "# [ ] Review and run the code missing the closing parenthesis  \nprint(\"where are my socks?\" ",
      "execution_count": 8,
      "outputs": [
        {
          "output_type": "error",
          "ename": "SyntaxError",
          "evalue": "unexpected EOF while parsing (<ipython-input-8-3e3f87b1f2a9>, line 2)",
          "traceback": [
            "\u001b[0;36m  File \u001b[0;32m\"<ipython-input-8-3e3f87b1f2a9>\"\u001b[0;36m, line \u001b[0;32m2\u001b[0m\n\u001b[0;31m    print(\"where are my socks?\"\u001b[0m\n\u001b[0m                                ^\u001b[0m\n\u001b[0;31mSyntaxError\u001b[0m\u001b[0;31m:\u001b[0m unexpected EOF while parsing\n"
          ]
        }
      ]
    },
    {
      "metadata": {},
      "cell_type": "markdown",
      "source": "- In the code below: a parenthesis inside quotations will be seen a part of a string and not as a parenthesis"
    },
    {
      "metadata": {
        "trusted": true
      },
      "cell_type": "code",
      "source": "# { ] Review and run the code \nprint(\"my socks are in the wrong bin)\" ",
      "execution_count": 9,
      "outputs": [
        {
          "output_type": "error",
          "ename": "SyntaxError",
          "evalue": "unexpected EOF while parsing (<ipython-input-9-1108f24d8b60>, line 2)",
          "traceback": [
            "\u001b[0;36m  File \u001b[0;32m\"<ipython-input-9-1108f24d8b60>\"\u001b[0;36m, line \u001b[0;32m2\u001b[0m\n\u001b[0;31m    print(\"my socks are in the wrong bin)\"\u001b[0m\n\u001b[0m                                           ^\u001b[0m\n\u001b[0;31mSyntaxError\u001b[0m\u001b[0;31m:\u001b[0m unexpected EOF while parsing\n"
          ]
        }
      ]
    },
    {
      "metadata": {},
      "cell_type": "markdown",
      "source": "## Task 4: Fix Errors"
    },
    {
      "metadata": {},
      "cell_type": "markdown",
      "source": ">**Tip**: explaining errors to a partner often reveals a solution (works even if explaining error to a pencil). "
    },
    {
      "metadata": {
        "trusted": false
      },
      "cell_type": "code",
      "source": "# [ ] Repair the syntax error \nprint(\"my socks do not match\") ",
      "execution_count": null,
      "outputs": []
    },
    {
      "metadata": {
        "trusted": false
      },
      "cell_type": "code",
      "source": "# [ ] Repair the NameError  \nprint(\"my socks match now\") ",
      "execution_count": null,
      "outputs": []
    },
    {
      "metadata": {
        "trusted": false
      },
      "cell_type": "code",
      "source": "# [ ] Repair the syntax error \nprint(\"Save the notebook frequently\")",
      "execution_count": null,
      "outputs": []
    },
    {
      "metadata": {
        "trusted": false
      },
      "cell_type": "code",
      "source": "# [ ] Repair the NameError \nstudent_name = \"Alton\"\nprint(student_name)",
      "execution_count": null,
      "outputs": []
    },
    {
      "metadata": {
        "trusted": true
      },
      "cell_type": "code",
      "source": "# [ ] Repair the TypeError\ntotal = \"3\"\nprint(total + \" students are signed up for tutoring\")",
      "execution_count": 11,
      "outputs": [
        {
          "output_type": "stream",
          "text": "3 students are signed up for tutoring\n",
          "name": "stdout"
        }
      ]
    },
    {
      "metadata": {},
      "cell_type": "markdown",
      "source": "A parenthesis inside quotations will be seen a part of a string and not as a parenthesis."
    },
    {
      "metadata": {},
      "cell_type": "markdown",
      "source": "[Terms of use](http://go.microsoft.com/fwlink/?LinkID=206977) &nbsp; [Privacy & cookies](https://go.microsoft.com/fwlink/?LinkId=521839) &nbsp; © 2017 Microsoft"
    }
  ],
  "metadata": {
    "anaconda-cloud": {},
    "kernelspec": {
      "name": "python3",
      "display_name": "Python 3",
      "language": "python"
    },
    "language_info": {
      "mimetype": "text/x-python",
      "nbconvert_exporter": "python",
      "name": "python",
      "pygments_lexer": "ipython3",
      "version": "3.5.4",
      "file_extension": ".py",
      "codemirror_mode": {
        "version": 3,
        "name": "ipython"
      }
    }
  },
  "nbformat": 4,
  "nbformat_minor": 1
}