{
  "cells": [
    {
      "metadata": {
        "trusted": true
      },
      "cell_type": "code",
      "source": "name = input(\"What is your name? \")\nage = input(\"What is your age? \")\nrest = input(\"What is your favorite restaurant? \")\nprint(\"Your name is\",name+\", you are\",age,\"years old and your favorite restaurant is\",rest + \".\")",
      "execution_count": 1,
      "outputs": [
        {
          "output_type": "stream",
          "name": "stdout",
          "text": "What is your name? Nathan\nWhat is your age? 15\nWhat is your favorite restaurant? Five Guys\nYour name is Nathan, you are 15 years old and your favorite restaurant is Five Guys.\n"
        }
      ]
    }
  ],
  "metadata": {
    "kernelspec": {
      "name": "python36",
      "display_name": "Python 3.6",
      "language": "python"
    },
    "language_info": {
      "mimetype": "text/x-python",
      "nbconvert_exporter": "python",
      "name": "python",
      "pygments_lexer": "ipython3",
      "version": "3.6.6",
      "file_extension": ".py",
      "codemirror_mode": {
        "version": 3,
        "name": "ipython"
      }
    }
  },
  "nbformat": 4,
  "nbformat_minor": 2
}