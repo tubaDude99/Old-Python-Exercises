{
  "cells": [
    {
      "metadata": {
        "trusted": true
      },
      "cell_type": "code",
      "source": "menu = \"Hamburger, Jambalaya, Gumbo, Alfredo, Ribs\"\nprint(\"hamburger\".lower() in menu.lower())\nprint(\"Jambalaya\".lower() in menu.lower())\nprint(\"gumbo\".lower() in menu.lower())\nprint(\"Alfredo\".lower() in menu.lower())\nprint(\"RIBS\".lower() in menu.lower())\nprint()\nmenu = [\"hamburger\", \"jaMBAlaya\", \"guMBo\", \"aLFrEdo\", \"ribs\"]\nprint(menu[0].capitalize())\nprint(menu[1].lower())\nprint(menu[2].upper())\nprint(menu[3].swapcase())\nprint(menu[4].title())",
      "execution_count": 11,
      "outputs": [
        {
          "output_type": "stream",
          "text": "True\nTrue\nTrue\nTrue\nTrue\n\nHamburger\njambalaya\nGUMBO\nAlfReDO\nRibs\n",
          "name": "stdout"
        }
      ]
    }
  ],
  "metadata": {
    "kernelspec": {
      "name": "python36",
      "display_name": "Python 3.6",
      "language": "python"
    },
    "language_info": {
      "mimetype": "text/x-python",
      "nbconvert_exporter": "python",
      "name": "python",
      "pygments_lexer": "ipython3",
      "version": "3.6.6",
      "file_extension": ".py",
      "codemirror_mode": {
        "version": 3,
        "name": "ipython"
      }
    }
  },
  "nbformat": 4,
  "nbformat_minor": 2
}