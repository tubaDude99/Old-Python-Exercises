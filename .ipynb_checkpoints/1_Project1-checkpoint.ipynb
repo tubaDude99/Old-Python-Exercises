{
  "cells": [
    {
      "metadata": {},
      "cell_type": "markdown",
      "source": "\n#  Module 1 Project  \n\nCourse 40461: Introduction to Python, Unit 2\n\nThis is an activity based on the Module 1 Lab, which you may have already completed.\n\n| Important Assignment Requirements |  \n|:-------------------------------|  \n|  **NOTE:** This program **requires** **`print`** output and using code syntax used in Module 1 such as keywords **`for`**/**`in`** (iteration), **`input`**, **`if`**, **`else`**, **`.isalpha()`** method, **`.lower()`** or **`.upper()`** method. |  \n\n\n## Program: Words after \"G\"/\"g\"\nCreate a program that inputs a phrase (like a famous quotation) and prints all of the words that start with h-z.\n\nSample input:  \n`Enter a 1 sentence quote, non-alpha separate words:` **`Wheresoever you go, go with all your heart`**  \n\nSample output:\n```\nWHERESOEVER\nYOU\nWITH\nYOUR\nHEART\n```  \n![words_after_g flowchart](https://ofl1zq-ch3302.files.1drv.com/y4msZuRt9FLMg2HrIVri9ozb5zM0Z9cwrgFg0OanRG3wThbKGRTjxf6vEmvDgiQzAthvLq4KDpiOfd5S74i-vsCDYha-Ea5B1d4MJD5tx6obEpFj3Slks3bCFbjltvV_BYQ8mlbmyoAhujPM6nHRbOxNeO2Lb6dvmW0EbS-D3QXR7lRb-whNWwquwwzO4znPMmQ4Jkf4ujqTlSpjGuaKzwTSQ?width=608&height=371&cropmode=none) \n\n- Split the words by building a placeholder variable: **`word`**  \n  - Loop each character in the input string  \n  - Check if character is a letter  \n  - Add a letter to **`word`** each loop until a non-alpha char is encountered  \n\n- **if** character is alpha \n  - Add character to **`word`**    \n  - Non-alpha detected (space, punctuation, digit,...) defines the end of a word and goes to **`else`**    \n- **`else`**  \n  - Check **`if`** word is greater than \"g\" alphabetically\n      - Print word \n      - Set word = empty string\n  - or **else** \n    - Set word = empty string and build the next word  \n\nHint: use `.lower()`.\n\nConsider how you will print the last word if it ends with a non-alpha character such as a space or punctuation.\n\n"
    },
    {
      "metadata": {
        "trusted": true
      },
      "cell_type": "code",
      "source": "# [] create words after \"G\" following the Assignment requirements use of functions, menhods and kwyowrds\n# sample quote \"Wheresoever you go, go with all your heart\" ~ Confucius (551 BC - 479 BC)\nquote = input(\"Quote: \")\nword = \"\"\nfor l in quote:\n    if l.isalpha():\n        word += l\n    else:\n        if word.lower() > \"g\":\n            print(word)\n        word = \"\"\nprint(word)",
      "execution_count": 1,
      "outputs": [
        {
          "output_type": "stream",
          "name": "stdout",
          "text": "Quote: Wheresoever you go, go with all your heart\nWheresoever\nyou\ngo\ngo\nwith\nyour\nheart\n"
        }
      ]
    },
    {
      "metadata": {},
      "cell_type": "markdown",
      "source": "[Terms of use](http://go.microsoft.com/fwlink/?LinkID=206977) &nbsp; [Privacy & cookies](https://go.microsoft.com/fwlink/?LinkId=521839) &nbsp; © 2017 Microsoft"
    }
  ],
  "metadata": {
    "anaconda-cloud": {},
    "kernelspec": {
      "name": "python3",
      "display_name": "Python 3",
      "language": "python"
    },
    "language_info": {
      "mimetype": "text/x-python",
      "nbconvert_exporter": "python",
      "name": "python",
      "pygments_lexer": "ipython3",
      "version": "3.5.4",
      "file_extension": ".py",
      "codemirror_mode": {
        "version": 3,
        "name": "ipython"
      }
    }
  },
  "nbformat": 4,
  "nbformat_minor": 1
}