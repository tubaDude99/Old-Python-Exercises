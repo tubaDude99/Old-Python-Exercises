{
  "cells": [
    {
      "metadata": {
        "collapsed": true
      },
      "cell_type": "markdown",
      "source": "#  Module 3 Project  \nCourse 40460: Introduction to Python, Unit 1 \n\nThe activity is based on Modules 1 - 3 and is similar to the Jupyter Notebook for Module 3 practice, which you may have completed.\n\n> **NOTE:** This program requires the use of **`if, elif, else`**, and casting between strings and numbers. The program should use the various code syntax covered in Module 3.  \n>  \n>The program must result in print output using numeric input similar to that shown in the sample below.\n\n## Program: Cheese Order    \n\n- Set values for maximum and minimum order variables  \n- Set value for price variable\n- Get order_amount input and cast to a number  \n- Check order_amount and give message checking against  \n  - over maximum\n  - under minimum\n- Else within maximum and minimum give message with calculated price \n\n\nSample input and output:\n```\nEnter cheese order weight (numeric value): 113\n113.0 is more than currently available stock\n```\n\n```\nEnter cheese order weight (numeric value): .15\n0.15 is below minimum order amount\n```  \n\n```\nEnter cheese order weight (numeric value): 2\n2.0 costs $15.98\n```  "
    },
    {
      "metadata": {
        "trusted": true
      },
      "cell_type": "code",
      "source": "# [ ] create, call and test Cheese Order\nmaxOrder = 30.0\nminOrder = 0.5\nprice = 4.68\ni = 0\nwhile i == 0:\n    order = float(input(\"How many pounds of cheese do you want to order? \"))\n    if order > maxOrder:\n        print(str(order) + \" lbs. is more than currently available stock\")\n    elif order < minOrder:\n        print(str(order) + \" lbs. is below the minimum order amount\")\n    else:\n        i = 1\n        print(str(order) + \" lbs. costs \" + str(order * price))",
      "execution_count": 2,
      "outputs": [
        {
          "output_type": "stream",
          "name": "stdout",
          "text": "How many pounds of cheese do you want to order? 32\n32.0 lbs. is more than currently available stock\nHow many pounds of cheese do you want to order? 0.25\n0.25 lbs. is below minimum order amount\nHow many pounds of cheese do you want to order? 5\n5.0 lbs. costs 23.4\n"
        }
      ]
    },
    {
      "metadata": {},
      "cell_type": "markdown",
      "source": "[Terms of use](http://go.microsoft.com/fwlink/?LinkID=206977) &nbsp; [Privacy & cookies](https://go.microsoft.com/fwlink/?LinkId=521839) &nbsp; © 2017 Microsoft"
    }
  ],
  "metadata": {
    "anaconda-cloud": {},
    "kernelspec": {
      "name": "python3",
      "display_name": "Python 3",
      "language": "python"
    },
    "language_info": {
      "mimetype": "text/x-python",
      "nbconvert_exporter": "python",
      "name": "python",
      "pygments_lexer": "ipython3",
      "version": "3.5.4",
      "file_extension": ".py",
      "codemirror_mode": {
        "version": 3,
        "name": "ipython"
      }
    }
  },
  "nbformat": 4,
  "nbformat_minor": 1
}