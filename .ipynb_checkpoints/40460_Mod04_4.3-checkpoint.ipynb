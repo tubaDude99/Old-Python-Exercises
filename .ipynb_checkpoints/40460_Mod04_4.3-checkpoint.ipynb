{
  "cells": [
    {
      "metadata": {},
      "cell_type": "markdown",
      "source": "# Section 4.3\n## `while()` Loops and Incrementing\n- **while `True`  or forever loops**\n- **Incrementing in loops**\n- Boolean operators in while loops\n\n-----\n\n### Student will be able to\n- **Create forever loops using `while` and `break`**\n- **Use incrementing variables in a while loop**\n- Control while loops using Boolean operators"
    },
    {
      "metadata": {},
      "cell_type": "markdown",
      "source": "## Concept: `while True:` Loop\n### Using the 'while True:' loop\n[![view video](https://iajupyterprodblobs.blob.core.windows.net/imagecontainer/common/play_video.png)]( http://edxinteractivepage.blob.core.windows.net/edxpages/f7cff1a7-5601-48a1-95a6-fd1fdfabd20e.html?details=[{\"src\":\"http://jupyternootbookwams.streaming.mediaservices.windows.net/f43862cd-7cdc-45a3-adb1-a07dcbd9ae16/Unit1_Section7.1-while-forever.ism/manifest\",\"type\":\"application/vnd.ms-sstr+xml\"}],[{\"src\":\"http://jupyternootbookwams.streaming.mediaservices.windows.net/f43862cd-7cdc-45a3-adb1-a07dcbd9ae16/Unit1_Section7.1-while-forever.vtt\",\"srclang\":\"en\",\"kind\":\"subtitles\",\"label\":\"english\"}])\n**`while True:`** is known as the **forever loop** because it ...loops forever  \n\nUsing the **`while True:`** statement results in a loop that continues to run forever   \n...or, until the loop is interrupted, such as with a **`break`** statement.  \n\n## `break`\n### in a `while` loop, causes code flow to exit the loop  \na **conditional** can implement **`break`** to exit a **`while True`** loop  "
    },
    {
      "metadata": {},
      "cell_type": "markdown",
      "source": "### Examples\n#### `while True` loops forever unless a `break` statement is used  "
    },
    {
      "metadata": {
        "trusted": true
      },
      "cell_type": "code",
      "source": "# Review and run code\n# this example never loops because the break has no conditions\nwhile True:\n    print('write forever, unless there is a \"break\"')\n    break",
      "execution_count": 1,
      "outputs": [
        {
          "output_type": "stream",
          "text": "write forever, unless there is a \"break\"\n",
          "name": "stdout"
        }
      ]
    },
    {
      "metadata": {
        "trusted": true
      },
      "cell_type": "code",
      "source": "# [ ] review the NUMBER GUESS code then run - Q. what cause the break statement to run?\nnumber_guess = \"0\"\nsecret_number = \"5\"\n\nwhile True:\n    number_guess = input(\"guess the number 1 to 5: \")\n    if number_guess == secret_number:\n        print(\"Yes\", number_guess,\"is correct!\\n\")\n        break\n    else:\n        print(number_guess,\"is incorrect\\n\")",
      "execution_count": 1,
      "outputs": [
        {
          "output_type": "stream",
          "name": "stdout",
          "text": "guess the number 1 to 5: 4\n4 is incorrect\n\nguess the number 1 to 5: 3\n3 is incorrect\n\nguess the number 1 to 5: 2\n2 is incorrect\n\nguess the number 1 to 5: \n is incorrect\n\nguess the number 1 to 5: 1\n1 is incorrect\n\nguess the number 1 to 5: 5\nYes 5 is correct!\n\n"
        }
      ]
    },
    {
      "metadata": {
        "trusted": true
      },
      "cell_type": "code",
      "source": "# [ ] review WHAT TO WEAR code then run testing different inputs\nwhile True:\n    weather = input(\"Enter weather (sunny, rainy, snowy, or quit): \") \n    print()\n\n    if weather.lower() == \"sunny\":\n        print(\"Wear a t-shirt and sunscreen\")\n        break\n    elif weather.lower() == \"rainy\":\n        print(\"Bring an umbrella and boots\")\n        break\n    elif weather.lower() == \"snowy\":\n        print(\"Wear a warm coat and hat\")\n        break\n    elif weather.lower().startswith(\"q\"):\n        print('\"quit\" detected, exiting')\n        break\n    else:\n        print(\"Sorry, not sure what to suggest for\", weather +\"\\n\")",
      "execution_count": 1,
      "outputs": [
        {
          "output_type": "stream",
          "name": "stdout",
          "text": "Enter weather (sunny, rainy, snowy, or quit): none\n\nSorry, not sure what to suggest for none\n\nEnter weather (sunny, rainy, snowy, or quit): sleet\n\nSorry, not sure what to suggest for sleet\n\nEnter weather (sunny, rainy, snowy, or quit): rain\n\nSorry, not sure what to suggest for rain\n\nEnter weather (sunny, rainy, snowy, or quit): rainy\n\nBring an umbrella and boots\n"
        }
      ]
    },
    {
      "metadata": {},
      "cell_type": "markdown",
      "source": "## Task 1: `while True` \n### [ ] Program: Get a name forever ...or until done\n- create variable, familar_name, and assign it an empty string (**`\"\"`**)\n- use **`while True:`**\n- ask for user input for familar_name (common name friends/family use) \n- keep asking until given a non-blank/non-space alphabetical name is received (Hint: Boolean string test)\n- break loop and print a greeting using familar_name"
    },
    {
      "metadata": {
        "trusted": true
      },
      "cell_type": "code",
      "source": "# [ ] create Get Name program\nname = \"\"\nwhile True:\n    name = input(\"What do your friends call you? \")\n    if name.isalpha() and name != \" \":\n        break\nprint(\"Hello \" + name)",
      "execution_count": 3,
      "outputs": [
        {
          "output_type": "stream",
          "name": "stdout",
          "text": "What do your friends call you?  \nWhat do your friends call you?  \nWhat do your friends call you? \nWhat do your friends call you? \nWhat do your friends call you? \nWhat do your friends call you? \nWhat do your friends call you? \nWhat do your friends call you? \nWhat do your friends call you? \nWhat do your friends call you? \nWhat do your friends call you? \nWhat do your friends call you? \nWhat do your friends call you? Tim\nHello Tim\n"
        }
      ]
    },
    {
      "metadata": {
        "collapsed": true
      },
      "cell_type": "markdown",
      "source": "## Concept: Variable Increment\n### Incrementing a variable\n[![view video](https://iajupyterprodblobs.blob.core.windows.net/imagecontainer/common/play_video.png)]( http://edxinteractivepage.blob.core.windows.net/edxpages/f7cff1a7-5601-48a1-95a6-fd1fdfabd20e.html?details=[{\"src\":\"http://jupyternootbookwams.streaming.mediaservices.windows.net/188da429-ec3b-4302-8a9b-be513a073bb5/Unit1_Section7.1-increment.ism/manifest\",\"type\":\"application/vnd.ms-sstr+xml\"}],[{\"src\":\"http://jupyternootbookwams.streaming.mediaservices.windows.net/188da429-ec3b-4302-8a9b-be513a073bb5/Unit1_Section7.1-increment.vtt\",\"srclang\":\"en\",\"kind\":\"subtitles\",\"label\":\"english\"}])\n### Incrementing\n#### `votes = votes + 1` &nbsp; &nbsp; or &nbsp;  `votes += 1`\n\n### Decrementing \n#### `votes = votes - 1` &nbsp; &nbsp; or &nbsp; `votes -= 1`"
    },
    {
      "metadata": {},
      "cell_type": "markdown",
      "source": "### Examples\n  \n"
    },
    {
      "metadata": {
        "trusted": true
      },
      "cell_type": "code",
      "source": "# [ ] review and run example\nvotes = 3\nprint(votes)\n\nvotes = votes + 1\nprint(votes)\n\nvotes += 2\nprint(votes)",
      "execution_count": 4,
      "outputs": [
        {
          "output_type": "stream",
          "text": "3\n4\n6\n",
          "name": "stdout"
        }
      ]
    },
    {
      "metadata": {
        "trusted": true
      },
      "cell_type": "code",
      "source": "print(votes)\n\nvotes -= 1\nprint(votes)",
      "execution_count": 5,
      "outputs": [
        {
          "output_type": "stream",
          "text": "6\n5\n",
          "name": "stdout"
        }
      ]
    },
    {
      "metadata": {
        "trusted": true
      },
      "cell_type": "code",
      "source": "# [ ] review the SEAT COUNT code then run \n\nseat_count = 0\nwhile True:\n    print(\"seat count:\",seat_count)\n    seat_count = seat_count + 1\n\n    if seat_count > 4:\n        break",
      "execution_count": 6,
      "outputs": [
        {
          "output_type": "stream",
          "text": "seat count: 0\nseat count: 1\nseat count: 2\nseat count: 3\nseat count: 4\n",
          "name": "stdout"
        }
      ]
    },
    {
      "metadata": {
        "trusted": true
      },
      "cell_type": "code",
      "source": "# [ ] review the SEAT TYPE COUNT code then run entering: hard, soft, medium and exit\n\n# initialize variables\nseat_count = 0\nsoft_seats = 0\nhard_seats = 0\nnum_seats = 4\n\n# loops tallying seats using soft pads vs hard, until seats full or user \"exits\"\nwhile True:\n    seat_type = input('enter seat type of \"hard\",\"soft\" or \"exit\" (to finish): ')\n    \n    if seat_type.lower().startswith(\"e\"):\n        print()\n        break\n    elif seat_type.lower() == \"hard\":\n        hard_seats += 1\n    elif seat_type.lower() == \"soft\":\n        soft_seats += 1\n    else:\n        print(\"invalid entry: counted as hard\")\n        hard_seats += 1  \n    seat_count += 1\n    if seat_count >= num_seats:\n        print(\"\\nseats are full\")\n        break\n        \nprint(seat_count,\"Seats Total: \",hard_seats,\"hard and\",soft_seats,\"soft\" )",
      "execution_count": 7,
      "outputs": [
        {
          "output_type": "stream",
          "name": "stdout",
          "text": "enter seat type of \"hard\",\"soft\" or \"exit\" (to finish): hard\nenter seat type of \"hard\",\"soft\" or \"exit\" (to finish): soft\nenter seat type of \"hard\",\"soft\" or \"exit\" (to finish): medium\ninvalid entry: counted as hard\nenter seat type of \"hard\",\"soft\" or \"exit\" (to finish): exit\n\n3 Seats Total:  2 hard and 1 soft\n"
        }
      ]
    },
    {
      "metadata": {},
      "cell_type": "markdown",
      "source": "## Task 2: Incrementing in a `while()` loop\n### Program: Shirt Count\n- Enter a sizes (S, M, L)\n- Tally the count of each size\n- Input \"exit\" when finished\n- Report out the purchase of each shirt size  \n"
    },
    {
      "metadata": {
        "trusted": true
      },
      "cell_type": "code",
      "source": "# [ ] Create the Shirt Count program, run tests\nshirt = \"\"\ns = 0\nm = 0\nl = 0\nwhile shirt != \"exit\":\n    if s == 0 and m == 0 and l == 0:\n        shirt = input(\"What's the first shirt? \").lower()\n    else:\n        shirt = input(\"What's the next shirt? \").lower()\n    if shirt == \"s\":\n        s += 1\n    if shirt == \"m\":\n        m += 1\n    if shirt == \"l\":\n        l += 1\nprint(\"You have %i small shirts, %i medium shirts, and %i large shirts\" %(s,m,l))",
      "execution_count": 9,
      "outputs": [
        {
          "output_type": "stream",
          "name": "stdout",
          "text": "What's the first shirt? s\nWhat's the next shirt? s\nWhat's the next shirt? s\nWhat's the next shirt? s\nWhat's the next shirt? s\nWhat's the next shirt? s\nWhat's the next shirt? s\nWhat's the next shirt? s\nWhat's the next shirt? m\nWhat's the next shirt? m\nWhat's the next shirt? l\nWhat's the next shirt? s\nWhat's the next shirt? l\nWhat's the next shirt? m\nWhat's the next shirt? m\nWhat's the next shirt? s\nWhat's the next shirt? s\nWhat's the next shirt? s\nWhat's the next shirt? s\nWhat's the next shirt? s\nWhat's the next shirt? s\nWhat's the next shirt? s\nWhat's the next shirt? exit\nYou have 16 small shirts, 4 medium shirts, and 2 large shirts\n"
        }
      ]
    },
    {
      "metadata": {},
      "cell_type": "markdown",
      "source": "### Challenge: Shirt Register\nUpdate the **Shirt Count** program to calculate cost\n- Use shirt cost (S = 6, M = 7, L = 8)\n- To calculate and report the subtotal cost for each size \n- To calculate and report the total cost of all shirts"
    },
    {
      "metadata": {
        "trusted": true
      },
      "cell_type": "code",
      "source": "# [ ] Create the Shirt Register program, run tests\nshirt = \"\"\ns = 0\nm = 0\nl = 0\nwhile shirt != \"exit\":\n    if s == 0 and m == 0 and l == 0:\n        shirt = input(\"What's the first shirt? \").lower()\n    else:\n        shirt = input(\"What's the next shirt? \").lower()\n    if shirt == \"s\":\n        s += 1\n    if shirt == \"m\":\n        m += 1\n    if shirt == \"l\":\n        l += 1\nprint(\"You have %i small shirts, %i medium shirts, and %i large shirts\" %(s,m,l))\nprint(\"That will be $%.2f for small shirts, $%.2f for medium shirts, and $%.2f for large shirts.\" %(float(6*s),float(7*m),float(8*l)))\nprint(\"Your total will be $%.2f.\" %float(6*s + 7*m + 8*l))",
      "execution_count": 10,
      "outputs": [
        {
          "output_type": "stream",
          "name": "stdout",
          "text": "What's the first shirt? s\nWhat's the next shirt? s\nWhat's the next shirt? s\nWhat's the next shirt? s\nWhat's the next shirt? s\nWhat's the next shirt? l\nWhat's the next shirt? l\nWhat's the next shirt? l\nWhat's the next shirt? m\nWhat's the next shirt? l\nWhat's the next shirt? m\nWhat's the next shirt? m\nWhat's the next shirt? s\nWhat's the next shirt? exit\nYou have 6 small shirts, 3 medium shirts, and 4 large shirts\nThat will be $36.00 for small shirts, $21.00 for medium shirts, and $32.00 for large shirts.\nYour total will be $89.00.\n"
        }
      ]
    },
    {
      "metadata": {},
      "cell_type": "markdown",
      "source": "[Terms of use](http://go.microsoft.com/fwlink/?LinkID=206977) &nbsp; [Privacy & cookies](https://go.microsoft.com/fwlink/?LinkId=521839) &nbsp; © 2017 Microsoft"
    }
  ],
  "metadata": {
    "anaconda-cloud": {},
    "kernelspec": {
      "name": "python3",
      "display_name": "Python 3",
      "language": "python"
    },
    "language_info": {
      "mimetype": "text/x-python",
      "nbconvert_exporter": "python",
      "name": "python",
      "pygments_lexer": "ipython3",
      "version": "3.5.4",
      "file_extension": ".py",
      "codemirror_mode": {
        "version": 3,
        "name": "ipython"
      }
    }
  },
  "nbformat": 4,
  "nbformat_minor": 1
}