{
  "cells": [
    {
      "metadata": {
        "trusted": true
      },
      "cell_type": "code",
      "source": "def movTimes():\n    a = input(\"What movie? \") + \",\", input(\"What times? \")\n    b = input(\"What movie? \") + \",\", input(\"What times? \")\n    c = input(\"What movie? \") + \",\", input(\"What times? \")    \n    print(a)\n    print(b)\n    print(c)\nmovTimes()",
      "execution_count": 3,
      "outputs": [
        {
          "output_type": "stream",
          "name": "stdout",
          "text": "What movie? The Goldfinch\nWhat times? 12:00, 3:15, 6:30\nWhat movie? Angel has Fallen\nWhat times? 12:15, 3:15, 9:15\nWhat movie? Rambo: Last Blood\nWhat times? 7:00, 7:30, 9:25\n('The Goldfinch,', '12:00, 3:15, 6:30')\n('Angel has Fallen,', '12:15, 3:15, 9:15')\n('Rambo: Last Blood,', '7:00, 7:30, 9:25')\n"
        }
      ]
    },
    {
      "metadata": {
        "trusted": true
      },
      "cell_type": "code",
      "source": "def stuff(name,place,job):\n    print(name + \",\", place + \",\", job)\nstuff(\"Nathan\", \"Boston\", \"engineer.\")",
      "execution_count": 6,
      "outputs": [
        {
          "output_type": "stream",
          "text": "Nathan, Boston, engineer.\n",
          "name": "stdout"
        }
      ]
    }
  ],
  "metadata": {
    "kernelspec": {
      "name": "python36",
      "display_name": "Python 3.6",
      "language": "python"
    },
    "language_info": {
      "mimetype": "text/x-python",
      "nbconvert_exporter": "python",
      "name": "python",
      "pygments_lexer": "ipython3",
      "version": "3.6.6",
      "file_extension": ".py",
      "codemirror_mode": {
        "version": 3,
        "name": "ipython"
      }
    }
  },
  "nbformat": 4,
  "nbformat_minor": 2
}