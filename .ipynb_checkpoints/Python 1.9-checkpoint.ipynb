{
  "cells": [
    {
      "metadata": {
        "collapsed": true
      },
      "cell_type": "markdown",
      "source": "# Section 1.9\n## String Formatting and the 'in' Keyword\n- input() - gathering user input  \n- print() formatting   \n- Quotes inside strings \n- Boolean string tests methods   \n- **String formatting methods**  \n- **Formatting string input()**  \n- **Boolean `in` keyword**  \n\n-----\n\n### Student will be able to\n- Gather, store and use string `input()`  \n- Format `print()` output  \n- Test string characteristics  \n- **Format string output**  \n- **Search for a string in a string**  "
    },
    {
      "metadata": {
        "collapsed": true
      },
      "cell_type": "markdown",
      "source": "## Concept: String Formatting Methods\n[![view video](https://iajupyterprodblobs.blob.core.windows.net/imagecontainer/common/play_video.png)]( http://edxinteractivepage.blob.core.windows.net/edxpages/f7cff1a7-5601-48a1-95a6-fd1fdfabd20e.html?details=[{\"src\":\"http://jupyternootbookwams.streaming.mediaservices.windows.net/693e416c-ab73-4387-a0d2-5a47668ae4de/Unit1_Section2-4-String-Format_Methods.ism/manifest\",\"type\":\"application/vnd.ms-sstr+xml\"}],[{\"src\":\"http://jupyternootbookwams.streaming.mediaservices.windows.net/693e416c-ab73-4387-a0d2-5a47668ae4de/Unit1_Section2-4-String-Format_Methods.vtt\",\"srclang\":\"en\",\"kind\":\"subtitles\",\"label\":\"english\"}])\nThe following methods are applied to string objects:\n- **.capitalize()** - capitalizes the first character of a string\n- **.lower()** - all characters of a string are made lowercase\n- **.upper()** - all characters of a string are made uppercase\n- **.swapcase()** - all characters of a string are made to switch case upper becomes lower and vice versa  \n- **.title()** - each 'word' separated by a space is capitalized"
    },
    {
      "metadata": {},
      "cell_type": "markdown",
      "source": "### Examples"
    },
    {
      "metadata": {
        "trusted": false
      },
      "cell_type": "code",
      "source": "print(\"ms. Browning is in her office.\".capitalize())",
      "execution_count": null,
      "outputs": []
    },
    {
      "metadata": {
        "trusted": true
      },
      "cell_type": "code",
      "source": "fav_color = \"green\"\nprint(fav_color.capitalize(), fav_color, fav_color,\"and\", fav_color.upper()+\"!\")",
      "execution_count": 1,
      "outputs": [
        {
          "output_type": "stream",
          "text": "Green green green and GREEN!\n",
          "name": "stdout"
        }
      ]
    },
    {
      "metadata": {},
      "cell_type": "markdown",
      "source": "## Task 1 (multi-part)\n- [ ] Format with `.capitalize(), .lower(), .upper(), .swapcase()`\n> **Note:** Use **print()**"
    },
    {
      "metadata": {
        "trusted": true
      },
      "cell_type": "code",
      "source": "# [ ] get input for a variable, fav_food, that describes a favorite food\nfav_food = input(\"What is favorite food?\")\n# [ ] display fav_food as ALL CAPS, used in a sentence\nprint(fav_food.upper(),\"is a food.\")\n# [ ] dispaly fav_food as all lower case, used in a sentence\nprint(fav_food.lower(),\"is a food.\")\n# [] display fav_food with swapped case, used in a sentence\nprint(fav_food.swapcase(),\"is a food.\")\n# [] display fav_food with capitalization, used in a sentence\nprint(fav_food.capitalize(),\"is not a food.\")",
      "execution_count": 4,
      "outputs": [
        {
          "output_type": "stream",
          "name": "stdout",
          "text": "What is favorite food?ediBle sUbstAncE\nEDIBLE SUBSTANCE is a food.\nedible substance is a food.\nEDIbLE SuBSTaNCe is a food.\nEdible substance is not a food.\n"
        }
      ]
    },
    {
      "metadata": {
        "trusted": true
      },
      "cell_type": "code",
      "source": "fav_color = \"Forest Green\"\n# [] display the fav_color variable as upper, lower, swapcase, and capitalize formatting in a single print() statement\nprint(fav_color.upper(),fav_color.lower(),fav_color.swapcase(),fav_color.capitalize())",
      "execution_count": 5,
      "outputs": [
        {
          "output_type": "stream",
          "text": "FOREST GREEN forest green fOREST gREEN Forest green\n",
          "name": "stdout"
        }
      ]
    },
    {
      "metadata": {
        "collapsed": true
      },
      "cell_type": "markdown",
      "source": "## Concept: Formatting String Input()\n[![view video](https://iajupyterprodblobs.blob.core.windows.net/imagecontainer/common/play_video.png)]( http://edxinteractivepage.blob.core.windows.net/edxpages/f7cff1a7-5601-48a1-95a6-fd1fdfabd20e.html?details=[{\"src\":\"http://jupyternootbookwams.streaming.mediaservices.windows.net/460107d8-5d62-432e-924b-a3c779b2e5c5/Unit1_Section2-4-Input-String_Formatting.ism/manifest\",\"type\":\"application/vnd.ms-sstr+xml\"}],[{\"src\":\"http://jupyternootbookwams.streaming.mediaservices.windows.net/460107d8-5d62-432e-924b-a3c779b2e5c5/Unit1_Section2-4-Input-String_Formatting.vtt\",\"srclang\":\"en\",\"kind\":\"subtitles\",\"label\":\"english\"}])\nWhen storing input, sometimes a specific format is needed and formatting is applied to the **`input()`** function.\n> **Note:** this technique overwrites the original user input in the variable with the formatted value "
    },
    {
      "metadata": {
        "collapsed": true
      },
      "cell_type": "markdown",
      "source": "### Example"
    },
    {
      "metadata": {
        "trusted": false
      },
      "cell_type": "code",
      "source": "# review and run code - test a capitalized color input\nfav_color = input('What is your favorite color?: ').lower()\nprint(fav_color)",
      "execution_count": null,
      "outputs": []
    },
    {
      "metadata": {},
      "cell_type": "markdown",
      "source": "## Task 2  \n### [ ] format &nbsp; ` input()` with ` .upper()`"
    },
    {
      "metadata": {
        "trusted": true
      },
      "cell_type": "code",
      "source": "# [] input variable fav_color as upper\nfav_color = input(\"What is fav color?\").upper()\n# [] print fav_color\nprint(fav_color)",
      "execution_count": 6,
      "outputs": [
        {
          "output_type": "stream",
          "name": "stdout",
          "text": "What is fav color?Geen\nGEEN\n"
        }
      ]
    },
    {
      "metadata": {
        "collapsed": true
      },
      "cell_type": "markdown",
      "source": "## Concept: Boolean `in` Keyword \n[![view video](https://iajupyterprodblobs.blob.core.windows.net/imagecontainer/common/play_video.png)]( http://edxinteractivepage.blob.core.windows.net/edxpages/f7cff1a7-5601-48a1-95a6-fd1fdfabd20e.html?details=[{\"src\":\"http://jupyternootbookwams.streaming.mediaservices.windows.net/ef7e8587-8ce6-48a4-9a2f-fb0a09db287f/Unit1_Section2-4-Boolean-in.ism/manifest\",\"type\":\"application/vnd.ms-sstr+xml\"}],[{\"src\":\"http://jupyternootbookwams.streaming.mediaservices.windows.net/ef7e8587-8ce6-48a4-9a2f-fb0a09db287f/Unit1_Section2-4-Boolean-in.vtt\",\"srclang\":\"en\",\"kind\":\"subtitles\",\"label\":\"english\"}])\nThe **`in`** keyword can be used as a simple search returning **`True`** or **`False`** indication if a string is included in a target sequence.  \n### Comparing strings is case sensitive\n`'Hello'` is not the same as `'hello'`  "
    },
    {
      "metadata": {},
      "cell_type": "markdown",
      "source": "### Examples"
    },
    {
      "metadata": {
        "scrolled": true,
        "trusted": true
      },
      "cell_type": "code",
      "source": "# review and run code to test if a string is to be found in another string\nmenu = \"salad, pasta, sandwich, pizza, drinks, dessert\"\nprint('pizza' in menu)",
      "execution_count": 8,
      "outputs": [
        {
          "output_type": "stream",
          "text": "True\n",
          "name": "stdout"
        }
      ]
    },
    {
      "metadata": {
        "trusted": true
      },
      "cell_type": "code",
      "source": "# review and run code to test case sensitive examples \ngreeting = \"Hello World!\"\nprint(\"'hello' in greeting = \",'hello' in greeting)\nprint(\"'Hello' in greeting = \", 'Hello' in greeting)",
      "execution_count": 9,
      "outputs": [
        {
          "output_type": "stream",
          "text": "'hello' in greeting =  False\n'Hello' in greeting =  True\n",
          "name": "stdout"
        }
      ]
    },
    {
      "metadata": {},
      "cell_type": "markdown",
      "source": "Example below: **Remove case sensitivity from a string comparison**"
    },
    {
      "metadata": {
        "trusted": true
      },
      "cell_type": "code",
      "source": "# review and run code to test removing case sensitivity from a string comparison\ngreeting = \"Hello World!\"\nprint(\"'hello' in greeting = \",'hello' in greeting)\nprint(\"'Hello' in greeting = \", 'Hello' in greeting)\nprint(\"'hello' in greeting if lower used = \", 'hello'.lower() in greeting.lower())",
      "execution_count": 7,
      "outputs": [
        {
          "output_type": "stream",
          "text": "'hello' in greeting =  False\n'Hello' in greeting =  True\n'hello' in greeting if lower used =  True\n",
          "name": "stdout"
        }
      ]
    },
    {
      "metadata": {},
      "cell_type": "markdown",
      "source": "## Task 3: multi-part\n**[ ] Add code below** testing the **`menu`** string variable for `'pizza'`, `'soup'`, and `'dessert'` using keyword **`in`**\n- Print each test on a separate line\n- Print a description for each test (e.g. - \"`Pizza in menu = True`\")"
    },
    {
      "metadata": {
        "trusted": true
      },
      "cell_type": "code",
      "source": "# [] print 3 tests, with description text, testing the menu variable for 'pizza', 'soup' and 'dessert'\nmenu = \"salad, pasta, sandwich, pizza, drinks, dessert\"\nprint(\"Pizza in menu =\",\"pizza\" in menu)\nprint(\"Soup in menu =\",\"soup\" in menu)\nprint(\"Dessert in menu =\",\"dessert\" in menu)\n",
      "execution_count": 11,
      "outputs": [
        {
          "output_type": "stream",
          "text": "Pizza in menu = True\nSoup in menu = False\nDessert in menu = True\n",
          "name": "stdout"
        }
      ]
    },
    {
      "metadata": {},
      "cell_type": "markdown",
      "source": "## Program: What is on the menu?\n### [ ] Create a program where a user can check if an item is on the menu\n- store the user response in a variable menu_ask\n- use the menu from above and add some additional items\n- the program should be able to ignore case mismatch so that \"hello\" is found in \"Hello World!\""
    },
    {
      "metadata": {
        "trusted": true
      },
      "cell_type": "code",
      "source": "# Create a program where the user supplies input to search the menu\nmenu = \"salad, pasta, sandwich, pizza, drinks, dessert, edible substance, soup, food\".lower()\nmenu_ask = input(\"What do you want?\").lower()\nif menu_ask in menu:\n    print(\"That is on our menu.\")\nelse:\n    print(\"Sorry, that is not on our menu.\")",
      "execution_count": 12,
      "outputs": [
        {
          "output_type": "stream",
          "name": "stdout",
          "text": "What do you want?eDiBlE sUbStAnCe\nThat is on our menu.\n"
        }
      ]
    },
    {
      "metadata": {},
      "cell_type": "markdown",
      "source": "### [ ] Challenge: Add to the menu\n- print the current menu\n- get user input for add_item variable\n- new_menu use string addition to add add_item to menu\n- print the new_menu\ntesting\n- add a cell below add menu\n- check if an item is on the menu, check for previous items and the item you added"
    },
    {
      "metadata": {
        "trusted": true
      },
      "cell_type": "code",
      "source": "# add to menu\nprint(\"Our menu contains:\", menu + \".\")\nnewItem = input(\"What would you like to add? \").lower()\nmenu = menu + \", \" + newItem\nprint(\"Our menu contains:\", menu + \".\")",
      "execution_count": 3,
      "outputs": [
        {
          "output_type": "stream",
          "text": "Our menu contains: salad, pasta, sandwich, pizza, drinks, dessert, edible substance, soup, food, rice.\nWhat would you like to add? beans\nOur menu contains: salad, pasta, sandwich, pizza, drinks, dessert, edible substance, soup, food, rice, beans.\n",
          "name": "stdout"
        }
      ]
    },
    {
      "metadata": {
        "trusted": true
      },
      "cell_type": "code",
      "source": "# Testing Add to Menu - create user input to search for an item on the new menu\nmenu_ask = \" \"\nwhile menu_ask != \"end\":\n    menu_ask = input(\"What do you want? \").lower()\n    if menu_ask in menu:\n        print(\"That is on our menu.\")\n    else:\n        print(\"Sorry, that is not on our menu.\")",
      "execution_count": 7,
      "outputs": [
        {
          "output_type": "stream",
          "name": "stdout",
          "text": "What do you want? rice\nThat is on our menu.\nWhat do you want? beans\nThat is on our menu.\nWhat do you want? bean\nThat is on our menu.\nWhat do you want? food\nThat is on our menu.\nWhat do you want? Food\nThat is on our menu.\nWhat do you want? RiCe\nThat is on our menu.\nWhat do you want? en\nSorry, that is not on our menu.\nWhat do you want? end\nSorry, that is not on our menu.\n"
        }
      ]
    },
    {
      "metadata": {},
      "cell_type": "markdown",
      "source": "## Task 4: Fix the error"
    },
    {
      "metadata": {
        "trusted": true
      },
      "cell_type": "code",
      "source": "# [ ] fix the error\npaint_colors = \"red, blue, green, black, orange, pink\"\nprint('Red in paint colors = ', \"red\" in paint_colors)\n\n",
      "execution_count": 9,
      "outputs": [
        {
          "output_type": "stream",
          "text": "Red in paint colors =  True\n",
          "name": "stdout"
        }
      ]
    },
    {
      "metadata": {
        "collapsed": true
      },
      "cell_type": "markdown",
      "source": "[Terms of use](http://go.microsoft.com/fwlink/?LinkID=206977) &nbsp; [Privacy & cookies](https://go.microsoft.com/fwlink/?LinkId=521839) &nbsp; © 2017 Microsoft"
    }
  ],
  "metadata": {
    "anaconda-cloud": {},
    "kernelspec": {
      "name": "python3",
      "display_name": "Python 3",
      "language": "python"
    }
  },
  "nbformat": 4,
  "nbformat_minor": 1
}