{
  "cells": [
    {
      "metadata": {},
      "cell_type": "markdown",
      "source": "# Section 4.2\n## Nested Conditionals\n- Nested conditionals  \n- **Print formatting with the (\\) escape sequence** \n\n-----\n\n### Student will be able to\n- Create nested conditional logic in code  \n- **Print format print using escape sequence (\\)**"
    },
    {
      "metadata": {
        "collapsed": true
      },
      "cell_type": "markdown",
      "source": "## Concept: Formatting with Escape Sequences\n[![view video](https://iajupyterprodblobs.blob.core.windows.net/imagecontainer/common/play_video.png)]( http://edxinteractivepage.blob.core.windows.net/edxpages/f7cff1a7-5601-48a1-95a6-fd1fdfabd20e.html?details=[{\"src\":\"http://jupyternootbookwams.streaming.mediaservices.windows.net/b64e53fd-eb3b-4383-8b5f-4da51fc881c5/Unit1_Section6.2-Escape-Sequences.ism/manifest\",\"type\":\"application/vnd.ms-sstr+xml\"}],[{\"src\":\"http://jupyternootbookwams.streaming.mediaservices.windows.net/b64e53fd-eb3b-4383-8b5f-4da51fc881c5/Unit1_Section6.2-Escape-Sequences.vtt\",\"srclang\":\"en\",\"kind\":\"subtitles\",\"label\":\"english\"}])\n### Escape Sequences\n- Escape sequences all start with a backslash (**`\\`**) \n- Escape sequences can be used to display characters in Python reserved for formatting\n  - **`\\\\`** &nbsp; Backslash (**`\\`**)  \n  - **`\\'`** &nbsp; Single quote (**'**)  \n  - **`\\\"`** &nbsp; Double quote (**\"**)  \n\n\n- Escape sequences are part of special formatting charcters\\n    Linefeed \n  - **`\\t`** &nbsp; Tab\n  - **`\\n`** &nbsp; return or newline\n\nWe use escape sequences in strings - usually with `print()` statements. "
    },
    {
      "metadata": {},
      "cell_type": "markdown",
      "source": "### Examples"
    },
    {
      "metadata": {
        "trusted": true
      },
      "cell_type": "code",
      "source": "# review and run example using \\n (new line)\nprint('Hello World!\\nI am formatting print ')",
      "execution_count": 1,
      "outputs": [
        {
          "output_type": "stream",
          "text": "Hello World!\nI am formatting print \n",
          "name": "stdout"
        }
      ]
    },
    {
      "metadata": {
        "trusted": true
      },
      "cell_type": "code",
      "source": "# review and run code using \\t (tab)\nstudent_age = 17\nstudent_name = \"Hiroto Yamaguchi\"\nprint(\"STUDENT NAME\\t\\tAGE\")\nprint(student_name,'\\t' + str(student_age))",
      "execution_count": 2,
      "outputs": [
        {
          "output_type": "stream",
          "text": "STUDENT NAME\t\tAGE\nHiroto Yamaguchi \t17\n",
          "name": "stdout"
        }
      ]
    },
    {
      "metadata": {
        "trusted": true
      },
      "cell_type": "code",
      "source": "# review and run code \n# using \\\" and \\' (escaped quotes)\nprint(\"\\\"quotes in quotes\\\"\")\nprint(\"I\\'ve said \\\"save your notebook,\\\" so let\\'s do it!\")\n\n# using  \\\\ (escaped backslash)\nprint(\"for a newline use \\\\n\")",
      "execution_count": 3,
      "outputs": [
        {
          "output_type": "stream",
          "text": "\"quotes in quotes\"\nI've said \"save your notebook,\" so let's do it!\nfor a newline use \\n\n",
          "name": "stdout"
        }
      ]
    },
    {
      "metadata": {},
      "cell_type": "markdown",
      "source": "## Task 1: Format using backslash (**`\\`**) escape sequences"
    },
    {
      "metadata": {
        "trusted": true
      },
      "cell_type": "code",
      "source": "# [ ] print \"\\\\\\WARNING!///\"\nprint(\"\\\\\\\\\\\\WARNING!///\")",
      "execution_count": 4,
      "outputs": [
        {
          "output_type": "stream",
          "text": "\\\\\\WARNING!///\n",
          "name": "stdout"
        }
      ]
    },
    {
      "metadata": {
        "trusted": true
      },
      "cell_type": "code",
      "source": "# [ ] print output that is exactly (with quotes): \"What's that?\" isn't a specific question.\nprint(\"\\\"What's that?\\\" isn't a specific question.\")",
      "execution_count": 5,
      "outputs": [
        {
          "output_type": "stream",
          "text": "\"What's that?\" isn't a specific question.\n",
          "name": "stdout"
        }
      ]
    },
    {
      "metadata": {
        "trusted": true
      },
      "cell_type": "code",
      "source": "# [ ] from 1 print statement output the text commented below using no spaces\n# One     Two     Three\n# Four    Five    Six\nprint(\"One\\tTwo\\tThree\\nFour\\tFive\\tSix\")",
      "execution_count": 7,
      "outputs": [
        {
          "output_type": "stream",
          "text": "One\tTwo\tThree\nFour\tFive\tSix\n",
          "name": "stdout"
        }
      ]
    },
    {
      "metadata": {},
      "cell_type": "markdown",
      "source": "## Task 2: Program: `pre_word()` function\nFunction has a single string parameter that it checks is a single word starting with \"pre\".\n- Check if word starts with \"pre\"\n- Check if word .isalpha() \n- If all checks pass: return **`True`**\n- If any checks fail: return **`False`**\n- **Test** \n  - Get input using the directions: *enter a word that starts with \"pre\": *\n  - Call pre_word() with the input string\n  - Test **if** return value is **`False`** and print message explaining not a \"pre\" word \n  - **else** print message explaining is a valid \"pre\" word"
    },
    {
      "metadata": {
        "trusted": true
      },
      "cell_type": "code",
      "source": "# [ ] create and test pre_word()\ndef preWord(word):\n    if word.lower().startswith(\"pre\"):\n        if word.isalpha():\n            return(True)\n        else:\n            return(False)\n    else:\n        return(False)\nif not(preWord(input())):\n    print(\"That is not a \\\"pre\\\" word\")\nelse:\n    print(\"That is a \\\"pre\\\" word\")",
      "execution_count": 2,
      "outputs": [
        {
          "output_type": "stream",
          "name": "stdout",
          "text": "Preorder\nThat is a \"pre\" word\n"
        }
      ]
    },
    {
      "metadata": {},
      "cell_type": "markdown",
      "source": "## Task 3: Fix the errors"
    },
    {
      "metadata": {
        "trusted": true
      },
      "cell_type": "code",
      "source": "# [ ] review, run, fix\nprint(\"Hello\\nWorld!\")\n\n",
      "execution_count": 4,
      "outputs": [
        {
          "output_type": "stream",
          "text": "Hello\nWorld!\n",
          "name": "stdout"
        }
      ]
    },
    {
      "metadata": {},
      "cell_type": "markdown",
      "source": "[Terms of use](http://go.microsoft.com/fwlink/?LinkID=206977) &nbsp; [Privacy & cookies](https://go.microsoft.com/fwlink/?LinkId=521839) &nbsp; © 2017 Microsoft"
    }
  ],
  "metadata": {
    "anaconda-cloud": {},
    "kernelspec": {
      "name": "python3",
      "display_name": "Python 3",
      "language": "python"
    },
    "language_info": {
      "mimetype": "text/x-python",
      "nbconvert_exporter": "python",
      "name": "python",
      "pygments_lexer": "ipython3",
      "version": "3.5.4",
      "file_extension": ".py",
      "codemirror_mode": {
        "version": 3,
        "name": "ipython"
      }
    }
  },
  "nbformat": 4,
  "nbformat_minor": 1
}