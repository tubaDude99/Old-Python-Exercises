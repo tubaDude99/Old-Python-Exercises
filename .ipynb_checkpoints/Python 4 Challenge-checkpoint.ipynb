{
  "cells": [
    {
      "metadata": {
        "trusted": true
      },
      "cell_type": "code",
      "source": "t = 0\nfor x in range(0,101):\n    if x%2 == 0:\n        t = t + x\nprint(t)\n",
      "execution_count": 5,
      "outputs": [
        {
          "output_type": "stream",
          "text": "2550\n",
          "name": "stdout"
        }
      ]
    },
    {
      "metadata": {
        "trusted": true
      },
      "cell_type": "code",
      "source": "t = 1\nfor x in range(0,51):\n    if x%2 == 1:\n        t = t * x\nprint(t)",
      "execution_count": 10,
      "outputs": [
        {
          "output_type": "stream",
          "text": "58435841445947272053455474390625\n",
          "name": "stdout"
        }
      ]
    }
  ],
  "metadata": {
    "kernelspec": {
      "name": "python36",
      "display_name": "Python 3.6",
      "language": "python"
    },
    "language_info": {
      "mimetype": "text/x-python",
      "nbconvert_exporter": "python",
      "name": "python",
      "pygments_lexer": "ipython3",
      "version": "3.6.6",
      "file_extension": ".py",
      "codemirror_mode": {
        "version": 3,
        "name": "ipython"
      }
    }
  },
  "nbformat": 4,
  "nbformat_minor": 2
}