{
  "cells": [
    {
      "metadata": {},
      "cell_type": "markdown",
      "source": "# Section 1.3: Date and Time Arithmetic\n* datetime.timedelta\n* datetime operators (+, -, *, /, //, %)\n\n### Students will be able to:\n* Create timedelta objects\n* Use timedelta objects to perform date arithmetic\n* Compare two datetime objects\n* Build a useful application using timedelta arithmetic"
    },
    {
      "metadata": {},
      "cell_type": "markdown",
      "source": "---\n<font size=\"6\" color=\"#00A0B2\"  face=\"verdana\"> <B>Concepts</B></font>  \n\n\n## `timedelta` Objects\n\n\nPerforming time and date calculations can be a tedious task. For example, if you want to know your age in days, you will need to know how many of the years you have lived through were leap years, and how many days were in each additional month that you've lived. Luckily, the `datetime` module has some utilities that will help you perform such calculations with ease. \n\nThe `time`, `date`, and `datetime` objects all represent points in time. The `datetime` module provides another data type called `timedelta`, which represents a duration of time rather than a point in time. As a programmer, you can define a `timedelta` variable explicitly or by taking the difference between 2 `datetime` variables.\n\nNOTE: The Greek letter &Delta; (pronounced \"delta\") is usually used to represent a difference. The name `timedelta` hints that it contains a time difference which is equivalent to a duration of time."
    },
    {
      "metadata": {},
      "cell_type": "markdown",
      "source": "---\n<font size=\"6\" color=\"#00A0B2\"  face=\"verdana\"> <B>Concepts</B></font>  \n\n\n## Creating `timedelta` objects\n[![view video](https://iajupyterprodblobs.blob.core.windows.net/imagecontainer/common/play_video.png)](http://edxinteractivepage.blob.core.windows.net/edxpages/f7cff1a7-5601-48a1-95a6-fd1fdfabd20e.html?details=[{\"src\":\"http://jupyternootbookwams.streaming.mediaservices.windows.net/b9dd8f7d-313e-4fae-855d-e667fa72bc66/DEV330x-1_3a_creating_timedelta_.ism/manifest\",\"type\":\"application/vnd.ms-sstr+xml\"}],[{\"src\":\"http://jupyternootbookwams.streaming.mediaservices.windows.net/5bc9829e-87aa-4802-a537-1cfb351d0f7b/DEV330x-1_3a_creating_timedelta_objects.vtt\",\"srclang\":\"en\",\"kind\":\"subtitles\",\"label\":\"english\"}])\n\n#### `timedelta(weeks = 0, days = 0, hours = 0, minutes = 0, seconds = 0, milliseconds = 0, microseconds = 0)`\nThe attributes of the `timedelta` object are all optional and default to 0 if not specified. `timedelta` does not have year or month attributes because neither of these represent a constant amount of time (leap years are longer than non-leap years and months have from 29 to 31 days).\n\n#### Explicit definition\nYou can define a `timedelta` object in the same way that you define a `time`, `date`, or `datetime` object. \n\n```python\nIn [1]: from datetime import timedelta\nIn [2]: delta1 = timedelta(days = 7,  hours = 2)\nIn [3]: print(detla1)\n7 days, 2:00:00\n```\n\n#### Calculating the difference between two `datetime` objects\nYou can define a `timedelta` object as the result of subtracting a `datetime` or `date` object from another.\n\n```python\nIn [1]: from datetime import datetime\nIn [2]: dt1 = datetime(year = 2017, month = 1, day = 1) \nIn [3]: dt2 = datetime(year = 2017, month = 2, day = 1)\nIn [4]: delta2 = dt2 - dt1\nIn [5]: print(delta2)\n31 days, 0:00:00\n```\n\n### Getting the `timedelta` attributes\nThough you can use many attributes to explicitly define a `timedelta` object, only the days, seconds, and microseconds are stored in the object. Python will convert all other attributes to these three. The days, seconds, and microseconds attributes can all be accessed in the same way we access a `timedelta` object attributes. \n\nIn the explicit definition example above, we defined `delta1` using the attributes `days = 7` and `hours = 2`, let's see what was actually stored in `delta1`.\n\n```python\nIn [5]: delta1.days\nOut[5]: 7\n\nIn [6]: delta1.seconds\nOut[6]: 7200\n\nIn [7]: delta1.microseconds\nOut[7]: 0\n```\n\nIt's apparent that Python has converted the 2 hours into 2 &times; 60 &times; 60 = 7200 seconds.\n\n### Total number of seconds\nPython can also compute the total number of seconds in a `timedelta` object using the `total_seconds()` function. For example, `delta1` has 7 days &times; 24 hours &times; 60 minutes &times; 60 seconds + 7200 seconds = 612000 seconds.\n\n```python\nIn [8]: delta1.total_seconds()\nOut[8]: 612000.0\n```"
    },
    {
      "metadata": {},
      "cell_type": "markdown",
      "source": "---\n<font size=\"6\" color=\"#00A0B2\"  face=\"verdana\"> <B>Examples</B></font>\n\n### Explicit definition"
    },
    {
      "metadata": {
        "trusted": true
      },
      "cell_type": "code",
      "source": "from datetime import timedelta\n\n# Define a timedelta object\ndelta1 = timedelta(days = 2, seconds = 0, minutes = 15, hours = 1, weeks = 4)\nprint(delta1, \" is stored in delta1\")\n\n# Get the stored attributes\nd = delta1.days \ns = delta1.seconds \nms = delta1.microseconds\nprint(\"Days = \", d, \"| Seconds = \", s, \"| Microseconds = \", ms)\n\n# Get total number of seconds\nall_seconds = delta1.total_seconds()\nprint(\"Total number of seconds = \", all_seconds)\n",
      "execution_count": 1,
      "outputs": [
        {
          "output_type": "stream",
          "text": "30 days, 1:15:00  is stored in delta1\nDays =  30 | Seconds =  4500 | Microseconds =  0\nTotal number of seconds =  2596500.0\n",
          "name": "stdout"
        }
      ]
    },
    {
      "metadata": {},
      "cell_type": "markdown",
      "source": "### Calculating the difference between two `datetime` points"
    },
    {
      "metadata": {
        "trusted": true
      },
      "cell_type": "code",
      "source": "from datetime import datetime, timedelta\ndate1 = datetime(year = 2015, month = 1, day = 19)\ndate2 = datetime.today()\n\n# Define a time delta\ndelta2 = date2 - date1\n\nprint(delta2, \" is stored in delta2\")\nprint(\"Total number of seconds = \", delta2.total_seconds())",
      "execution_count": 8,
      "outputs": [
        {
          "output_type": "stream",
          "text": "1793 days, 16:47:40.769979  is stored in delta2\nTotal number of seconds =  154975660.769979\n",
          "name": "stdout"
        }
      ]
    },
    {
      "metadata": {},
      "cell_type": "markdown",
      "source": "---\n<font size=\"6\" color=\"#B24C00\"  face=\"verdana\"> <B>Task 1</B></font>\n\n## Creating `timedelta` objects\n"
    },
    {
      "metadata": {
        "trusted": true
      },
      "cell_type": "code",
      "source": "# [ ] Create a `timedelta` object that contains: 2 hours, 3 minutes, and 1 week\nd = timedelta(hours = 2, minutes = 3, weeks = 1)\nprint(d)\n# --Completed--\nfrom datetime import timedelta\ntd = timedelta(hours = 2, minutes = 3, weeks = 1)\nprint(td)",
      "execution_count": 11,
      "outputs": [
        {
          "output_type": "stream",
          "text": "7 days, 2:03:00\n7 days, 2:03:00\n",
          "name": "stdout"
        }
      ]
    },
    {
      "metadata": {
        "trusted": true
      },
      "cell_type": "code",
      "source": "# [ ] Use a `timedelta` object to calculate the total number of seconds in: 1 hour and 15 minutes\nprint(timedelta(hours = 1, minutes = 15).total_seconds())\n# --Completed--\nfrom datetime import timedelta\ntd = timedelta(hours = 1, minutes = 15)\ntotal_seconds = td.total_seconds()\nprint(\"Total number of seconds = \", total_seconds)\n",
      "execution_count": 12,
      "outputs": [
        {
          "output_type": "stream",
          "text": "4500.0\nTotal number of seconds =  4500.0\n",
          "name": "stdout"
        }
      ]
    },
    {
      "metadata": {
        "trusted": true
      },
      "cell_type": "code",
      "source": "# Use a `timedelta` object to find out how many days are left until your upcoming birthday\nd = datetime(month = 5, day = 19, year = 2020) - datetime.today()\nprint(d.days)",
      "execution_count": 15,
      "outputs": [
        {
          "output_type": "stream",
          "text": "153\n",
          "name": "stdout"
        }
      ]
    },
    {
      "metadata": {},
      "cell_type": "markdown",
      "source": "---\n<font size=\"6\" color=\"#00A0B2\"  face=\"verdana\"> <B>Concepts</B></font>  \n\n\n## Performing Date Arithmetic\n[![view video](https://iajupyterprodblobs.blob.core.windows.net/imagecontainer/common/play_video.png)](http://edxinteractivepage.blob.core.windows.net/edxpages/f7cff1a7-5601-48a1-95a6-fd1fdfabd20e.html?details=[{\"src\":\"http://jupyternootbookwams.streaming.mediaservices.windows.net/8fcd87ce-ed40-4552-8583-4c93c70da1bc/DEV330x-1_3b_date_arithmetic.ism/manifest\",\"type\":\"application/vnd.ms-sstr+xml\"}],[{\"src\":\"http://jupyternootbookwams.streaming.mediaservices.windows.net/5a5fdbea-0252-4663-87a6-a8047107cf9d/DEV330x-1_3b_date_arithmetic.vtt\",\"srclang\":\"en\",\"kind\":\"subtitles\",\"label\":\"english\"}])\n\n### Arithmetic involving `datetime` and `timedelta` objects\nThe `timedelta` objects can be used to perform date arithmetic on `datetime` and `date` objects. For examples, if you want to know the date 100 days from today, you can define a `timedelta` object with 100 days and add it to today's date. In general, a `timedelta` object can be added to or subtracted from a `datetime` object.\n\n### Arithmetic on `timedelta` objects\nYou can perform basic arithmetic operations on `timedelta` objects. For example, you can add 2 `timedelta` objects, subtract them, or divide them. The following table lists some of the available operations; a complete listing is available on the Python Documentation site at https://docs.python.org/3/library/datetime.html#timedelta-objects.\n\nAssume: t1, t2, t3 are all `timedelta` objects\n\n|Operation|Result|\n|---------|------|\n|t1 = t2 + t3| sum of objects|\n|t1 = t2 - t3| different between objects|\n|t1 = t2 * i | multiply by an integer i|\n|f = t2 / t3 | division, return `float`|\n|t1 = t2 // i| integer division, return `int`|\n|t1 = t2 % t3| modulo or remainder|\n"
    },
    {
      "metadata": {},
      "cell_type": "markdown",
      "source": "---\n<font size=\"6\" color=\"#00A0B2\"  face=\"verdana\"> <B>Examples</B></font>\n\n### Arithmetic using `datetime` and `timedelta` objects\n#### Finding the date 100 days from today. "
    },
    {
      "metadata": {
        "trusted": true
      },
      "cell_type": "code",
      "source": "from datetime import datetime, timedelta\n\n# Define a timedelta object\none_hundred_days = timedelta(days = 100)\n\n# Get today's date\ncurrent_date = datetime.today()\n\n# Compute the new date\nnew_date = current_date + one_hundred_days\n\n# Print formatted new date\nprint(\"After 100 days:\", new_date.strftime(\"%b/%d/%Y\"))",
      "execution_count": 17,
      "outputs": [
        {
          "output_type": "stream",
          "text": "After 100 days: Mar/26/2020\n",
          "name": "stdout"
        }
      ]
    },
    {
      "metadata": {},
      "cell_type": "markdown",
      "source": "#### Finding the dates 200 and 300 days from today"
    },
    {
      "metadata": {
        "trusted": true
      },
      "cell_type": "code",
      "source": "from datetime import datetime, timedelta\n\n# Define the timedelta objects\none_hundred_days = timedelta(days = 100)\ntwo_hundred_days = one_hundred_days * 2\nthree_hundred_days = one_hundred_days * 3\n\n# Get today's date\ncurrent_date = datetime.today()\n\n# Compute the new dates\nnew_date1 = current_date + two_hundred_days\nnew_date2 = current_date + three_hundred_days\n\n# Print formatted new dates\nprint(\"After 200 days:\", new_date1.strftime(\"%b/%d/%Y\"))\nprint(\"After 300 days:\", new_date2.strftime(\"%b/%d/%Y\"))\n",
      "execution_count": 18,
      "outputs": [
        {
          "output_type": "stream",
          "text": "After 200 days: Jul/04/2020\nAfter 300 days: Oct/12/2020\n",
          "name": "stdout"
        }
      ]
    },
    {
      "metadata": {},
      "cell_type": "markdown",
      "source": "---\n<font size=\"6\" color=\"#B24C00\"  face=\"verdana\"> <B>Task 2</B></font>\n\n## Performing Date Arithmetic"
    },
    {
      "metadata": {
        "trusted": true
      },
      "cell_type": "code",
      "source": "# [ ] Write a program to compute the date 3 weeks before your birthday \n# to help you remember when to send the invitations\nprint((datetime(month = 5, day = 19, year = 2020)-timedelta(weeks = 3)).strftime(\"Send invitations on %m/%d/%y\"))\n# --Completed--\nfrom datetime import timedelta, datetime\n\n# Modify upcoming_birthday to a specific birthday\nupcoming_birthday = datetime(month = 6, day = 28, year = 2018)\n\n# Assign a 3-week timedelta object\nthree_weeks = timedelta(weeks = 3)\n\n# Compute the reminder date\nreminder = upcoming_birthday - three_weeks\n\nprint(\"Send invitations on:\", reminder.strftime(\"%b/%d/%Y\"))\n",
      "execution_count": 22,
      "outputs": [
        {
          "output_type": "stream",
          "text": "Send invitations on 04/28/20\nSend invitations on: Jun/07/2018\n",
          "name": "stdout"
        }
      ]
    },
    {
      "metadata": {
        "trusted": true
      },
      "cell_type": "code",
      "source": "# [ ] Write a program that computes the number of days from the current date till the 3 weeks reminder\n# 1) Create a `timedelta` object (td1) for the period between the current date and your upcoming birthday\n# 2) Create a `timedelta` object (td2) containing 3 weeks\n# 3) Use the `timedelta` objects (td) from 1 and 2 to compute the required number of days\nprint(\"Reminder in\",((datetime(month = 5, day = 19, year = 2020) - timedelta(weeks = 3)) - datetime.today()).days,\"days\")\n# --Completed--\nfrom datetime import timedelta, datetime\n\n# Modify upcoming_birthday to a specific birthday\nupcoming_birthday = datetime(month = 12, day = 28, year = 2018)\n\n# Get today's date\ntodays_date = datetime.today()\n\n# 1) Compute `timedelta` between current date and upcoming birthday\ntd1 = upcoming_birthday - todays_date\n\n# 2) Define a 3-week timedelta object\ntd2 = timedelta(weeks = 3)\n\n# 3) Find out the required number of days\ntd = td1 - td2\ndays = td.days\n\nif (days > 0):\n    print(\"Reminder is in\", days, \"days\")\nelse:\n    print(\"Reminder was\", abs(days), \"days ago\")\n    ",
      "execution_count": 27,
      "outputs": [
        {
          "output_type": "stream",
          "text": "Reminder in 132 days\nReminder was 376 days ago\n",
          "name": "stdout"
        }
      ]
    },
    {
      "metadata": {},
      "cell_type": "markdown",
      "source": "---\n<font size=\"6\" color=\"#00A0B2\"  face=\"verdana\"> <B>Concepts</B></font>  \n\n\n## Comparing `datetime` objects\n[![view video](https://iajupyterprodblobs.blob.core.windows.net/imagecontainer/common/play_video.png)](http://edxinteractivepage.blob.core.windows.net/edxpages/f7cff1a7-5601-48a1-95a6-fd1fdfabd20e.html?details=[{\"src\":\"http://jupyternootbookwams.streaming.mediaservices.windows.net/f2055f1b-ac48-48ae-8a1b-403a33eeab04/DEV330x-1_3c_comparing_datetime_.ism/manifest\",\"type\":\"application/vnd.ms-sstr+xml\"}],[{\"src\":\"http://jupyternootbookwams.streaming.mediaservices.windows.net/531a0994-58c3-4760-88d6-7329e89f2fba/DEV330x-1_3c_comparing_datetime_objects.vtt\",\"srclang\":\"en\",\"kind\":\"subtitles\",\"label\":\"english\"}])\n\nYou can compare `datetime` objects to find out which date precedes the other. The result of the comparison can be used in a conditional or loop structure to control the flow of your program. You can use any of the operators in the following table to perform a comparison.\n\n|Operator|Description|\n|--------|-----------|\n| < | less than|\n| <= | less than or equal to|\n| > | greater than|\n| >= | greater than or equal to|\n| == | equal to|"
    },
    {
      "metadata": {},
      "cell_type": "markdown",
      "source": "---\n<font size=\"6\" color=\"#00A0B2\"  face=\"verdana\"> <B>Examples</B></font>\n\n### Comparing two birthdays\nIn this example, a comparison operator is used to find out which person is older:"
    },
    {
      "metadata": {
        "trusted": true
      },
      "cell_type": "code",
      "source": "from datetime import date\n\n# Birthday of person 1\nbirthday1 = date(year = 1993, month = 3, day = 5)\n\n# Birthday of person 2\nbirthday2 = date(year = 2003, month = 3, day = 20)\n\n# Compare birthdays\nif (birthday1 > birthday2):\n    print(\"Person 2 is older\")\nelif (birthday1 < birthday2):\n    print(\"Person 1 is older\")\nelse:\n    print(\"Person 1 and Person 2 are of the same age\")",
      "execution_count": 28,
      "outputs": [
        {
          "output_type": "stream",
          "text": "Person 1 is older\n",
          "name": "stdout"
        }
      ]
    },
    {
      "metadata": {},
      "cell_type": "markdown",
      "source": "---\n<font size=\"6\" color=\"#B24C00\"  face=\"verdana\"> <B>Task 3</B></font>\n\n## Comparing `datetime` objects"
    },
    {
      "metadata": {
        "trusted": true
      },
      "cell_type": "code",
      "source": "# [ ] Write a program to find out if 4th of July of this year has passed or not\nif date(2019,7,4) > datetime.today().date():\n    print(\"July 4th has not passed\")\nelse:\n    print(\"July 4th has passed\")\n# --Completed--\nfrom datetime import datetime\n\n# Get today's date\ntodays_date = datetime.today()\n\n# 4th of July of current year\njuly_4th = datetime(month = 7, day = 4, year = todays_date.year)\n\nif(july_4th < todays_date):\n    print(\"July 4th has passed\")\nelse:\n    print(\"July 4th has not passed yet\")",
      "execution_count": 31,
      "outputs": [
        {
          "output_type": "stream",
          "text": "July 4th has passed\nJuly 4th has passed\n",
          "name": "stdout"
        }
      ]
    },
    {
      "metadata": {},
      "cell_type": "markdown",
      "source": "---\n<font size=\"6\" color=\"#00A0B2\"  face=\"verdana\"> <B>Concepts</B></font>  \n\n\n## Creating Useful Applications\n[![view video](https://iajupyterprodblobs.blob.core.windows.net/imagecontainer/common/play_video.png)](http://edxinteractivepage.blob.core.windows.net/edxpages/f7cff1a7-5601-48a1-95a6-fd1fdfabd20e.html?details=[{\"src\":\"http://jupyternootbookwams.streaming.mediaservices.windows.net/be9ce05c-0d34-473f-adc8-7909b26cfe64/DEV330x-1_3d_days_till_december_.ism/manifest\",\"type\":\"application/vnd.ms-sstr+xml\"}],[{\"src\":\"http://jupyternootbookwams.streaming.mediaservices.windows.net/b8882593-1bab-42a6-a4ea-5d2daa62dca4/DEV330x-1_3d_days_till_december_solstice.vtt\",\"srclang\":\"en\",\"kind\":\"subtitles\",\"label\":\"english\"}])\n\nThe `datetime` module allows you to perform tedious date calculations and display the result in a human-friendly way. The simplicity and versatile functionality of the module will let you design very useful applications involving date and/or time."
    },
    {
      "metadata": {},
      "cell_type": "markdown",
      "source": "---\n<font size=\"6\" color=\"#00A0B2\"  face=\"verdana\"> <B>Examples</B></font>\n\n### Creating a December Solstice Countdown application\nIn this section, you will see how easy it is to design a December Solstice Countdown application using the `datetime`, `replace`, and `timedelta` functions you have already seen."
    },
    {
      "metadata": {
        "trusted": true
      },
      "cell_type": "code",
      "source": "from datetime import datetime\n\n# Define today's date\nnow = datetime.today()\n\n# December solstice of year 1, it can be any year, it will be changed later\nsolstice = datetime(month = 12, day = 21, year = 1)\n\n# Change solstice's year to current year\nsolstice = solstice.replace(year = (datetime.today().year))\n\n# Get the timedelta\ncount = solstice - now\n\n# Display the solstice countdown\nprint(\"There are\", count.days, \"days until the December solstice!\" )",
      "execution_count": 32,
      "outputs": [
        {
          "output_type": "stream",
          "text": "There are 3 days until the December solstice!\n",
          "name": "stdout"
        }
      ]
    },
    {
      "metadata": {},
      "cell_type": "markdown",
      "source": "---\n<font size=\"6\" color=\"#B24C00\"  face=\"verdana\"> <B>Task 4</B></font>\n\n## Creating Useful Applications\n"
    },
    {
      "metadata": {
        "trusted": true
      },
      "cell_type": "code",
      "source": "# [ ] Complete the following program to find out if you are closer to the current year's June or December solstice\n\n# Define today's date\nnow = datetime.today()\n\n# Define the December solstice\ndecS = datetime(month = 12, day = 21, year = now.year)\n\n# Define the June solstice\njunS = datetime(month = 6, day = 21, year = now.year)\n\n# Find out which solstice is closer\nif abs(now - decS) < abs(now - junS):\n    print(\"The december solstice is closer\")\nelif abs(now - decS) > abs(now - junS):\n    print(\"The june solsitce is closer\")\n# --Completed--\n\n# Define today's date\nnow = datetime.today()\n\n# Define the December solstice\ndecember_solstice = datetime(month = 12, day = 21, year = now.year)\n\n# Define the June solstice\njune_solstice = datetime(month = 6, day = 21, year = now.year)\n\n# Find out which solstice is closer\n\n# Calculate number of days till each solstice\ntill_june_solstice = abs(june_solstice - now)\ntill_december_solstice = abs(december_solstice - now)\n\n# Print the appropriate message\nif (till_june_solstice > till_december_solstice):\n    print(\"We are closer to the December solstice\")\nelif (till_june_solstice < till_december_solstice):\n    print(\"We are closer to the June solstice\")\nelse:\n    print(\"We are halfway between the June and December solstices\")",
      "execution_count": 46,
      "outputs": [
        {
          "output_type": "stream",
          "text": "The december solstice is closer\nWe are closer to the December solstice\n",
          "name": "stdout"
        }
      ]
    }
  ],
  "metadata": {
    "kernelspec": {
      "name": "python3",
      "display_name": "Python 3",
      "language": "python"
    },
    "language_info": {
      "mimetype": "text/x-python",
      "nbconvert_exporter": "python",
      "name": "python",
      "file_extension": ".py",
      "version": "3.5.4",
      "pygments_lexer": "ipython3",
      "codemirror_mode": {
        "version": 3,
        "name": "ipython"
      }
    }
  },
  "nbformat": 4,
  "nbformat_minor": 2
}