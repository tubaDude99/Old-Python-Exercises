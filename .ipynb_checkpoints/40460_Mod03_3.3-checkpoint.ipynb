{
  "cells": [
    {
      "metadata": {},
      "cell_type": "markdown",
      "source": "# Section 3.3\n## Conditionals: String Comparison\n- **`if`, `else`, `pass`**\n  - Conditionals using Boolean string methods\n  - Comparison operators\n  - **String comparisons**\n\n----- \n\n### Student will be able to\n- **Control code flow with `if`... `else` conditional logic**  \n  - Uing Boolean string methods (`.isupper(), .isalpha(), startswith()...`)  \n  - Using comparison (`>, <, >=, <=, ==, !=`)  \n  - **Using strings in comparisons**  "
    },
    {
      "metadata": {},
      "cell_type": "markdown",
      "source": "\n## Concept: String Comparisons\n- ### Strings can be equal `==` or unequal `!=`\n- ### Strings can be greater than `>` or less than `<` \n- ### Alphabetically `\"A\"` is less than `\"B\"`\n- ### Lowercase `\"a\"` is greater than uppercase `\"A\"`"
    },
    {
      "metadata": {},
      "cell_type": "markdown",
      "source": "### Examples"
    },
    {
      "metadata": {
        "trusted": true
      },
      "cell_type": "code",
      "source": "# review and run code\n\"hello\" < \"Hello\"",
      "execution_count": 1,
      "outputs": [
        {
          "output_type": "execute_result",
          "execution_count": 1,
          "data": {
            "text/plain": "False"
          },
          "metadata": {}
        }
      ]
    },
    {
      "metadata": {
        "trusted": true
      },
      "cell_type": "code",
      "source": "# review and run code\n\"Aardvark\" > \"Zebra\"",
      "execution_count": 2,
      "outputs": [
        {
          "output_type": "execute_result",
          "execution_count": 2,
          "data": {
            "text/plain": "False"
          },
          "metadata": {}
        }
      ]
    },
    {
      "metadata": {
        "trusted": true
      },
      "cell_type": "code",
      "source": "# review and run code\n'student' != 'Student'",
      "execution_count": 3,
      "outputs": [
        {
          "output_type": "execute_result",
          "execution_count": 3,
          "data": {
            "text/plain": "True"
          },
          "metadata": {}
        }
      ]
    },
    {
      "metadata": {
        "trusted": true
      },
      "cell_type": "code",
      "source": "# review and run code\nprint(\"'student' >= 'Student' is\", 'student' >= 'Student')\nprint(\"'student' != 'Student' is\", 'student' != 'Student')",
      "execution_count": 4,
      "outputs": [
        {
          "output_type": "stream",
          "text": "'student' >= 'Student' is True\n'student' != 'Student' is True\n",
          "name": "stdout"
        }
      ]
    },
    {
      "metadata": {
        "trusted": true
      },
      "cell_type": "code",
      "source": "# review and run code\n\"Hello \" + \"World!\" == \"Hello World!\"",
      "execution_count": 5,
      "outputs": [
        {
          "output_type": "execute_result",
          "execution_count": 5,
          "data": {
            "text/plain": "True"
          },
          "metadata": {}
        }
      ]
    },
    {
      "metadata": {},
      "cell_type": "markdown",
      "source": "## Task 1: String Comparisons"
    },
    {
      "metadata": {
        "trusted": true
      },
      "cell_type": "code",
      "source": "msg = \"Hello\"\n# [ ] print the True/False results of testing if msg string equals \"Hello\" string\nprint(msg == \"Hello\")\n",
      "execution_count": 6,
      "outputs": [
        {
          "output_type": "stream",
          "text": "True\n",
          "name": "stdout"
        }
      ]
    },
    {
      "metadata": {
        "trusted": true
      },
      "cell_type": "code",
      "source": "greeting = \"Hello\"\n# [ ] get input for variable named msg, and ask user to 'Say \"Hello\"'\n# [ ] print the results of testing if msg string equals greeting string\nmsg = input('Say \"Hello\"')\nprint(msg == greeting)\n",
      "execution_count": 9,
      "outputs": [
        {
          "output_type": "stream",
          "name": "stdout",
          "text": "Say \"Hello\"Hi\nFalse\n"
        }
      ]
    },
    {
      "metadata": {},
      "cell_type": "markdown",
      "source": "## Concept: String Comparisons with `if`\n[![view video](https://iajupyterprodblobs.blob.core.windows.net/imagecontainer/common/play_video.png)]( http://edxinteractivepage.blob.core.windows.net/edxpages/f7cff1a7-5601-48a1-95a6-fd1fdfabd20e.html?details=[{\"src\":\"http://jupyternootbookwams.streaming.mediaservices.windows.net/d66365b5-03fa-4d0d-a455-5adba8b8fb1b/Unit1_Section4.3-string-compare-if.ism/manifest\",\"type\":\"application/vnd.ms-sstr+xml\"}],[{\"src\":\"http://jupyternootbookwams.streaming.mediaservices.windows.net/d66365b5-03fa-4d0d-a455-5adba8b8fb1b/Unit1_Section4.3-string-compare-if.vtt\",\"srclang\":\"en\",\"kind\":\"subtitles\",\"label\":\"english\"}])\n"
    },
    {
      "metadata": {},
      "cell_type": "markdown",
      "source": "### Examples"
    },
    {
      "metadata": {
        "trusted": true
      },
      "cell_type": "code",
      "source": "# [ ] review and run code\nmsg = \"Save the notebook\"\n\nif msg.lower() == \"save the notebook\":\n    print(\"message as expected\")\nelse:\n    print(\"message not as expected\")",
      "execution_count": 10,
      "outputs": [
        {
          "output_type": "stream",
          "text": "message as expected\n",
          "name": "stdout"
        }
      ]
    },
    {
      "metadata": {
        "trusted": true
      },
      "cell_type": "code",
      "source": "# [ ] review and run code\nmsg = \"Save the notebook\"\nprediction = \"save the notebook\"\n\nif msg.lower() == prediction.lower():\n    print(\"message as expected\")\nelse:\n    print(\"message not as expected\")",
      "execution_count": 11,
      "outputs": [
        {
          "output_type": "stream",
          "text": "message as expected\n",
          "name": "stdout"
        }
      ]
    },
    {
      "metadata": {},
      "cell_type": "markdown",
      "source": "## Task 2: Using Comparison Operators with `if`\n"
    },
    {
      "metadata": {
        "trusted": true
      },
      "cell_type": "code",
      "source": "# [ ] get input for a variable, answer, and ask user 'What is 8 + 13? : '\n# [ ] print messages for correct answer \"21\" or incorrect answer using if/else\n# note: input returns a \"string\"\nanswer = input('What is 8 + 13? : ')\nif answer == '21':\n    print(\"Correct\")\nelse:\n    print(\"Incorrect\")",
      "execution_count": 12,
      "outputs": [
        {
          "output_type": "stream",
          "name": "stdout",
          "text": "What is 8 + 13? : 5\nIncorrect\n"
        }
      ]
    },
    {
      "metadata": {
        "collapsed": true
      },
      "cell_type": "markdown",
      "source": "## Task 3 (program): True False Quiz Function\nCall the tf_quiz function with two arguments.\n- T/F question string \n- answer key string like \"T\"  \n\nReturn a string: \"correct\" or incorrect\"\n[![view video](https://iajupyterprodblobs.blob.core.windows.net/imagecontainer/common/play_video.png)]( http://edxinteractivepage.blob.core.windows.net/edxpages/f7cff1a7-5601-48a1-95a6-fd1fdfabd20e.html?details=[{\"src\":\"http://jupyternootbookwams.streaming.mediaservices.windows.net/3805cc48-f5c9-4ec8-86ad-1e1db45788e4/Unit1_Section4.3-TF-quiz.ism/manifest\",\"type\":\"application/vnd.ms-sstr+xml\"}],[{\"src\":\"http://jupyternootbookwams.streaming.mediaservices.windows.net/3805cc48-f5c9-4ec8-86ad-1e1db45788e4/Unit1_Section4.3-TF-quiz.vtt\",\"srclang\":\"en\",\"kind\":\"subtitles\",\"label\":\"english\"}])\n### Define and use `tf_quiz()` function  \n- **`tf_quiz()`** has **2 parameters** which are both string arguments  \n  - **`question`**: a string containg a T/F question like \"Should save your notebook after edit?(T/F): \"  \n  - **`correct_ans`**: a string indicating the *correct answer*, either **\"T\"** or **\"F\"** \n- **`tf_quiz()`** returns a string:  \"correct\" or \"incorrect\"\n- Test tf_quiz(): **create a T/F question** (*or several!*) to **call tf_quiz()**  \n"
    },
    {
      "metadata": {
        "trusted": true
      },
      "cell_type": "code",
      "source": "# [ ] Create the program, run tests\ndef tfQuiz(ques,ans):\n    if input(ques) == ans:\n        print(\"Correct!\")\n    else:\n        print(\"Incorrect!\")\ntfQuiz(input(\"What question? \"),input(\"Correct Answer? \"))",
      "execution_count": 3,
      "outputs": [
        {
          "output_type": "stream",
          "name": "stdout",
          "text": "What question? Does 7 - 3 = 2? (T/F)\nCorrect Answer? F\nDoes 7 - 3 = 2? (T/F)F\nCorrect!\n"
        }
      ]
    },
    {
      "metadata": {},
      "cell_type": "markdown",
      "source": "[Terms of use](http://go.microsoft.com/fwlink/?LinkID=206977) &nbsp; [Privacy & cookies](https://go.microsoft.com/fwlink/?LinkId=521839) &nbsp; © 2017 Microsoft"
    }
  ],
  "metadata": {
    "anaconda-cloud": {},
    "kernelspec": {
      "name": "python3",
      "display_name": "Python 3",
      "language": "python"
    },
    "language_info": {
      "mimetype": "text/x-python",
      "nbconvert_exporter": "python",
      "name": "python",
      "pygments_lexer": "ipython3",
      "version": "3.5.4",
      "file_extension": ".py",
      "codemirror_mode": {
        "version": 3,
        "name": "ipython"
      }
    }
  },
  "nbformat": 4,
  "nbformat_minor": 1
}