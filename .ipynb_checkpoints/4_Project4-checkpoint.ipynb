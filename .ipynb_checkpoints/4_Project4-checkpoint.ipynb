{
  "cells": [
    {
      "metadata": {},
      "cell_type": "markdown",
      "source": "\n#  Module 4 Project  \n\nCourse 40461: Introduction to Python, Unit 2\n\nThis is an activity based on the Module 4 Lab, which you may have already completed.\n\n| **Assignment Requirements** |  \n|:-------------------------------|  \n| **NOTE:** This program requires **`print`** output and code syntax used in Module 4 such as variable assignment, **`input`**, **`while`**, **`open`** keywords,  **`.split()`**, **`.readline()`**, **`.seek()`**, **`.write()`**, **`.close()`** methods.  |  \n\n## The Weather\n#### Create a program that:  \n- Imports and opens a file  \n- Appends additional data to a file  \n- Reads from the file to displays each city name and month average high temperature in Celsius  \n\n**Output:** The output should resemble the following\n```\nCity of Beijing month ave: highest high is 30.9 Celsius\nCity of Cairo month ave: highest high is 34.7 Celsius\nCity of London month ave: highest high is 23.5 Celsius\nCity of Nairobi month ave: highest high is 26.3 Celsius\nCity of New York City month ave: highest high is 28.9 Celsius\nCity of Sydney month ave: highest high is 26.5 Celsius\nCity of Tokyo month ave: highest high is 30.8 Celsius\nCity of Rio De Janeiro month ave: highest high is 30.0 Celsius\n```  \nAll of the above text output is generated from the file.\nOnly these strings are *hard coded*:  \n- \"is\"  \n- \"of\"  \n- \"Celsius\"  \n\n\n\n### Import the file into the Jupyter Notebook environment   \n- Use `!curl` to download https://raw.githubusercontent.com/MicrosoftLearning/intropython/master/world_temp_mean.csv as `mean_temp.txt`  \n  \n\n```python\n# [ ] The Weather: import world_mean_team.csv as mean_temp.txt into the Jupyter notebook\n\n\n```  \n\n#### Add the weather for Rio  \n1. Open the file in append plus mode (**`'a+'`**)  \n2. Write a new line for Rio de Janeiro `\"\\nRio de Janeiro,Brazil,30.0,18.0\"`  \n\n\n#### Grab the column headings  \n1. Use .seek() to move the pointer to the beginning of the file  \n2. Read the first line of text into a variable called: `headings`     \n3. Convert `headings` to a list using **`.split(',')`** which splits on each comma  \n\n\n```python\n# [ ] The Weather: open file, read/print first line, convert line to list (splitting on comma)\n\n\n```\n\n#### Read the remaining lines from the file using a while loop\n  1. Assign remaining lines to a **`city_temp`** variable  \n  2. Convert the city_temp to a list using **`.split(',')`** for each **`.readline()`** in the loop  \n  3. Print each city & the highest monthly average temperature   \n  4. Close mean_temps\n\n>Tips & Hints:   \n- Print **`headings`** to determine indexes to use for the final output (what is in headings[0], [1], [2]..?)  \n- The city_temp data follows the order of the headings (city_temp[0] is described by headings[0]) \n- The output should look like: **`\"month ave: highest high\" for Beijing is 30.9 Celsius`**  \n- Convert `city_temp` to lists with `.split(',')`  \n\n\n```python\n# [ ] The Weather: use while loop to print city and highest monthly average temp in celsius\n\n\n```\n\n\n"
    },
    {
      "metadata": {
        "trusted": true
      },
      "cell_type": "code",
      "source": "# [] create The Weather\n!curl https://raw.githubusercontent.com/MicrosoftLearning/intropython/master/world_temp_mean.csv -o meanTemp.txt\nmeanTemp = open('meanTemp.txt', 'a+')\nmeanTemp.write(\"Rio de Janeiro,Brazil,30.0,18.0\\n\")\nmeanTemp.seek(0)\nheadings = meanTemp.readline().split(',')\ncityTemp = meanTemp.readlines()\nprint('\\n' + headings[0] + '\\t' + headings[1] + '\\t\\t' + headings[2] + '\\t\\t' + headings[3].strip('\\n'))\nfor x in cityTemp:\n    x = x.split(',')\n    print('The average high in', x[0], 'was', x[2])\n    \n",
      "execution_count": 14,
      "outputs": [
        {
          "output_type": "stream",
          "text": "  % Total    % Received % Xferd  Average Speed   Time    Time     Time  Current\n                                 Dload  Upload   Total   Spent    Left  Speed\n100   222  100   222    0     0   1751      0 --:--:-- --:--:-- --:--:--     0-:-- --:--:-- --:--:--  1865\n\ncity\tcountry\t\tmonth ave: highest high\t\tmonth ave: lowest low\nThe average high in Beijing was 30.9\nThe average high in Cairo was 34.7\nThe average high in London was 23.5\nThe average high in Nairobi was 26.3\nThe average high in New York City was 28.9\nThe average high in Sydney was 26.5\nThe average high in Tokyo was 30.8\nThe average high in Rio de Janeiro was 30.0\n",
          "name": "stdout"
        }
      ]
    },
    {
      "metadata": {},
      "cell_type": "markdown",
      "source": "[Terms of use](http://go.microsoft.com/fwlink/?LinkID=206977) &nbsp; [Privacy & cookies](https://go.microsoft.com/fwlink/?LinkId=521839) &nbsp; © 2017 Microsoft"
    }
  ],
  "metadata": {
    "anaconda-cloud": {},
    "kernelspec": {
      "name": "python3",
      "display_name": "Python 3",
      "language": "python"
    },
    "language_info": {
      "mimetype": "text/x-python",
      "nbconvert_exporter": "python",
      "name": "python",
      "file_extension": ".py",
      "version": "3.5.4",
      "pygments_lexer": "ipython3",
      "codemirror_mode": {
        "version": 3,
        "name": "ipython"
      }
    }
  },
  "nbformat": 4,
  "nbformat_minor": 1
}