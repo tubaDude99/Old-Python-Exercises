{
  "cells": [
    {
      "metadata": {
        "trusted": true
      },
      "cell_type": "code",
      "source": "print(type(\"Hello World!\"))\nprint(type(12))\nprint(type(3.14))\nprint(type(\"2.5\"))\nstudent_name = \"Jimmy\"\nprint(type(student_name))\ntodays_date = \"08-29-2019\"\nprint(type(todays_date))\ncircile_radius = 2.5\nprint(type(circile_radius))",
      "execution_count": 1,
      "outputs": [
        {
          "output_type": "stream",
          "text": "<class 'str'>\n<class 'int'>\n<class 'float'>\n<class 'str'>\n<class 'str'>\n<class 'str'>\n<class 'float'>\n",
          "name": "stdout"
        }
      ]
    }
  ],
  "metadata": {
    "kernelspec": {
      "name": "python36",
      "display_name": "Python 3.6",
      "language": "python"
    },
    "language_info": {
      "mimetype": "text/x-python",
      "nbconvert_exporter": "python",
      "name": "python",
      "pygments_lexer": "ipython3",
      "version": "3.6.6",
      "file_extension": ".py",
      "codemirror_mode": {
        "version": 3,
        "name": "ipython"
      }
    }
  },
  "nbformat": 4,
  "nbformat_minor": 2
}